{
 "cells": [
  {
   "cell_type": "code",
   "execution_count": null,
   "metadata": {
    "colab": {
     "base_uri": "https://localhost:8080/"
    },
    "executionInfo": {
     "elapsed": 94701,
     "status": "ok",
     "timestamp": 1737248872021,
     "user": {
      "displayName": "İbrahim Furkan",
      "userId": "03214658540359897285"
     },
     "user_tz": -180
    },
    "id": "L-zWo2cxKILj",
    "outputId": "00e3cdc2-89b4-45f1-e3b8-d693de17947c"
   },
   "outputs": [],
   "source": [
    "!pip install tsgm python-dotenv"
   ]
  },
  {
   "cell_type": "code",
   "execution_count": null,
   "metadata": {
    "colab": {
     "base_uri": "https://localhost:8080/"
    },
    "executionInfo": {
     "elapsed": 34061,
     "status": "ok",
     "timestamp": 1737248906058,
     "user": {
      "displayName": "İbrahim Furkan",
      "userId": "03214658540359897285"
     },
     "user_tz": -180
    },
    "id": "MF0d570Ln3in",
    "outputId": "b8779b40-a6f3-4d83-b212-bd0ebe1e93cd"
   },
   "outputs": [],
   "source": [
    "!pip install --upgrade tensorflow"
   ]
  },
  {
   "cell_type": "code",
   "execution_count": null,
   "metadata": {
    "colab": {
     "base_uri": "https://localhost:8080/"
    },
    "executionInfo": {
     "elapsed": 190935,
     "status": "ok",
     "timestamp": 1737249096981,
     "user": {
      "displayName": "İbrahim Furkan",
      "userId": "03214658540359897285"
     },
     "user_tz": -180
    },
    "id": "3ci30I094Z4O",
    "outputId": "b5d96227-2290-4a41-ed3d-adfe62894bf4"
   },
   "outputs": [],
   "source": [
    "import numpy as np # linear algebra\n",
    "import pandas as pd # data processing, CSV file I/O (e.g. pd.read_csv)\n",
    "import os\n",
    "import random\n",
    "import seaborn as sns\n",
    "from scipy import stats\n",
    "from collections import Counter\n",
    "import matplotlib.pyplot as plt\n",
    "import dotenv\n",
    "import gspread\n",
    "\n",
    "\n",
    "import sys\n",
    "from google.auth import default\n",
    "from google.colab import auth, drive\n",
    "\n",
    "\n",
    "from tqdm import tqdm\n",
    "from tqdm.notebook import tqdm\n",
    "\n",
    "tqdm.pandas()\n",
    "\n",
    "drive.mount('/content/drive', force_remount=True)\n",
    "\n",
    "dotenv.load_dotenv('/content/drive/MyDrive/.env')\n",
    "\n",
    "DELETE_FEATURE_SAMPLE = False\n",
    "DATASET_PROCEDURES = [\"DP_1\", \"DP_2\"]\n",
    "AUGMENTATION_SAMPLE_AMOUNT_BY_PROCEDURE = { \"AP_2\": 1, \"AP_3\": 1, \"AP_4\": 2, \"AP_5\" : 9, \"AP_6\" : 10, \"AP_6\" : 11, \"AP_7\" : 11, \"AP_8\" : 22, \"AP_9\" : 22 }\n",
    "AUGMENTATION_PROCEDURES = AUGMENTATION_SAMPLE_AMOUNT_BY_PROCEDURE.keys()\n",
    "MAIN_PATH = os.environ.get('MAIN_EXP_PATH')\n",
    "MAIN_PROCESSED_PATH = f\"{MAIN_PATH}(Processed)\"\n"
   ]
  },
  {
   "cell_type": "code",
   "execution_count": null,
   "metadata": {
    "executionInfo": {
     "elapsed": 12,
     "status": "ok",
     "timestamp": 1737249096981,
     "user": {
      "displayName": "İbrahim Furkan",
      "userId": "03214658540359897285"
     },
     "user_tz": -180
    },
    "id": "NhefU-8wnkUi"
   },
   "outputs": [],
   "source": [
    "util_script_path = os.environ.get('UTIL_SCRIPT_PATH')\n",
    "if util_script_path is not None:\n",
    "  sys.path.insert(0, util_script_path)\n",
    "else:\n",
    "  print(\"Warning: UTIL_SCRIPT_PATH environment variable is not set.\")\n",
    "  # Consider providing a default path or handling the error differently"
   ]
  },
  {
   "cell_type": "code",
   "execution_count": null,
   "metadata": {
    "executionInfo": {
     "elapsed": 2788,
     "status": "ok",
     "timestamp": 1737249099759,
     "user": {
      "displayName": "İbrahim Furkan",
      "userId": "03214658540359897285"
     },
     "user_tz": -180
    },
    "id": "My42JYh304Tb"
   },
   "outputs": [],
   "source": [
    "from analyze_and_transform_datasets import list_files_scandir, \\\n",
    "                                          get_formatted_values, \\\n",
    "                                          format_time_str, \\\n",
    "                                          get_sample_path, \\\n",
    "                                          read_datas_from_csv, \\\n",
    "                                          write_features_in_csv, \\\n",
    "                                          get_signal_metrics"
   ]
  },
  {
   "cell_type": "code",
   "execution_count": null,
   "metadata": {
    "colab": {
     "base_uri": "https://localhost:8080/"
    },
    "executionInfo": {
     "elapsed": 61870,
     "status": "ok",
     "timestamp": 1737249161622,
     "user": {
      "displayName": "İbrahim Furkan",
      "userId": "03214658540359897285"
     },
     "user_tz": -180
    },
    "id": "BVgZvQ9dXmbd",
    "outputId": "f4bb01dc-5c2b-45e9-da8a-f9e989f93317"
   },
   "outputs": [],
   "source": [
    "all_data_infos = {}\n",
    "allowed_files = [ 'ST.csv' ]\n",
    "for PROCEDURE_NAME in AUGMENTATION_PROCEDURES:\n",
    "  for idx in range(AUGMENTATION_SAMPLE_AMOUNT_BY_PROCEDURE[PROCEDURE_NAME]):\n",
    "    allowed_files.append(f'Aug-{PROCEDURE_NAME}-{(idx + 1)}_ST.csv')\n",
    "\n",
    "for DATASET_PROCEDURE in DATASET_PROCEDURES:\n",
    "  all_data_list = []\n",
    "  list_files_scandir(allowed_files, all_data_list, f'{MAIN_PROCESSED_PATH} {DATASET_PROCEDURE}', MAIN_PATH, True)\n",
    "  print(f'Number of files will be used in procedure {DATASET_PROCEDURE} : {len(all_data_list)}')\n",
    "  all_data_infos[DATASET_PROCEDURE] = all_data_list\n"
   ]
  },
  {
   "cell_type": "markdown",
   "metadata": {
    "id": "d3UnomIjK-6f"
   },
   "source": [
    "### Extracting Physiological Metrics"
   ]
  },
  {
   "cell_type": "markdown",
   "metadata": {
    "id": "TdVJLLweUBNS"
   },
   "source": [
    "#### - Skin Temperature(SKT)"
   ]
  },
  {
   "cell_type": "code",
   "execution_count": null,
   "metadata": {
    "colab": {
     "base_uri": "https://localhost:8080/",
     "height": 309
    },
    "executionInfo": {
     "elapsed": 559,
     "status": "ok",
     "timestamp": 1736795965216,
     "user": {
      "displayName": "İbrahim Furkan",
      "userId": "03214658540359897285"
     },
     "user_tz": -180
    },
    "id": "L0O2hoABaVcO",
    "outputId": "44c836ca-b19c-48f4-9229-c21435a274f4",
    "scrolled": true
   },
   "outputs": [],
   "source": [
    "random_procedure = random.sample(DATASET_PROCEDURES, 1)[0]\n",
    "random_samples = random.sample(all_data_infos[random_procedure], 3)\n",
    "\n",
    "print(f'Read from : {get_sample_path(random_samples[0], random_procedure, MAIN_PROCESSED_PATH)}')\n",
    "sample_df = read_datas_from_csv(random_samples[0], random_procedure, MAIN_PROCESSED_PATH)\n",
    "sample_df.head()"
   ]
  },
  {
   "cell_type": "code",
   "execution_count": null,
   "metadata": {
    "colab": {
     "base_uri": "https://localhost:8080/",
     "height": 1000
    },
    "executionInfo": {
     "elapsed": 340,
     "status": "ok",
     "timestamp": 1736795968448,
     "user": {
      "displayName": "İbrahim Furkan",
      "userId": "03214658540359897285"
     },
     "user_tz": -180
    },
    "id": "6F1S19vibYXD",
    "outputId": "54bdd889-d560-4641-d612-adc1b6f8d60d",
    "scrolled": true
   },
   "outputs": [],
   "source": [
    "get_signal_metrics(sample_df, 10, 'ST')"
   ]
  },
  {
   "cell_type": "code",
   "execution_count": null,
   "metadata": {
    "colab": {
     "base_uri": "https://localhost:8080/",
     "height": 1000,
     "referenced_widgets": [
      "ea9a8ffe7b454c65b4b1975af1b06028",
      "ddb9b0e31d2a45cc8b852c3f4ceae5cc",
      "fd86c439647a4a978d05f7fa74ec3858",
      "825b2de74ac6440597441e1c4899bd57",
      "303a319a1ba148b88cecace5c998e776",
      "db59ca3ff3634908bd9869f156f60eaf",
      "2312982790174adfb2dd694a3f05cdea",
      "4329fc3b015a4b76be49a4c28f3625e6",
      "e25c7e5a149942c59aa24e1d64777321",
      "40746d456a6347a2b4cfc33d1cab6cf4",
      "72d733ba65be42e39380ac6eb58fb574",
      "480e1517313c440f8ece960d77a103fd",
      "5d321057316e41a2b69fea0b9d1245c4",
      "b5d13ab5ef2f4d498778db1300269e9a",
      "fd4b745441144801af29dc72fe27236f",
      "444e4e3f80a045b5a965a84d0890c3b7",
      "b94d1d205ce5401eb282c9a6fbf3a40b",
      "befd3b15e29e49539a8563411f32bdef",
      "c16c52ce71f746c7a2be3d138e63a5fd",
      "e26ddebb7c06444987aa384aa071ac3b",
      "f905af5d70924cceb6e2b00350b26875",
      "f63b0f79cd284842ac7c7edda4176c97"
     ]
    },
    "executionInfo": {
     "elapsed": 300706,
     "status": "ok",
     "timestamp": 1737249626135,
     "user": {
      "displayName": "İbrahim Furkan",
      "userId": "03214658540359897285"
     },
     "user_tz": -180
    },
    "id": "nvVhNh0dWWlX",
    "outputId": "217dd4b1-230f-4a2d-d438-3df4256ca807"
   },
   "outputs": [],
   "source": [
    "\n",
    "for AUGMENTATION_PROCEDURE in AUGMENTATION_PROCEDURES:\n",
    "  for DATASET_PROCEDURE in DATASET_PROCEDURES:\n",
    "    for ST_file_idx in tqdm(range(len(all_data_infos[DATASET_PROCEDURE]))):\n",
    "      ST_file = all_data_infos[DATASET_PROCEDURE][ST_file_idx]\n",
    "      raw_dataframe = read_datas_from_csv(ST_file, DATASET_PROCEDURE, MAIN_PROCESSED_PATH)\n",
    "      for interval_value in [10, 30, 50, 70]:\n",
    "        if interval_value == 10:\n",
    "          write_features_in_csv(ST_file, raw_dataframe, interval_value, DATASET_PROCEDURE, 'ST', MAIN_PROCESSED_PATH, DELETE_FEATURE_SAMPLE, special_features=[], sampling_rate=4)\n"
   ]
  },
  {
   "cell_type": "code",
   "execution_count": null,
   "metadata": {
    "id": "MOGyVzYbWWch"
   },
   "outputs": [],
   "source": []
  }
 ],
 "metadata": {
  "colab": {
   "authorship_tag": "ABX9TyN1dr94jvxIKhsEIHtPg8+r",
   "machine_shape": "hm",
   "provenance": []
  },
  "kernelspec": {
   "display_name": "Python 3 (ipykernel)",
   "language": "python",
   "name": "python3"
  },
  "language_info": {
   "codemirror_mode": {
    "name": "ipython",
    "version": 3
   },
   "file_extension": ".py",
   "mimetype": "text/x-python",
   "name": "python",
   "nbconvert_exporter": "python",
   "pygments_lexer": "ipython3",
   "version": "3.9.13"
  },
  "varInspector": {
   "cols": {
    "lenName": 16,
    "lenType": 16,
    "lenVar": 40
   },
   "kernels_config": {
    "python": {
     "delete_cmd_postfix": "",
     "delete_cmd_prefix": "del ",
     "library": "var_list.py",
     "varRefreshCmd": "print(var_dic_list())"
    },
    "r": {
     "delete_cmd_postfix": ") ",
     "delete_cmd_prefix": "rm(",
     "library": "var_list.r",
     "varRefreshCmd": "cat(var_dic_list()) "
    }
   },
   "types_to_exclude": [
    "module",
    "function",
    "builtin_function_or_method",
    "instance",
    "_Feature"
   ],
   "window_display": false
  },
  "widgets": {
   "application/vnd.jupyter.widget-state+json": {
    "2312982790174adfb2dd694a3f05cdea": {
     "model_module": "@jupyter-widgets/controls",
     "model_module_version": "1.5.0",
     "model_name": "DescriptionStyleModel",
     "state": {
      "_model_module": "@jupyter-widgets/controls",
      "_model_module_version": "1.5.0",
      "_model_name": "DescriptionStyleModel",
      "_view_count": null,
      "_view_module": "@jupyter-widgets/base",
      "_view_module_version": "1.2.0",
      "_view_name": "StyleView",
      "description_width": ""
     }
    },
    "303a319a1ba148b88cecace5c998e776": {
     "model_module": "@jupyter-widgets/base",
     "model_module_version": "1.2.0",
     "model_name": "LayoutModel",
     "state": {
      "_model_module": "@jupyter-widgets/base",
      "_model_module_version": "1.2.0",
      "_model_name": "LayoutModel",
      "_view_count": null,
      "_view_module": "@jupyter-widgets/base",
      "_view_module_version": "1.2.0",
      "_view_name": "LayoutView",
      "align_content": null,
      "align_items": null,
      "align_self": null,
      "border": null,
      "bottom": null,
      "display": null,
      "flex": null,
      "flex_flow": null,
      "grid_area": null,
      "grid_auto_columns": null,
      "grid_auto_flow": null,
      "grid_auto_rows": null,
      "grid_column": null,
      "grid_gap": null,
      "grid_row": null,
      "grid_template_areas": null,
      "grid_template_columns": null,
      "grid_template_rows": null,
      "height": null,
      "justify_content": null,
      "justify_items": null,
      "left": null,
      "margin": null,
      "max_height": null,
      "max_width": null,
      "min_height": null,
      "min_width": null,
      "object_fit": null,
      "object_position": null,
      "order": null,
      "overflow": null,
      "overflow_x": null,
      "overflow_y": null,
      "padding": null,
      "right": null,
      "top": null,
      "visibility": null,
      "width": null
     }
    },
    "40746d456a6347a2b4cfc33d1cab6cf4": {
     "model_module": "@jupyter-widgets/base",
     "model_module_version": "1.2.0",
     "model_name": "LayoutModel",
     "state": {
      "_model_module": "@jupyter-widgets/base",
      "_model_module_version": "1.2.0",
      "_model_name": "LayoutModel",
      "_view_count": null,
      "_view_module": "@jupyter-widgets/base",
      "_view_module_version": "1.2.0",
      "_view_name": "LayoutView",
      "align_content": null,
      "align_items": null,
      "align_self": null,
      "border": null,
      "bottom": null,
      "display": null,
      "flex": null,
      "flex_flow": null,
      "grid_area": null,
      "grid_auto_columns": null,
      "grid_auto_flow": null,
      "grid_auto_rows": null,
      "grid_column": null,
      "grid_gap": null,
      "grid_row": null,
      "grid_template_areas": null,
      "grid_template_columns": null,
      "grid_template_rows": null,
      "height": null,
      "justify_content": null,
      "justify_items": null,
      "left": null,
      "margin": null,
      "max_height": null,
      "max_width": null,
      "min_height": null,
      "min_width": null,
      "object_fit": null,
      "object_position": null,
      "order": null,
      "overflow": null,
      "overflow_x": null,
      "overflow_y": null,
      "padding": null,
      "right": null,
      "top": null,
      "visibility": null,
      "width": null
     }
    },
    "4329fc3b015a4b76be49a4c28f3625e6": {
     "model_module": "@jupyter-widgets/base",
     "model_module_version": "1.2.0",
     "model_name": "LayoutModel",
     "state": {
      "_model_module": "@jupyter-widgets/base",
      "_model_module_version": "1.2.0",
      "_model_name": "LayoutModel",
      "_view_count": null,
      "_view_module": "@jupyter-widgets/base",
      "_view_module_version": "1.2.0",
      "_view_name": "LayoutView",
      "align_content": null,
      "align_items": null,
      "align_self": null,
      "border": null,
      "bottom": null,
      "display": null,
      "flex": null,
      "flex_flow": null,
      "grid_area": null,
      "grid_auto_columns": null,
      "grid_auto_flow": null,
      "grid_auto_rows": null,
      "grid_column": null,
      "grid_gap": null,
      "grid_row": null,
      "grid_template_areas": null,
      "grid_template_columns": null,
      "grid_template_rows": null,
      "height": null,
      "justify_content": null,
      "justify_items": null,
      "left": null,
      "margin": null,
      "max_height": null,
      "max_width": null,
      "min_height": null,
      "min_width": null,
      "object_fit": null,
      "object_position": null,
      "order": null,
      "overflow": null,
      "overflow_x": null,
      "overflow_y": null,
      "padding": null,
      "right": null,
      "top": null,
      "visibility": null,
      "width": null
     }
    },
    "444e4e3f80a045b5a965a84d0890c3b7": {
     "model_module": "@jupyter-widgets/base",
     "model_module_version": "1.2.0",
     "model_name": "LayoutModel",
     "state": {
      "_model_module": "@jupyter-widgets/base",
      "_model_module_version": "1.2.0",
      "_model_name": "LayoutModel",
      "_view_count": null,
      "_view_module": "@jupyter-widgets/base",
      "_view_module_version": "1.2.0",
      "_view_name": "LayoutView",
      "align_content": null,
      "align_items": null,
      "align_self": null,
      "border": null,
      "bottom": null,
      "display": null,
      "flex": null,
      "flex_flow": null,
      "grid_area": null,
      "grid_auto_columns": null,
      "grid_auto_flow": null,
      "grid_auto_rows": null,
      "grid_column": null,
      "grid_gap": null,
      "grid_row": null,
      "grid_template_areas": null,
      "grid_template_columns": null,
      "grid_template_rows": null,
      "height": null,
      "justify_content": null,
      "justify_items": null,
      "left": null,
      "margin": null,
      "max_height": null,
      "max_width": null,
      "min_height": null,
      "min_width": null,
      "object_fit": null,
      "object_position": null,
      "order": null,
      "overflow": null,
      "overflow_x": null,
      "overflow_y": null,
      "padding": null,
      "right": null,
      "top": null,
      "visibility": null,
      "width": null
     }
    },
    "480e1517313c440f8ece960d77a103fd": {
     "model_module": "@jupyter-widgets/controls",
     "model_module_version": "1.5.0",
     "model_name": "HBoxModel",
     "state": {
      "_dom_classes": [],
      "_model_module": "@jupyter-widgets/controls",
      "_model_module_version": "1.5.0",
      "_model_name": "HBoxModel",
      "_view_count": null,
      "_view_module": "@jupyter-widgets/controls",
      "_view_module_version": "1.5.0",
      "_view_name": "HBoxView",
      "box_style": "",
      "children": [
       "IPY_MODEL_5d321057316e41a2b69fea0b9d1245c4",
       "IPY_MODEL_b5d13ab5ef2f4d498778db1300269e9a",
       "IPY_MODEL_fd4b745441144801af29dc72fe27236f"
      ],
      "layout": "IPY_MODEL_444e4e3f80a045b5a965a84d0890c3b7"
     }
    },
    "5d321057316e41a2b69fea0b9d1245c4": {
     "model_module": "@jupyter-widgets/controls",
     "model_module_version": "1.5.0",
     "model_name": "HTMLModel",
     "state": {
      "_dom_classes": [],
      "_model_module": "@jupyter-widgets/controls",
      "_model_module_version": "1.5.0",
      "_model_name": "HTMLModel",
      "_view_count": null,
      "_view_module": "@jupyter-widgets/controls",
      "_view_module_version": "1.5.0",
      "_view_name": "HTMLView",
      "description": "",
      "description_tooltip": null,
      "layout": "IPY_MODEL_b94d1d205ce5401eb282c9a6fbf3a40b",
      "placeholder": "​",
      "style": "IPY_MODEL_befd3b15e29e49539a8563411f32bdef",
      "value": "100%"
     }
    },
    "72d733ba65be42e39380ac6eb58fb574": {
     "model_module": "@jupyter-widgets/controls",
     "model_module_version": "1.5.0",
     "model_name": "DescriptionStyleModel",
     "state": {
      "_model_module": "@jupyter-widgets/controls",
      "_model_module_version": "1.5.0",
      "_model_name": "DescriptionStyleModel",
      "_view_count": null,
      "_view_module": "@jupyter-widgets/base",
      "_view_module_version": "1.2.0",
      "_view_name": "StyleView",
      "description_width": ""
     }
    },
    "825b2de74ac6440597441e1c4899bd57": {
     "model_module": "@jupyter-widgets/controls",
     "model_module_version": "1.5.0",
     "model_name": "HTMLModel",
     "state": {
      "_dom_classes": [],
      "_model_module": "@jupyter-widgets/controls",
      "_model_module_version": "1.5.0",
      "_model_name": "HTMLModel",
      "_view_count": null,
      "_view_module": "@jupyter-widgets/controls",
      "_view_module_version": "1.5.0",
      "_view_name": "HTMLView",
      "description": "",
      "description_tooltip": null,
      "layout": "IPY_MODEL_40746d456a6347a2b4cfc33d1cab6cf4",
      "placeholder": "​",
      "style": "IPY_MODEL_72d733ba65be42e39380ac6eb58fb574",
      "value": " 924/924 [04:37&lt;00:00,  3.80it/s]"
     }
    },
    "b5d13ab5ef2f4d498778db1300269e9a": {
     "model_module": "@jupyter-widgets/controls",
     "model_module_version": "1.5.0",
     "model_name": "FloatProgressModel",
     "state": {
      "_dom_classes": [],
      "_model_module": "@jupyter-widgets/controls",
      "_model_module_version": "1.5.0",
      "_model_name": "FloatProgressModel",
      "_view_count": null,
      "_view_module": "@jupyter-widgets/controls",
      "_view_module_version": "1.5.0",
      "_view_name": "ProgressView",
      "bar_style": "success",
      "description": "",
      "description_tooltip": null,
      "layout": "IPY_MODEL_c16c52ce71f746c7a2be3d138e63a5fd",
      "max": 924,
      "min": 0,
      "orientation": "horizontal",
      "style": "IPY_MODEL_e26ddebb7c06444987aa384aa071ac3b",
      "value": 924
     }
    },
    "b94d1d205ce5401eb282c9a6fbf3a40b": {
     "model_module": "@jupyter-widgets/base",
     "model_module_version": "1.2.0",
     "model_name": "LayoutModel",
     "state": {
      "_model_module": "@jupyter-widgets/base",
      "_model_module_version": "1.2.0",
      "_model_name": "LayoutModel",
      "_view_count": null,
      "_view_module": "@jupyter-widgets/base",
      "_view_module_version": "1.2.0",
      "_view_name": "LayoutView",
      "align_content": null,
      "align_items": null,
      "align_self": null,
      "border": null,
      "bottom": null,
      "display": null,
      "flex": null,
      "flex_flow": null,
      "grid_area": null,
      "grid_auto_columns": null,
      "grid_auto_flow": null,
      "grid_auto_rows": null,
      "grid_column": null,
      "grid_gap": null,
      "grid_row": null,
      "grid_template_areas": null,
      "grid_template_columns": null,
      "grid_template_rows": null,
      "height": null,
      "justify_content": null,
      "justify_items": null,
      "left": null,
      "margin": null,
      "max_height": null,
      "max_width": null,
      "min_height": null,
      "min_width": null,
      "object_fit": null,
      "object_position": null,
      "order": null,
      "overflow": null,
      "overflow_x": null,
      "overflow_y": null,
      "padding": null,
      "right": null,
      "top": null,
      "visibility": null,
      "width": null
     }
    },
    "befd3b15e29e49539a8563411f32bdef": {
     "model_module": "@jupyter-widgets/controls",
     "model_module_version": "1.5.0",
     "model_name": "DescriptionStyleModel",
     "state": {
      "_model_module": "@jupyter-widgets/controls",
      "_model_module_version": "1.5.0",
      "_model_name": "DescriptionStyleModel",
      "_view_count": null,
      "_view_module": "@jupyter-widgets/base",
      "_view_module_version": "1.2.0",
      "_view_name": "StyleView",
      "description_width": ""
     }
    },
    "c16c52ce71f746c7a2be3d138e63a5fd": {
     "model_module": "@jupyter-widgets/base",
     "model_module_version": "1.2.0",
     "model_name": "LayoutModel",
     "state": {
      "_model_module": "@jupyter-widgets/base",
      "_model_module_version": "1.2.0",
      "_model_name": "LayoutModel",
      "_view_count": null,
      "_view_module": "@jupyter-widgets/base",
      "_view_module_version": "1.2.0",
      "_view_name": "LayoutView",
      "align_content": null,
      "align_items": null,
      "align_self": null,
      "border": null,
      "bottom": null,
      "display": null,
      "flex": null,
      "flex_flow": null,
      "grid_area": null,
      "grid_auto_columns": null,
      "grid_auto_flow": null,
      "grid_auto_rows": null,
      "grid_column": null,
      "grid_gap": null,
      "grid_row": null,
      "grid_template_areas": null,
      "grid_template_columns": null,
      "grid_template_rows": null,
      "height": null,
      "justify_content": null,
      "justify_items": null,
      "left": null,
      "margin": null,
      "max_height": null,
      "max_width": null,
      "min_height": null,
      "min_width": null,
      "object_fit": null,
      "object_position": null,
      "order": null,
      "overflow": null,
      "overflow_x": null,
      "overflow_y": null,
      "padding": null,
      "right": null,
      "top": null,
      "visibility": null,
      "width": null
     }
    },
    "db59ca3ff3634908bd9869f156f60eaf": {
     "model_module": "@jupyter-widgets/base",
     "model_module_version": "1.2.0",
     "model_name": "LayoutModel",
     "state": {
      "_model_module": "@jupyter-widgets/base",
      "_model_module_version": "1.2.0",
      "_model_name": "LayoutModel",
      "_view_count": null,
      "_view_module": "@jupyter-widgets/base",
      "_view_module_version": "1.2.0",
      "_view_name": "LayoutView",
      "align_content": null,
      "align_items": null,
      "align_self": null,
      "border": null,
      "bottom": null,
      "display": null,
      "flex": null,
      "flex_flow": null,
      "grid_area": null,
      "grid_auto_columns": null,
      "grid_auto_flow": null,
      "grid_auto_rows": null,
      "grid_column": null,
      "grid_gap": null,
      "grid_row": null,
      "grid_template_areas": null,
      "grid_template_columns": null,
      "grid_template_rows": null,
      "height": null,
      "justify_content": null,
      "justify_items": null,
      "left": null,
      "margin": null,
      "max_height": null,
      "max_width": null,
      "min_height": null,
      "min_width": null,
      "object_fit": null,
      "object_position": null,
      "order": null,
      "overflow": null,
      "overflow_x": null,
      "overflow_y": null,
      "padding": null,
      "right": null,
      "top": null,
      "visibility": null,
      "width": null
     }
    },
    "ddb9b0e31d2a45cc8b852c3f4ceae5cc": {
     "model_module": "@jupyter-widgets/controls",
     "model_module_version": "1.5.0",
     "model_name": "HTMLModel",
     "state": {
      "_dom_classes": [],
      "_model_module": "@jupyter-widgets/controls",
      "_model_module_version": "1.5.0",
      "_model_name": "HTMLModel",
      "_view_count": null,
      "_view_module": "@jupyter-widgets/controls",
      "_view_module_version": "1.5.0",
      "_view_name": "HTMLView",
      "description": "",
      "description_tooltip": null,
      "layout": "IPY_MODEL_db59ca3ff3634908bd9869f156f60eaf",
      "placeholder": "​",
      "style": "IPY_MODEL_2312982790174adfb2dd694a3f05cdea",
      "value": "100%"
     }
    },
    "e25c7e5a149942c59aa24e1d64777321": {
     "model_module": "@jupyter-widgets/controls",
     "model_module_version": "1.5.0",
     "model_name": "ProgressStyleModel",
     "state": {
      "_model_module": "@jupyter-widgets/controls",
      "_model_module_version": "1.5.0",
      "_model_name": "ProgressStyleModel",
      "_view_count": null,
      "_view_module": "@jupyter-widgets/base",
      "_view_module_version": "1.2.0",
      "_view_name": "StyleView",
      "bar_color": null,
      "description_width": ""
     }
    },
    "e26ddebb7c06444987aa384aa071ac3b": {
     "model_module": "@jupyter-widgets/controls",
     "model_module_version": "1.5.0",
     "model_name": "ProgressStyleModel",
     "state": {
      "_model_module": "@jupyter-widgets/controls",
      "_model_module_version": "1.5.0",
      "_model_name": "ProgressStyleModel",
      "_view_count": null,
      "_view_module": "@jupyter-widgets/base",
      "_view_module_version": "1.2.0",
      "_view_name": "StyleView",
      "bar_color": null,
      "description_width": ""
     }
    },
    "ea9a8ffe7b454c65b4b1975af1b06028": {
     "model_module": "@jupyter-widgets/controls",
     "model_module_version": "1.5.0",
     "model_name": "HBoxModel",
     "state": {
      "_dom_classes": [],
      "_model_module": "@jupyter-widgets/controls",
      "_model_module_version": "1.5.0",
      "_model_name": "HBoxModel",
      "_view_count": null,
      "_view_module": "@jupyter-widgets/controls",
      "_view_module_version": "1.5.0",
      "_view_name": "HBoxView",
      "box_style": "",
      "children": [
       "IPY_MODEL_ddb9b0e31d2a45cc8b852c3f4ceae5cc",
       "IPY_MODEL_fd86c439647a4a978d05f7fa74ec3858",
       "IPY_MODEL_825b2de74ac6440597441e1c4899bd57"
      ],
      "layout": "IPY_MODEL_303a319a1ba148b88cecace5c998e776"
     }
    },
    "f63b0f79cd284842ac7c7edda4176c97": {
     "model_module": "@jupyter-widgets/controls",
     "model_module_version": "1.5.0",
     "model_name": "DescriptionStyleModel",
     "state": {
      "_model_module": "@jupyter-widgets/controls",
      "_model_module_version": "1.5.0",
      "_model_name": "DescriptionStyleModel",
      "_view_count": null,
      "_view_module": "@jupyter-widgets/base",
      "_view_module_version": "1.2.0",
      "_view_name": "StyleView",
      "description_width": ""
     }
    },
    "f905af5d70924cceb6e2b00350b26875": {
     "model_module": "@jupyter-widgets/base",
     "model_module_version": "1.2.0",
     "model_name": "LayoutModel",
     "state": {
      "_model_module": "@jupyter-widgets/base",
      "_model_module_version": "1.2.0",
      "_model_name": "LayoutModel",
      "_view_count": null,
      "_view_module": "@jupyter-widgets/base",
      "_view_module_version": "1.2.0",
      "_view_name": "LayoutView",
      "align_content": null,
      "align_items": null,
      "align_self": null,
      "border": null,
      "bottom": null,
      "display": null,
      "flex": null,
      "flex_flow": null,
      "grid_area": null,
      "grid_auto_columns": null,
      "grid_auto_flow": null,
      "grid_auto_rows": null,
      "grid_column": null,
      "grid_gap": null,
      "grid_row": null,
      "grid_template_areas": null,
      "grid_template_columns": null,
      "grid_template_rows": null,
      "height": null,
      "justify_content": null,
      "justify_items": null,
      "left": null,
      "margin": null,
      "max_height": null,
      "max_width": null,
      "min_height": null,
      "min_width": null,
      "object_fit": null,
      "object_position": null,
      "order": null,
      "overflow": null,
      "overflow_x": null,
      "overflow_y": null,
      "padding": null,
      "right": null,
      "top": null,
      "visibility": null,
      "width": null
     }
    },
    "fd4b745441144801af29dc72fe27236f": {
     "model_module": "@jupyter-widgets/controls",
     "model_module_version": "1.5.0",
     "model_name": "HTMLModel",
     "state": {
      "_dom_classes": [],
      "_model_module": "@jupyter-widgets/controls",
      "_model_module_version": "1.5.0",
      "_model_name": "HTMLModel",
      "_view_count": null,
      "_view_module": "@jupyter-widgets/controls",
      "_view_module_version": "1.5.0",
      "_view_name": "HTMLView",
      "description": "",
      "description_tooltip": null,
      "layout": "IPY_MODEL_f905af5d70924cceb6e2b00350b26875",
      "placeholder": "​",
      "style": "IPY_MODEL_f63b0f79cd284842ac7c7edda4176c97",
      "value": " 924/924 [00:22&lt;00:00, 44.01it/s]"
     }
    },
    "fd86c439647a4a978d05f7fa74ec3858": {
     "model_module": "@jupyter-widgets/controls",
     "model_module_version": "1.5.0",
     "model_name": "FloatProgressModel",
     "state": {
      "_dom_classes": [],
      "_model_module": "@jupyter-widgets/controls",
      "_model_module_version": "1.5.0",
      "_model_name": "FloatProgressModel",
      "_view_count": null,
      "_view_module": "@jupyter-widgets/controls",
      "_view_module_version": "1.5.0",
      "_view_name": "ProgressView",
      "bar_style": "success",
      "description": "",
      "description_tooltip": null,
      "layout": "IPY_MODEL_4329fc3b015a4b76be49a4c28f3625e6",
      "max": 924,
      "min": 0,
      "orientation": "horizontal",
      "style": "IPY_MODEL_e25c7e5a149942c59aa24e1d64777321",
      "value": 924
     }
    }
   }
  }
 },
 "nbformat": 4,
 "nbformat_minor": 1
}
