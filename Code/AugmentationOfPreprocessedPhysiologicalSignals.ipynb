{
 "cells": [
  {
   "cell_type": "code",
   "execution_count": null,
   "metadata": {
    "colab": {
     "base_uri": "https://localhost:8080/"
    },
    "executionInfo": {
     "elapsed": 180249,
     "status": "ok",
     "timestamp": 1737529340089,
     "user": {
      "displayName": "İbrahim Furkan",
      "userId": "03214658540359897285"
     },
     "user_tz": -180
    },
    "id": "L-zWo2cxKILj",
    "outputId": "bec07279-ee59-4369-b25a-7331d5ee3b26"
   },
   "outputs": [],
   "source": [
    "!pip install tsgm python-dotenv"
   ]
  },
  {
   "cell_type": "code",
   "execution_count": null,
   "metadata": {
    "colab": {
     "base_uri": "https://localhost:8080/"
    },
    "executionInfo": {
     "elapsed": 130518,
     "status": "ok",
     "timestamp": 1737529470584,
     "user": {
      "displayName": "İbrahim Furkan",
      "userId": "03214658540359897285"
     },
     "user_tz": -180
    },
    "id": "3ci30I094Z4O",
    "outputId": "2ee288fc-b5bb-4a1f-c6e4-bef769f70acb"
   },
   "outputs": [],
   "source": [
    "\n",
    "import numpy as np # linear algebra\n",
    "import pandas as pd # data processing, CSV file I/O (e.g. pd.read_csv)\n",
    "import math\n",
    "import zipfile\n",
    "import os\n",
    "import shutil\n",
    "import random\n",
    "import re\n",
    "import seaborn as sns\n",
    "from scipy import stats, signal\n",
    "from collections import Counter\n",
    "import matplotlib.pyplot as plt\n",
    "import tsgm\n",
    "import csv\n",
    "import dotenv\n",
    "import gspread\n",
    "\n",
    "\n",
    "import sys\n",
    "from google.auth import default\n",
    "from google.colab import auth, drive\n",
    "from tqdm import tqdm\n",
    "from tqdm.notebook import tqdm\n",
    "\n",
    "tqdm.pandas()\n",
    "\n",
    "drive.mount('/content/drive', force_remount=True)\n",
    "\n",
    "dotenv.load_dotenv('/content/drive/MyDrive/.env')\n",
    "\n",
    "DELETE_AUG_SAMPLE = False\n",
    "DATASET_PROCEDURES = [\"DP_1\", \"DP_2\"]\n",
    "AUGMENTATION_SAMPLE_AMOUNT_BY_PROCEDURE = { \"AP_2\": 1, \"AP_3\": 1, \"AP_4\": 2, \"AP_5\" : 9, \"AP_6\" : 10, \"AP_6\" : 11, \"AP_7\" : 11, \"AP_8\" : 22, \"AP_9\" : 22}\n",
    "AUGMENTATION_PROCEDURES = AUGMENTATION_SAMPLE_AMOUNT_BY_PROCEDURE.keys()\n",
    "MAIN_PATH = os.environ.get('MAIN_EXP_PATH')\n",
    "MAIN_PROCESSED_PATH = f\"{MAIN_PATH}(Processed)\"\n",
    "\n"
   ]
  },
  {
   "cell_type": "code",
   "execution_count": null,
   "metadata": {
    "executionInfo": {
     "elapsed": 1812,
     "status": "ok",
     "timestamp": 1737529472393,
     "user": {
      "displayName": "İbrahim Furkan",
      "userId": "03214658540359897285"
     },
     "user_tz": -180
    },
    "id": "My42JYh304Tb"
   },
   "outputs": [],
   "source": [
    "sys.path.insert(0, os.environ.get('UTIL_SCRIPT_PATH'))\n",
    "from analyze_and_transform_datasets import list_files_scandir, \\\n",
    "                                          get_formatted_values, \\\n",
    "                                          format_time_str"
   ]
  },
  {
   "cell_type": "code",
   "execution_count": null,
   "metadata": {
    "colab": {
     "base_uri": "https://localhost:8080/"
    },
    "executionInfo": {
     "elapsed": 63704,
     "status": "ok",
     "timestamp": 1737529536095,
     "user": {
      "displayName": "İbrahim Furkan",
      "userId": "03214658540359897285"
     },
     "user_tz": -180
    },
    "id": "TFCQOLUdMUkM",
    "outputId": "a25ad46e-c171-45f9-b2e7-14be074cdaef"
   },
   "outputs": [],
   "source": [
    "\n",
    "all_data_infos = {}\n",
    "metric_file_list = [\"ST.csv\", \"EDA.csv\", \"EDA_Tonic.csv\", \"EDA_Phasic.csv\", \"BVP.csv\"]\n",
    "\n",
    "for DATASET_PROCEDURE in DATASET_PROCEDURES:\n",
    "  all_data_list = []\n",
    "  list_files_scandir(metric_file_list, all_data_list, f'{MAIN_PROCESSED_PATH} {DATASET_PROCEDURE}', MAIN_PATH)\n",
    "  print(f'Number of files will be used in procedure {DATASET_PROCEDURE} : {len(all_data_list)}')\n",
    "  all_data_infos[DATASET_PROCEDURE] = all_data_list\n"
   ]
  },
  {
   "cell_type": "markdown",
   "metadata": {
    "id": "d3UnomIjK-6f"
   },
   "source": [
    "### Physiological Metric Colleting"
   ]
  },
  {
   "cell_type": "markdown",
   "metadata": {
    "id": "8ZsNwXPq-9iD"
   },
   "source": [
    "From random sample , showing results."
   ]
  },
  {
   "cell_type": "code",
   "execution_count": null,
   "metadata": {
    "id": "Q5qLLmHjps-S"
   },
   "outputs": [],
   "source": [
    "random_procedure = random.sample(DATASET_PROCEDURES, 1)[0]\n",
    "random_samples = random.sample(all_data_infos[random_procedure], 3)"
   ]
  },
  {
   "cell_type": "code",
   "execution_count": null,
   "metadata": {
    "colab": {
     "base_uri": "https://localhost:8080/",
     "height": 449
    },
    "executionInfo": {
     "elapsed": 293,
     "status": "ok",
     "timestamp": 1736037697428,
     "user": {
      "displayName": "İbrahim Furkan",
      "userId": "03214658540359897285"
     },
     "user_tz": -180
    },
    "id": "O_t2v-_AKkUq",
    "outputId": "865c2514-af02-4b38-d43b-71e499d71778"
   },
   "outputs": [],
   "source": [
    "\n",
    "\n",
    "sample_path = MAIN_PROCESSED_PATH + ' ' + random_procedure + '/' + random_samples[0]['diagnose_result']\n",
    "sample_path += '/' + random_samples[0]['sample_name']\n",
    "sample_path += '/' + random_samples[0]['game_name']\n",
    "df = pd.read_csv(f'{sample_path}/ST.csv')\n",
    "#df.insert(df.shape[1], 'source_path', [sample_path for _ in range(df.shape[0])])\n",
    "if 'ST' in df.columns:\n",
    "  df = df.drop(columns=['ST'], axis=1)\n",
    "df = df.rename(columns={\"values\": \"ST_values\"})\n",
    "df['time'] = pd.to_datetime(df['time'].apply(format_time_str), unit='s')\n",
    "df = df.sort_values(by = 'time',ascending = True)\n",
    "df = df.set_index('time')\n",
    "df.head(10)"
   ]
  },
  {
   "cell_type": "code",
   "execution_count": null,
   "metadata": {
    "colab": {
     "base_uri": "https://localhost:8080/",
     "height": 449
    },
    "executionInfo": {
     "elapsed": 299,
     "status": "ok",
     "timestamp": 1736037700449,
     "user": {
      "displayName": "İbrahim Furkan",
      "userId": "03214658540359897285"
     },
     "user_tz": -180
    },
    "id": "9eVPUd31UuNp",
    "outputId": "11ec0e76-e048-4c16-c34d-f83bf67cf846"
   },
   "outputs": [],
   "source": [
    "st_values = df['ST_values'].apply(get_formatted_values).astype(np.float64).values\n",
    "df = pd.read_csv(f'{sample_path}/EDA.csv')\n",
    "if 'Unnamed: 0' in df.columns:\n",
    "  df = df.drop(columns=['Unnamed: 0'], axis=1)\n",
    "df = df.rename(columns={\"values\": \"EDA_values\"})\n",
    "df['time'] = pd.to_datetime(df['time'].apply(format_time_str), unit='s')\n",
    "df = df.sort_values(by = 'time',ascending = True)\n",
    "df = df.set_index('time')\n",
    "df.head(10)"
   ]
  },
  {
   "cell_type": "code",
   "execution_count": null,
   "metadata": {
    "id": "3WJveCsXUuF7"
   },
   "outputs": [],
   "source": [
    "eda_values = df['EDA_values'].apply(get_formatted_values).values\n",
    "df = pd.read_csv(f'{sample_path}/EDA_Tonic.csv')\n",
    "if 'Unnamed: 0' in df.columns:\n",
    "  df = df.drop(columns=['Unnamed: 0'], axis=1)\n",
    "df = df.rename(columns={\"values\": \"EDA_Tonic_values\"})\n",
    "df['time'] = pd.to_datetime(df['time'].apply(format_time_str), unit='s')\n",
    "df = df.sort_values(by = 'time',ascending = True)\n",
    "df = df.set_index('time')\n",
    "df.head(10)"
   ]
  },
  {
   "cell_type": "code",
   "execution_count": null,
   "metadata": {
    "colab": {
     "base_uri": "https://localhost:8080/",
     "height": 449
    },
    "executionInfo": {
     "elapsed": 723,
     "status": "ok",
     "timestamp": 1736037705295,
     "user": {
      "displayName": "İbrahim Furkan",
      "userId": "03214658540359897285"
     },
     "user_tz": -180
    },
    "id": "Dyewfv5qgy13",
    "outputId": "20378ed8-92b8-4622-9f2c-23400952a571"
   },
   "outputs": [],
   "source": [
    "eda_tonic_values = df['EDA_Tonic_values'].apply(get_formatted_values).values\n",
    "df = pd.read_csv(f'{sample_path}/EDA_Phasic.csv')\n",
    "if 'Unnamed: 0' in df.columns:\n",
    "  df = df.drop(columns=['Unnamed: 0'], axis=1)\n",
    "df = df.rename(columns={\"values\": \"EDA_Phasic_values\"})\n",
    "df['time'] = pd.to_datetime(df['time'].apply(format_time_str), unit='s')\n",
    "df = df.sort_values(by = 'time',ascending = True)\n",
    "df = df.set_index('time')\n",
    "df.head(10)"
   ]
  },
  {
   "cell_type": "code",
   "execution_count": null,
   "metadata": {
    "colab": {
     "base_uri": "https://localhost:8080/",
     "height": 449
    },
    "executionInfo": {
     "elapsed": 1133,
     "status": "ok",
     "timestamp": 1736037708122,
     "user": {
      "displayName": "İbrahim Furkan",
      "userId": "03214658540359897285"
     },
     "user_tz": -180
    },
    "id": "aGJKWWxIgzC_",
    "outputId": "f3edcf93-0fcb-4dfc-d7eb-e9f587ce1015"
   },
   "outputs": [],
   "source": [
    "eda_phasic_values = df['EDA_Phasic_values'].apply(get_formatted_values).values\n",
    "df = pd.read_csv(f'{sample_path}/BVP.csv')\n",
    "if 'Unnamed: 0' in df.columns:\n",
    "  df = df.drop(columns=['Unnamed: 0'], axis=1)\n",
    "df = df.rename(columns={\"values\": \"BVP_values\"})\n",
    "df['time'] = pd.to_datetime(df['time'].apply(format_time_str), unit='s')\n",
    "df = df.sort_values(by = 'time',ascending = True)\n",
    "df = df.set_index('time')\n",
    "bvp_values = df['BVP_values'].apply(get_formatted_values).values\n",
    "df.head(10)"
   ]
  },
  {
   "cell_type": "markdown",
   "metadata": {
    "id": "8qkVpWMH4cHq"
   },
   "source": [
    "#### Data Augmentation"
   ]
  },
  {
   "cell_type": "code",
   "execution_count": null,
   "metadata": {
    "id": "PDd9uWEmNzmL"
   },
   "outputs": [],
   "source": [
    "# from : https://towardsdatascience.com/time-series-augmentations-16237134b29b\n"
   ]
  },
  {
   "cell_type": "markdown",
   "metadata": {
    "id": "ki8BLzGyLRuE"
   },
   "source": [
    " Jittering / Gaussian Noise\n"
   ]
  },
  {
   "cell_type": "code",
   "execution_count": null,
   "metadata": {
    "colab": {
     "base_uri": "https://localhost:8080/",
     "height": 1000
    },
    "executionInfo": {
     "elapsed": 16290,
     "status": "ok",
     "timestamp": 1736037731340,
     "user": {
      "displayName": "İbrahim Furkan",
      "userId": "03214658540359897285"
     },
     "user_tz": -180
    },
    "id": "bqKvhNKLLaWM",
    "outputId": "f667dbd2-bd61-49e5-b2f4-3c39cdaa09c4"
   },
   "outputs": [],
   "source": [
    "aug_model = tsgm.models.augmentations.GaussianNoise()\n",
    "samples = np.zeros((X.shape[0] * 10  , X.shape[1], X.shape[2]))\n",
    "for feat in range(X.shape[2]):\n",
    "  resahpe_X = np.reshape(X[:, :, feat], (X.shape[0], X.shape[1], 1))\n",
    "  aug_result = aug_model.generate(X=resahpe_X, n_samples=X.shape[0] * 10, variance=0.2)\n",
    "  samples[:, :, feat] = np.reshape(aug_result, (aug_result.shape[0], aug_result.shape[1]))\n",
    "plot_samples_aug(X, samples)"
   ]
  },
  {
   "cell_type": "code",
   "execution_count": null,
   "metadata": {
    "colab": {
     "base_uri": "https://localhost:8080/",
     "height": 1000
    },
    "executionInfo": {
     "elapsed": 11834,
     "status": "ok",
     "timestamp": 1736037747484,
     "user": {
      "displayName": "İbrahim Furkan",
      "userId": "03214658540359897285"
     },
     "user_tz": -180
    },
    "id": "w8bB7apdcKiv",
    "outputId": "c038bba9-c98a-4e01-ab1b-2fa293768cc4"
   },
   "outputs": [],
   "source": [
    "\n",
    "samples = np.full((10, max_length, 5), np.nan)\n",
    "resahpe_X = np.reshape(st_values, (1, len(st_values), 1))\n",
    "aug_result = aug_model.generate(X=resahpe_X, n_samples=sample_matrix.shape[0] * 10, variance=0.3)\n",
    "samples[:, :len(st_values), 0] = np.reshape(aug_result, (aug_result.shape[0], aug_result.shape[1]))\n",
    "\n",
    "resahpe_X = np.reshape(eda_values, (1, len(eda_values), 1))\n",
    "aug_result = aug_model.generate(X=resahpe_X, n_samples=sample_matrix.shape[0] * 10, variance=0.3)\n",
    "samples[:, :len(eda_values), 1] = np.reshape(aug_result, (aug_result.shape[0], aug_result.shape[1]))\n",
    "\n",
    "resahpe_X = np.reshape(eda_tonic_values, (1, len(eda_tonic_values), 1))\n",
    "aug_result = aug_model.generate(X=resahpe_X, n_samples=sample_matrix.shape[0] * 10, variance=0.3)\n",
    "samples[:, :len(eda_tonic_values), 2] = np.reshape(aug_result, (aug_result.shape[0], aug_result.shape[1]))\n",
    "\n",
    "resahpe_X = np.reshape(eda_phasic_values, (1, len(eda_phasic_values), 1))\n",
    "aug_result = aug_model.generate(X=resahpe_X, n_samples=sample_matrix.shape[0] * 10, variance=0.3)\n",
    "samples[:, :len(eda_phasic_values), 3] = np.reshape(aug_result, (aug_result.shape[0], aug_result.shape[1]))\n",
    "\n",
    "resahpe_X = np.reshape(bvp_values, (1, len(bvp_values), 1))\n",
    "aug_result = aug_model.generate(X=resahpe_X, n_samples=sample_matrix.shape[0] * 10, variance=0.3)\n",
    "samples[:, :len(bvp_values), 4] = np.reshape(aug_result, (aug_result.shape[0], aug_result.shape[1]))\n",
    "\n",
    "plot_samples_aug(sample_matrix, samples, n_samples=1, n_samples_aug=5, name_features=True)"
   ]
  },
  {
   "cell_type": "markdown",
   "metadata": {
    "id": "hlEKEfRl8XxK"
   },
   "source": [
    "Magnitude Warping"
   ]
  },
  {
   "cell_type": "code",
   "execution_count": null,
   "metadata": {
    "colab": {
     "base_uri": "https://localhost:8080/",
     "height": 1000
    },
    "executionInfo": {
     "elapsed": 16348,
     "status": "ok",
     "timestamp": 1736037763828,
     "user": {
      "displayName": "İbrahim Furkan",
      "userId": "03214658540359897285"
     },
     "user_tz": -180
    },
    "id": "mlJdAadeQN1X",
    "outputId": "6fc8453f-a61f-496f-c1ed-f56b15ef059f"
   },
   "outputs": [],
   "source": [
    "aug_model = tsgm.models.augmentations.MagnitudeWarping()\n",
    "samples = np.zeros((X.shape[0] * 10  , X.shape[1], X.shape[2]))\n",
    "for feat in range(X.shape[2]):\n",
    "  resahpe_X = np.reshape(X[:, :, feat], (X.shape[0], X.shape[1], 1))\n",
    "  aug_result = aug_model.generate(X=resahpe_X, n_samples=X.shape[0] * 10, sigma=1)\n",
    "  samples[:, :, feat] = np.reshape(aug_result, (aug_result.shape[0], aug_result.shape[1]))\n",
    "# samples = aug_model.generate(X=X, n_samples=10, sigma=1)\n",
    "plot_samples_aug(X, samples)"
   ]
  },
  {
   "cell_type": "code",
   "execution_count": null,
   "metadata": {
    "colab": {
     "base_uri": "https://localhost:8080/",
     "height": 1000
    },
    "executionInfo": {
     "elapsed": 10786,
     "status": "ok",
     "timestamp": 1736037774605,
     "user": {
      "displayName": "İbrahim Furkan",
      "userId": "03214658540359897285"
     },
     "user_tz": -180
    },
    "id": "eeZ3GhD2KWrh",
    "outputId": "7f1ef8f3-e44d-40e7-8902-42dfb0939e33"
   },
   "outputs": [],
   "source": [
    "\n",
    "samples = np.full((10, max_length, 5), np.nan)\n",
    "resahpe_X = np.reshape(st_values, (1, len(st_values), 1))\n",
    "local_max = np.max(resahpe_X)\n",
    "local_min = np.min(resahpe_X)\n",
    "aug_result = aug_model.generate(X=resahpe_X, n_samples=sample_matrix.shape[0] * 10, sigma=0.2)\n",
    "samples[:, :len(st_values), 0] = np.reshape(aug_result, (aug_result.shape[0], aug_result.shape[1]))\n",
    "\n",
    "resahpe_X = np.reshape(eda_values, (1, len(eda_values), 1))\n",
    "local_max = np.max(resahpe_X)\n",
    "local_min = np.min(resahpe_X)\n",
    "aug_result = aug_model.generate(X=resahpe_X, n_samples=sample_matrix.shape[0] * 10, sigma=0.2)\n",
    "samples[:, :len(eda_values), 1] = np.reshape(aug_result, (aug_result.shape[0], aug_result.shape[1]))\n",
    "\n",
    "resahpe_X = np.reshape(eda_tonic_values, (1, len(eda_tonic_values), 1))\n",
    "local_max = np.max(resahpe_X)\n",
    "local_min = np.min(resahpe_X)\n",
    "aug_result = aug_model.generate(X=resahpe_X, n_samples=sample_matrix.shape[0] * 10, sigma=0.2)\n",
    "samples[:, :len(eda_tonic_values), 2] = np.reshape(aug_result, (aug_result.shape[0], aug_result.shape[1]))\n",
    "\n",
    "resahpe_X = np.reshape(eda_phasic_values, (1, len(eda_phasic_values), 1))\n",
    "local_max = np.max(resahpe_X)\n",
    "local_min = np.min(resahpe_X)\n",
    "aug_result = aug_model.generate(X=resahpe_X, n_samples=sample_matrix.shape[0] * 10, sigma=0.2)\n",
    "samples[:, :len(eda_phasic_values), 3] = np.reshape(aug_result, (aug_result.shape[0], aug_result.shape[1]))\n",
    "\n",
    "resahpe_X = np.reshape(bvp_values, (1, len(bvp_values), 1))\n",
    "local_max = np.max(resahpe_X)\n",
    "local_min = np.min(resahpe_X)\n",
    "aug_result = aug_model.generate(X=resahpe_X, n_samples=sample_matrix.shape[0] * 10, sigma=0.2)\n",
    "samples[:, :len(bvp_values), 4] = np.reshape(aug_result, (aug_result.shape[0], aug_result.shape[1]))\n",
    "\n",
    "plot_samples_aug(sample_matrix, samples, n_samples=1, n_samples_aug=5, name_features=True)"
   ]
  },
  {
   "cell_type": "markdown",
   "metadata": {
    "id": "YyUrO7e5gkXv"
   },
   "source": [
    "Both Jittering and Warping Applied"
   ]
  },
  {
   "cell_type": "code",
   "execution_count": null,
   "metadata": {
    "executionInfo": {
     "elapsed": 319,
     "status": "ok",
     "timestamp": 1737531658768,
     "user": {
      "displayName": "İbrahim Furkan",
      "userId": "03214658540359897285"
     },
     "user_tz": -180
    },
    "id": "Kszpvn4Wguug"
   },
   "outputs": [],
   "source": [
    "def get_constrained_augmented_smaples(original_value_list):\n",
    "\n",
    "  aug_model_jittering = tsgm.models.augmentations.GaussianNoise()\n",
    "  aug_model_warping = tsgm.models.augmentations.MagnitudeWarping()\n",
    "\n",
    "  max_length = np.max([len(original_values) for original_values in original_value_list])\n",
    "  # sample_matrix = np.full((1, max_length, len(metric_file_list)), np.nan)\n",
    "  # for metric_idx in range(len(metric_file_list)):\n",
    "  #   sample_matrix[0, :len(value_list[metric_idx]), metric_idx] = value_list[metric_idx]\n",
    "\n",
    "  aug_datas = {}\n",
    "\n",
    "  for AUGMENTATION_PROCEDURE in AUGMENTATION_PROCEDURES:\n",
    "    n_samples = AUGMENTATION_SAMPLE_AMOUNT_BY_PROCEDURE[AUGMENTATION_PROCEDURE]\n",
    "    samples = np.full((n_samples, max_length, len(metric_file_list)), np.nan)\n",
    "    for metric_idx in range(len(metric_file_list)):\n",
    "      value_list = original_value_list[metric_idx]\n",
    "      max_value = np.max(value_list)\n",
    "      min_value = np.min(value_list)\n",
    "      resahpe_X = np.reshape(value_list, (1, len(value_list), 1))\n",
    "      aug_result = resahpe_X.copy()\n",
    "      if AUGMENTATION_PROCEDURE == 'AP_2':\n",
    "        aug_result = aug_model_jittering.generate(X=resahpe_X, n_samples=n_samples, variance=0.3)\n",
    "      if AUGMENTATION_PROCEDURE == 'AP_3':\n",
    "        aug_result = aug_model_warping.generate(X=aug_result, n_samples=n_samples, sigma=0.15)\n",
    "      if AUGMENTATION_PROCEDURE == 'AP_5':\n",
    "        aug_result = aug_model_jittering.generate(X=resahpe_X, n_samples=int(n_samples / 3), variance=0.3)\n",
    "        aug_result = aug_model_warping.generate(X=aug_result, n_samples=n_samples, sigma=0.15)\n",
    "      if AUGMENTATION_PROCEDURE == 'AP_6' or AUGMENTATION_PROCEDURE == 'AP_8':\n",
    "        aug_result = aug_model_warping.generate(X=aug_result, n_samples=n_samples, sigma=0.2)\n",
    "      if AUGMENTATION_PROCEDURE == 'AP_7' or AUGMENTATION_PROCEDURE == 'AP_9':\n",
    "        aug_result = aug_model_jittering.generate(X=aug_result, n_samples=n_samples, variance=0.5)\n",
    "      samples[:, :len(value_list), metric_idx] = np.reshape(aug_result, (aug_result.shape[0], aug_result.shape[1]))\n",
    "\n",
    "    aug_datas[AUGMENTATION_PROCEDURE] = samples\n",
    "\n",
    "  return aug_datas\n",
    "\n"
   ]
  },
  {
   "cell_type": "code",
   "execution_count": null,
   "metadata": {
    "colab": {
     "base_uri": "https://localhost:8080/",
     "height": 1000
    },
    "executionInfo": {
     "elapsed": 19426,
     "status": "ok",
     "timestamp": 1736037794025,
     "user": {
      "displayName": "İbrahim Furkan",
      "userId": "03214658540359897285"
     },
     "user_tz": -180
    },
    "id": "g-DSCD5iUyWo",
    "outputId": "8aa604c0-b84b-4292-96cb-f5cc200f0774"
   },
   "outputs": [],
   "source": [
    "\n",
    "agg_sample_info = get_constrained_augmented_smaples([st_values, eda_values, eda_tonic_values, eda_phasic_values, bvp_values])\n",
    "for agg_sample_key in agg_sample_info.keys():\n",
    "  print(f'======================={agg_sample_key}======================')\n",
    "  plot_samples_aug(sample_matrix, agg_sample_info[agg_sample_key], n_samples=1, n_samples_aug=agg_sample_info[agg_sample_key].shape[0], name_features=True)"
   ]
  },
  {
   "cell_type": "markdown",
   "metadata": {
    "id": "djQUrsK9_IPa"
   },
   "source": [
    "Augment in all dataset values and write in augmented files"
   ]
  },
  {
   "cell_type": "code",
   "execution_count": null,
   "metadata": {
    "executionInfo": {
     "elapsed": 263,
     "status": "ok",
     "timestamp": 1737531723526,
     "user": {
      "displayName": "İbrahim Furkan",
      "userId": "03214658540359897285"
     },
     "user_tz": -180
    },
    "id": "UixLyNStDq8b"
   },
   "outputs": [],
   "source": [
    "\n",
    "def augment_sample(data_infos, dt_procedure):\n",
    "  sample_path = data_infos['diagnose_result']\n",
    "  sample_path += '/' + data_infos['sample_name']\n",
    "  sample_path += '/' + data_infos['game_name']\n",
    "  value_list = []\n",
    "  df_list = []\n",
    "  print(f'Reading values in file {sample_path} ...')\n",
    "  for metric_file in metric_file_list:\n",
    "    sample_file_path = f'{MAIN_PROCESSED_PATH} {dt_procedure}/{sample_path}/{metric_file}'\n",
    "    df = pd.read_csv(sample_file_path)\n",
    "    df['datetime'] = pd.to_datetime(df['time'].apply(format_time_str), unit='s')\n",
    "    df = df.sort_values(by = 'datetime',ascending = True)\n",
    "    df = df.set_index('datetime')\n",
    "    df_list.append(df.copy())\n",
    "    value_list.append(df['values'].apply(lambda x: get_formatted_values(x)).astype(np.float64))\n",
    "\n",
    "  agg_sample_info = get_constrained_augmented_smaples(value_list)\n",
    "\n",
    "  for agg_sample_key in agg_sample_info.keys():\n",
    "    samples = agg_sample_info[agg_sample_key]\n",
    "    for aug_sample_idx in range(samples.shape[0]):\n",
    "      for metric_idx, metric_file in enumerate(metric_file_list):\n",
    "        aug_df_copy = df_list[metric_idx].copy()\n",
    "        aug_df_copy['values'] = samples[aug_sample_idx, :len(value_list[metric_idx]), metric_idx]\n",
    "        aug_df_copy.index = np.array(range(len(value_list[metric_idx])))\n",
    "\n",
    "        if 'Unnamed: 0' in aug_df_copy.columns:\n",
    "          aug_df_copy = aug_df_copy.drop(columns=['Unnamed: 0'], axis=1)\n",
    "\n",
    "        augmented_file_name = f'{MAIN_PROCESSED_PATH} {dt_procedure}/{sample_path}/Aug-{agg_sample_key}-{(aug_sample_idx + 1)}_{metric_file}'\n",
    "        if os.path.exists(augmented_file_name):\n",
    "          if DELETE_AUG_SAMPLE:\n",
    "            os.remove(augmented_file_name)\n",
    "            aug_df_copy.to_csv(augmented_file_name, index=True)\n",
    "            print(f'{augmented_file_name} file recreated')\n",
    "          else:\n",
    "            print(f'{augmented_file_name} file already exist')\n",
    "        else:\n",
    "          aug_df_copy.to_csv(augmented_file_name, index=True)\n",
    "          print(f'{augmented_file_name} file created')\n",
    "\n"
   ]
  },
  {
   "cell_type": "code",
   "execution_count": null,
   "metadata": {
    "colab": {
     "base_uri": "https://localhost:8080/",
     "height": 1000,
     "referenced_widgets": [
      "7d9790ef64874f3bb0dfea3613867be4",
      "0f6f1650d8f547d49d3b35c712a5b3bb",
      "0f1b5ec83d0047b6b98c9abe705e1fd3",
      "29c6ab8837724f10ac25d4ead9ee9bd8",
      "cb8583c78bae46bb967852047780a92f",
      "b7665e880d2b45a588d3fa282bad798e",
      "0093dc80ff77429b9e94f5e2772b639b",
      "baa252835ade45959be1b27b739f5258",
      "07837aa3088d40478651d14b75e0c58d",
      "0a5889b49f664a228fceb5a3f349fce3",
      "a119fdb7bc4a43a0844383c464abd530"
     ]
    },
    "executionInfo": {
     "elapsed": 462501,
     "status": "ok",
     "timestamp": 1737532209927,
     "user": {
      "displayName": "İbrahim Furkan",
      "userId": "03214658540359897285"
     },
     "user_tz": -180
    },
    "id": "PPjUjOiP_2sT",
    "outputId": "32cf9c1f-3780-4f84-c41a-db764b30a208"
   },
   "outputs": [],
   "source": [
    "\n",
    "for DATASET_PROCEDURE in DATASET_PROCEDURES:\n",
    "  for data_infos_idx in tqdm(range(len(all_data_infos[DATASET_PROCEDURE])), desc=f'Training process for {DATASET_PROCEDURE} dataset procedure'):\n",
    "    data_infos = all_data_infos[DATASET_PROCEDURE][data_infos_idx]\n",
    "    augment_sample(data_infos, DATASET_PROCEDURE)\n",
    "\n",
    "print(\"Augmentation Completed!\")"
   ]
  },
  {
   "cell_type": "code",
   "execution_count": null,
   "metadata": {
    "id": "nmigeHFxc-q1"
   },
   "outputs": [],
   "source": []
  }
 ],
 "metadata": {
  "colab": {
   "provenance": []
  },
  "kernelspec": {
   "display_name": "Python 3 (ipykernel)",
   "language": "python",
   "name": "python3"
  },
  "language_info": {
   "codemirror_mode": {
    "name": "ipython",
    "version": 3
   },
   "file_extension": ".py",
   "mimetype": "text/x-python",
   "name": "python",
   "nbconvert_exporter": "python",
   "pygments_lexer": "ipython3",
   "version": "3.9.13"
  },
  "varInspector": {
   "cols": {
    "lenName": 16,
    "lenType": 16,
    "lenVar": 40
   },
   "kernels_config": {
    "python": {
     "delete_cmd_postfix": "",
     "delete_cmd_prefix": "del ",
     "library": "var_list.py",
     "varRefreshCmd": "print(var_dic_list())"
    },
    "r": {
     "delete_cmd_postfix": ") ",
     "delete_cmd_prefix": "rm(",
     "library": "var_list.r",
     "varRefreshCmd": "cat(var_dic_list()) "
    }
   },
   "types_to_exclude": [
    "module",
    "function",
    "builtin_function_or_method",
    "instance",
    "_Feature"
   ],
   "window_display": false
  },
  "widgets": {
   "application/vnd.jupyter.widget-state+json": {
    "0093dc80ff77429b9e94f5e2772b639b": {
     "model_module": "@jupyter-widgets/controls",
     "model_module_version": "1.5.0",
     "model_name": "DescriptionStyleModel",
     "state": {
      "_model_module": "@jupyter-widgets/controls",
      "_model_module_version": "1.5.0",
      "_model_name": "DescriptionStyleModel",
      "_view_count": null,
      "_view_module": "@jupyter-widgets/base",
      "_view_module_version": "1.2.0",
      "_view_name": "StyleView",
      "description_width": ""
     }
    },
    "07837aa3088d40478651d14b75e0c58d": {
     "model_module": "@jupyter-widgets/controls",
     "model_module_version": "1.5.0",
     "model_name": "ProgressStyleModel",
     "state": {
      "_model_module": "@jupyter-widgets/controls",
      "_model_module_version": "1.5.0",
      "_model_name": "ProgressStyleModel",
      "_view_count": null,
      "_view_module": "@jupyter-widgets/base",
      "_view_module_version": "1.2.0",
      "_view_name": "StyleView",
      "bar_color": null,
      "description_width": ""
     }
    },
    "0a5889b49f664a228fceb5a3f349fce3": {
     "model_module": "@jupyter-widgets/base",
     "model_module_version": "1.2.0",
     "model_name": "LayoutModel",
     "state": {
      "_model_module": "@jupyter-widgets/base",
      "_model_module_version": "1.2.0",
      "_model_name": "LayoutModel",
      "_view_count": null,
      "_view_module": "@jupyter-widgets/base",
      "_view_module_version": "1.2.0",
      "_view_name": "LayoutView",
      "align_content": null,
      "align_items": null,
      "align_self": null,
      "border": null,
      "bottom": null,
      "display": null,
      "flex": null,
      "flex_flow": null,
      "grid_area": null,
      "grid_auto_columns": null,
      "grid_auto_flow": null,
      "grid_auto_rows": null,
      "grid_column": null,
      "grid_gap": null,
      "grid_row": null,
      "grid_template_areas": null,
      "grid_template_columns": null,
      "grid_template_rows": null,
      "height": null,
      "justify_content": null,
      "justify_items": null,
      "left": null,
      "margin": null,
      "max_height": null,
      "max_width": null,
      "min_height": null,
      "min_width": null,
      "object_fit": null,
      "object_position": null,
      "order": null,
      "overflow": null,
      "overflow_x": null,
      "overflow_y": null,
      "padding": null,
      "right": null,
      "top": null,
      "visibility": null,
      "width": null
     }
    },
    "0f1b5ec83d0047b6b98c9abe705e1fd3": {
     "model_module": "@jupyter-widgets/controls",
     "model_module_version": "1.5.0",
     "model_name": "FloatProgressModel",
     "state": {
      "_dom_classes": [],
      "_model_module": "@jupyter-widgets/controls",
      "_model_module_version": "1.5.0",
      "_model_name": "FloatProgressModel",
      "_view_count": null,
      "_view_module": "@jupyter-widgets/controls",
      "_view_module_version": "1.5.0",
      "_view_name": "ProgressView",
      "bar_style": "success",
      "description": "",
      "description_tooltip": null,
      "layout": "IPY_MODEL_baa252835ade45959be1b27b739f5258",
      "max": 42,
      "min": 0,
      "orientation": "horizontal",
      "style": "IPY_MODEL_07837aa3088d40478651d14b75e0c58d",
      "value": 42
     }
    },
    "0f6f1650d8f547d49d3b35c712a5b3bb": {
     "model_module": "@jupyter-widgets/controls",
     "model_module_version": "1.5.0",
     "model_name": "HTMLModel",
     "state": {
      "_dom_classes": [],
      "_model_module": "@jupyter-widgets/controls",
      "_model_module_version": "1.5.0",
      "_model_name": "HTMLModel",
      "_view_count": null,
      "_view_module": "@jupyter-widgets/controls",
      "_view_module_version": "1.5.0",
      "_view_name": "HTMLView",
      "description": "",
      "description_tooltip": null,
      "layout": "IPY_MODEL_b7665e880d2b45a588d3fa282bad798e",
      "placeholder": "​",
      "style": "IPY_MODEL_0093dc80ff77429b9e94f5e2772b639b",
      "value": "Training process for DP_2 dataset procedure: 100%"
     }
    },
    "29c6ab8837724f10ac25d4ead9ee9bd8": {
     "model_module": "@jupyter-widgets/controls",
     "model_module_version": "1.5.0",
     "model_name": "HTMLModel",
     "state": {
      "_dom_classes": [],
      "_model_module": "@jupyter-widgets/controls",
      "_model_module_version": "1.5.0",
      "_model_name": "HTMLModel",
      "_view_count": null,
      "_view_module": "@jupyter-widgets/controls",
      "_view_module_version": "1.5.0",
      "_view_name": "HTMLView",
      "description": "",
      "description_tooltip": null,
      "layout": "IPY_MODEL_0a5889b49f664a228fceb5a3f349fce3",
      "placeholder": "​",
      "style": "IPY_MODEL_a119fdb7bc4a43a0844383c464abd530",
      "value": " 42/42 [07:42&lt;00:00,  8.90s/it]"
     }
    },
    "7d9790ef64874f3bb0dfea3613867be4": {
     "model_module": "@jupyter-widgets/controls",
     "model_module_version": "1.5.0",
     "model_name": "HBoxModel",
     "state": {
      "_dom_classes": [],
      "_model_module": "@jupyter-widgets/controls",
      "_model_module_version": "1.5.0",
      "_model_name": "HBoxModel",
      "_view_count": null,
      "_view_module": "@jupyter-widgets/controls",
      "_view_module_version": "1.5.0",
      "_view_name": "HBoxView",
      "box_style": "",
      "children": [
       "IPY_MODEL_0f6f1650d8f547d49d3b35c712a5b3bb",
       "IPY_MODEL_0f1b5ec83d0047b6b98c9abe705e1fd3",
       "IPY_MODEL_29c6ab8837724f10ac25d4ead9ee9bd8"
      ],
      "layout": "IPY_MODEL_cb8583c78bae46bb967852047780a92f"
     }
    },
    "a119fdb7bc4a43a0844383c464abd530": {
     "model_module": "@jupyter-widgets/controls",
     "model_module_version": "1.5.0",
     "model_name": "DescriptionStyleModel",
     "state": {
      "_model_module": "@jupyter-widgets/controls",
      "_model_module_version": "1.5.0",
      "_model_name": "DescriptionStyleModel",
      "_view_count": null,
      "_view_module": "@jupyter-widgets/base",
      "_view_module_version": "1.2.0",
      "_view_name": "StyleView",
      "description_width": ""
     }
    },
    "b7665e880d2b45a588d3fa282bad798e": {
     "model_module": "@jupyter-widgets/base",
     "model_module_version": "1.2.0",
     "model_name": "LayoutModel",
     "state": {
      "_model_module": "@jupyter-widgets/base",
      "_model_module_version": "1.2.0",
      "_model_name": "LayoutModel",
      "_view_count": null,
      "_view_module": "@jupyter-widgets/base",
      "_view_module_version": "1.2.0",
      "_view_name": "LayoutView",
      "align_content": null,
      "align_items": null,
      "align_self": null,
      "border": null,
      "bottom": null,
      "display": null,
      "flex": null,
      "flex_flow": null,
      "grid_area": null,
      "grid_auto_columns": null,
      "grid_auto_flow": null,
      "grid_auto_rows": null,
      "grid_column": null,
      "grid_gap": null,
      "grid_row": null,
      "grid_template_areas": null,
      "grid_template_columns": null,
      "grid_template_rows": null,
      "height": null,
      "justify_content": null,
      "justify_items": null,
      "left": null,
      "margin": null,
      "max_height": null,
      "max_width": null,
      "min_height": null,
      "min_width": null,
      "object_fit": null,
      "object_position": null,
      "order": null,
      "overflow": null,
      "overflow_x": null,
      "overflow_y": null,
      "padding": null,
      "right": null,
      "top": null,
      "visibility": null,
      "width": null
     }
    },
    "baa252835ade45959be1b27b739f5258": {
     "model_module": "@jupyter-widgets/base",
     "model_module_version": "1.2.0",
     "model_name": "LayoutModel",
     "state": {
      "_model_module": "@jupyter-widgets/base",
      "_model_module_version": "1.2.0",
      "_model_name": "LayoutModel",
      "_view_count": null,
      "_view_module": "@jupyter-widgets/base",
      "_view_module_version": "1.2.0",
      "_view_name": "LayoutView",
      "align_content": null,
      "align_items": null,
      "align_self": null,
      "border": null,
      "bottom": null,
      "display": null,
      "flex": null,
      "flex_flow": null,
      "grid_area": null,
      "grid_auto_columns": null,
      "grid_auto_flow": null,
      "grid_auto_rows": null,
      "grid_column": null,
      "grid_gap": null,
      "grid_row": null,
      "grid_template_areas": null,
      "grid_template_columns": null,
      "grid_template_rows": null,
      "height": null,
      "justify_content": null,
      "justify_items": null,
      "left": null,
      "margin": null,
      "max_height": null,
      "max_width": null,
      "min_height": null,
      "min_width": null,
      "object_fit": null,
      "object_position": null,
      "order": null,
      "overflow": null,
      "overflow_x": null,
      "overflow_y": null,
      "padding": null,
      "right": null,
      "top": null,
      "visibility": null,
      "width": null
     }
    },
    "cb8583c78bae46bb967852047780a92f": {
     "model_module": "@jupyter-widgets/base",
     "model_module_version": "1.2.0",
     "model_name": "LayoutModel",
     "state": {
      "_model_module": "@jupyter-widgets/base",
      "_model_module_version": "1.2.0",
      "_model_name": "LayoutModel",
      "_view_count": null,
      "_view_module": "@jupyter-widgets/base",
      "_view_module_version": "1.2.0",
      "_view_name": "LayoutView",
      "align_content": null,
      "align_items": null,
      "align_self": null,
      "border": null,
      "bottom": null,
      "display": null,
      "flex": null,
      "flex_flow": null,
      "grid_area": null,
      "grid_auto_columns": null,
      "grid_auto_flow": null,
      "grid_auto_rows": null,
      "grid_column": null,
      "grid_gap": null,
      "grid_row": null,
      "grid_template_areas": null,
      "grid_template_columns": null,
      "grid_template_rows": null,
      "height": null,
      "justify_content": null,
      "justify_items": null,
      "left": null,
      "margin": null,
      "max_height": null,
      "max_width": null,
      "min_height": null,
      "min_width": null,
      "object_fit": null,
      "object_position": null,
      "order": null,
      "overflow": null,
      "overflow_x": null,
      "overflow_y": null,
      "padding": null,
      "right": null,
      "top": null,
      "visibility": null,
      "width": null
     }
    }
   }
  }
 },
 "nbformat": 4,
 "nbformat_minor": 1
}
