{
 "cells": [
  {
   "cell_type": "code",
   "execution_count": null,
   "metadata": {},
   "outputs": [],
   "source": [
    "!pip install python-dotenv"
   ]
  },
  {
   "cell_type": "code",
   "execution_count": null,
   "metadata": {
    "colab": {
     "base_uri": "https://localhost:8080/"
    },
    "executionInfo": {
     "elapsed": 18628,
     "status": "ok",
     "timestamp": 1735493211688,
     "user": {
      "displayName": "İbrahim Furkan",
      "userId": "03214658540359897285"
     },
     "user_tz": -180
    },
    "id": "3ci30I094Z4O",
    "outputId": "267482b5-dee3-404e-a13b-e0543ad9c840"
   },
   "outputs": [],
   "source": [
    "import numpy as np # linear algebra\n",
    "import pandas as pd # data processing, CSV file I/O (e.g. pd.read_csv)\n",
    "import zipfile\n",
    "import os\n",
    "import random\n",
    "import seaborn as sns\n",
    "from scipy import stats, signal\n",
    "import shutil\n",
    "\n",
    "\n",
    "from google.colab import drive\n",
    "\n",
    "drive.mount('/content/drive', force_remount=True)\n",
    "\n",
    "dotenv.load_dotenv('/content/drive/MyDrive/.env')\n",
    "\n",
    "MAIN_PATH = os.environ.get('MAIN_EXP_PATH')\n",
    "MAIN_PROCESSED_PATH = f\"{MAIN_PATH}(Processed)\"\n",
    "DATASET_PROCEDURES = ['DP_1', 'DP_2']\n"
   ]
  },
  {
   "cell_type": "code",
   "execution_count": null,
   "metadata": {
    "colab": {
     "base_uri": "https://localhost:8080/"
    },
    "executionInfo": {
     "elapsed": 8077,
     "status": "ok",
     "timestamp": 1735493219763,
     "user": {
      "displayName": "İbrahim Furkan",
      "userId": "03214658540359897285"
     },
     "user_tz": -180
    },
    "id": "TFCQOLUdMUkM",
    "outputId": "11524398-d9cf-461e-ee59-f25b85360de7"
   },
   "outputs": [],
   "source": [
    "all_data_infos = []\n",
    "\n",
    "def list_files_scandir(path='.'):\n",
    "    with os.scandir(path) as entries:\n",
    "        for entry in entries:\n",
    "            if entry.is_file():\n",
    "                if entry.path.endswith(\"ST.csv\"):\n",
    "                  sample_components = entry.path.split(MAIN_PATH)[1].split('/')\n",
    "                  all_data_infos.append({\n",
    "                      'diagnose_result': sample_components[1],\n",
    "                      'sample_name': sample_components[2],\n",
    "                      'game_name': sample_components[3]\n",
    "                  })\n",
    "            elif entry.is_dir():\n",
    "                list_files_scandir(entry.path)\n",
    "\n",
    "list_files_scandir(MAIN_PATH)\n",
    "\n",
    "print(f'Number of files will be used : {len(all_data_infos)}')"
   ]
  },
  {
   "cell_type": "markdown",
   "metadata": {
    "id": "d3UnomIjK-6f"
   },
   "source": [
    "###Physiological Metric Colleting"
   ]
  },
  {
   "cell_type": "markdown",
   "metadata": {
    "id": "TdVJLLweUBNS"
   },
   "source": [
    "####- Skin Temperature"
   ]
  },
  {
   "cell_type": "code",
   "execution_count": null,
   "metadata": {
    "colab": {
     "base_uri": "https://localhost:8080/"
    },
    "executionInfo": {
     "elapsed": 431,
     "status": "ok",
     "timestamp": 1735493220191,
     "user": {
      "displayName": "İbrahim Furkan",
      "userId": "03214658540359897285"
     },
     "user_tz": -180
    },
    "id": "evRS6S1ZxwLs",
    "outputId": "9957b11f-c28d-4f03-96bc-1a9cd30fbf5d"
   },
   "outputs": [],
   "source": [
    "random_samples = random.sample(all_data_infos, 1)\n",
    "\n",
    "sample_path = MAIN_PATH + '/' + random_samples[0]['diagnose_result']\n",
    "sample_path += '/' + random_samples[0]['sample_name']\n",
    "sample_path += '/' + random_samples[0]['game_name']\n",
    "sample_path += '/ST.csv'\n",
    "print(sample_path)\n",
    "df = pd.read_csv(sample_path)"
   ]
  },
  {
   "cell_type": "code",
   "execution_count": null,
   "metadata": {
    "colab": {
     "base_uri": "https://localhost:8080/",
     "height": 335
    },
    "executionInfo": {
     "elapsed": 10,
     "status": "ok",
     "timestamp": 1735493220192,
     "user": {
      "displayName": "İbrahim Furkan",
      "userId": "03214658540359897285"
     },
     "user_tz": -180
    },
    "id": "UeiRtiwJUiHO",
    "outputId": "f3003c8b-db65-4599-b5a1-e107dd8ce6ea"
   },
   "outputs": [],
   "source": [
    "if 'ST' in df.columns and 'time' in df.columns:\n",
    "  df = df.drop(columns=['ST', 'time'], axis=1)\n",
    "df['values'] = df['values'].apply(lambda x: x.replace(',','.')).values.astype(np.float64)\n",
    "df['values'].describe()"
   ]
  },
  {
   "cell_type": "code",
   "execution_count": null,
   "metadata": {
    "colab": {
     "base_uri": "https://localhost:8080/",
     "height": 423
    },
    "executionInfo": {
     "elapsed": 8,
     "status": "ok",
     "timestamp": 1735493220192,
     "user": {
      "displayName": "İbrahim Furkan",
      "userId": "03214658540359897285"
     },
     "user_tz": -180
    },
    "id": "--TqLYaNjG2R",
    "outputId": "fda1f24e-c287-4ee1-9fa4-4addd9fad77f"
   },
   "outputs": [],
   "source": [
    "df[\"values\"] = (df[\"values\"] - df[\"values\"].min()) / (df[\"values\"].max() - df[\"values\"].min()) * 100\n",
    "df"
   ]
  },
  {
   "cell_type": "markdown",
   "metadata": {
    "id": "zO9wfTObjVB5"
   },
   "source": [
    "Apply all dataset values and show summaries"
   ]
  },
  {
   "cell_type": "code",
   "execution_count": null,
   "metadata": {
    "executionInfo": {
     "elapsed": 6,
     "status": "ok",
     "timestamp": 1735493220192,
     "user": {
      "displayName": "İbrahim Furkan",
      "userId": "03214658540359897285"
     },
     "user_tz": -180
    },
    "id": "S4w3-sJeEPrI"
   },
   "outputs": [],
   "source": [
    "min_treashold = -0.05"
   ]
  },
  {
   "cell_type": "code",
   "execution_count": null,
   "metadata": {
    "executionInfo": {
     "elapsed": 6,
     "status": "ok",
     "timestamp": 1735493220192,
     "user": {
      "displayName": "İbrahim Furkan",
      "userId": "03214658540359897285"
     },
     "user_tz": -180
    },
    "id": "hv9K5rQCEPl9"
   },
   "outputs": [],
   "source": [
    "def get_number_of_labels(sample_df_path):\n",
    "  experLabel_df = pd.read_csv(f'{sample_df_path}/ExpertLabels.csv')\n",
    "  number_of_labels = 0\n",
    "  for label_values in experLabel_df[['Expert1','Expert2','Expert3']].values[1:]:\n",
    "    if np.any([(label_value.__class__.__name__ == 'str') for label_value in label_values]):\n",
    "      number_of_labels += 1\n",
    "\n",
    "  return number_of_labels\n",
    "\n",
    "def get_formatted_values(bvp_value):\n",
    "  result_value = bvp_value\n",
    "  if type(bvp_value).__name__ == 'str':\n",
    "    result_value =bvp_value.replace(',','.')\n",
    "  return result_value\n",
    "\n",
    "def get_st_dataframe(data_infos):\n",
    "  sample_path = data_infos['diagnose_result'] # MAIN_PATH + '/' +\n",
    "  sample_path += '/' + data_infos['sample_name']\n",
    "  sample_path += '/' + data_infos['game_name']\n",
    "  print(f'Reading values in file {sample_path} ...')\n",
    "  df = pd.read_csv(f'{MAIN_PATH}/{sample_path}/ST.csv')\n",
    "  df.insert(df.shape[1], 'source_file', [sample_path for _ in range(df.shape[0])])\n",
    "  if 'ST' in df.columns:\n",
    "    df = df.drop(columns=['ST'], axis=1)\n",
    "  df['values'] = df['values'].apply(lambda x: get_formatted_values(x)).astype(np.float64)\n",
    "  number_of_labels = get_number_of_labels(f'{MAIN_PATH}/{sample_path}')\n",
    "  chnaged_rate = (df.shape[0] - (number_of_labels * 40)) / df.shape[0]\n",
    "  if chnaged_rate < min_treashold :\n",
    "    print(f\"Rate of losed values is higher than {min_treashold} as {chnaged_rate}\")\n",
    "    return None\n",
    "  df_copy = df.copy()\n",
    "  if chnaged_rate > 0:\n",
    "    df_copy = df.iloc[:, :(number_of_labels * 40)]\n",
    "  else:\n",
    "    df_copy = df.iloc[:, :(df.shape[0] - (df.shape[0] % 40))]\n",
    "  return df"
   ]
  },
  {
   "cell_type": "code",
   "execution_count": null,
   "metadata": {
    "colab": {
     "base_uri": "https://localhost:8080/",
     "height": 1000
    },
    "executionInfo": {
     "elapsed": 23664,
     "status": "ok",
     "timestamp": 1735493243851,
     "user": {
      "displayName": "İbrahim Furkan",
      "userId": "03214658540359897285"
     },
     "user_tz": -180
    },
    "id": "yg4FoIpTfROZ",
    "outputId": "12ef8ce6-8bfd-41b2-fffa-7e1f015f4b55"
   },
   "outputs": [],
   "source": [
    "\n",
    "all_st_dataframe = pd.DataFrame()\n",
    "for ST_file in all_data_infos:\n",
    "  st_dataframe = get_st_dataframe(ST_file)\n",
    "  all_st_dataframe = pd.concat([all_st_dataframe, st_dataframe])\n",
    "\n",
    "\n",
    "print(\"Gathering copmleted!\")\n",
    "all_st_dataframe.index = [idx for idx in range(all_st_dataframe.shape[0])]\n",
    "all_st_dataframe['values'].describe()\n",
    "all_st_dataframe.head()"
   ]
  },
  {
   "cell_type": "code",
   "execution_count": null,
   "metadata": {
    "colab": {
     "base_uri": "https://localhost:8080/",
     "height": 335
    },
    "executionInfo": {
     "elapsed": 7,
     "status": "ok",
     "timestamp": 1735493243851,
     "user": {
      "displayName": "İbrahim Furkan",
      "userId": "03214658540359897285"
     },
     "user_tz": -180
    },
    "id": "GceL2zupldfH",
    "outputId": "299848b3-50b0-4c10-9865-b25db581f344"
   },
   "outputs": [],
   "source": [
    "all_st_dataframe['values'].describe()"
   ]
  },
  {
   "cell_type": "markdown",
   "metadata": {
    "id": "aT_FOlJiHLYj"
   },
   "source": []
  },
  {
   "cell_type": "code",
   "execution_count": null,
   "metadata": {
    "colab": {
     "base_uri": "https://localhost:8080/"
    },
    "executionInfo": {
     "elapsed": 839,
     "status": "ok",
     "timestamp": 1735493374113,
     "user": {
      "displayName": "İbrahim Furkan",
      "userId": "03214658540359897285"
     },
     "user_tz": -180
    },
    "id": "tHcPplJGGytZ",
    "outputId": "8999bf38-9045-495c-b4e2-14cf0a353d0c"
   },
   "outputs": [],
   "source": [
    "\n",
    "main_process_path = f'{MAIN_PROCESSED_PATH} {DATASET_PROCEDURES[0]}'\n",
    "if not os.path.exists(main_process_path):\n",
    "  os.makedirs(main_process_path)\n",
    "\n",
    "for source_file_name in all_st_dataframe['source_file'].unique():\n",
    "  src_ST_file_path = MAIN_PATH\n",
    "  ST_file_path = main_process_path\n",
    "\n",
    "  for file_path in source_file_name.split('/'):\n",
    "    src_ST_file_path += f'/{file_path}'\n",
    "    ST_file_path += f'/{file_path}'\n",
    "    if not os.path.exists(ST_file_path):\n",
    "      os.makedirs(ST_file_path)\n",
    "\n",
    "  src_ST_file_name = f'{src_ST_file_path}/ST.csv'\n",
    "  ST_file_name = f'{ST_file_path}/ST.csv'\n",
    "\n",
    "  if os.path.exists(ST_file_name):\n",
    "    os.remove(ST_file_name)\n",
    "\n",
    "  if os.path.exists(src_ST_file_name):\n",
    "    shutil.copy(src_ST_file_name, ST_file_name)\n",
    "    print(f'{ST_file_name} file created')"
   ]
  },
  {
   "cell_type": "markdown",
   "metadata": {
    "id": "3zblt2fLHT76"
   },
   "source": []
  },
  {
   "cell_type": "code",
   "execution_count": null,
   "metadata": {
    "colab": {
     "base_uri": "https://localhost:8080/",
     "height": 335
    },
    "executionInfo": {
     "elapsed": 271,
     "status": "ok",
     "timestamp": 1735493394089,
     "user": {
      "displayName": "İbrahim Furkan",
      "userId": "03214658540359897285"
     },
     "user_tz": -180
    },
    "id": "qrxX4qKelcHE",
    "outputId": "fd50e180-9758-4617-c334-e8bf72da699e"
   },
   "outputs": [],
   "source": [
    "all_st_dataframe[\"values\"] = (all_st_dataframe[\"values\"] - all_st_dataframe[\"values\"].min()) / (all_st_dataframe[\"values\"].max() - all_st_dataframe[\"values\"].min()) * 100\n",
    "all_st_dataframe['values'].describe()"
   ]
  },
  {
   "cell_type": "code",
   "execution_count": null,
   "metadata": {
    "colab": {
     "base_uri": "https://localhost:8080/"
    },
    "executionInfo": {
     "elapsed": 2536,
     "status": "ok",
     "timestamp": 1735493400536,
     "user": {
      "displayName": "İbrahim Furkan",
      "userId": "03214658540359897285"
     },
     "user_tz": -180
    },
    "id": "7yfSwFj_osPa",
    "outputId": "f609e831-fbef-4bea-9f41-40e1f432a879"
   },
   "outputs": [],
   "source": [
    "\n",
    "main_process_path = f'{MAIN_PROCESSED_PATH} {DATASET_PROCEDURES[1]}'\n",
    "if not os.path.exists(main_process_path):\n",
    "  os.makedirs(main_process_path)\n",
    "\n",
    "for source_file_name in all_st_dataframe['source_file'].unique():\n",
    "  subset_all_st_dataframe = all_st_dataframe[all_st_dataframe['source_file'] == source_file_name].copy()\n",
    "  subset_all_st_dataframe.drop(columns=['source_file'], inplace=True)\n",
    "  ST_dataset = subset_all_st_dataframe.copy()\n",
    "  # ST_dataset.index = [idx for idx in range(ST_dataset.shape[0])]\n",
    "  ST_file_name = main_process_path\n",
    "\n",
    "  for file_path in source_file_name.split('/'):\n",
    "    ST_file_name += f'/{file_path}'\n",
    "    if not os.path.exists(ST_file_name):\n",
    "      os.makedirs(ST_file_name)\n",
    "\n",
    "  ST_file_name += '/ST.csv'\n",
    "  if os.path.exists(ST_file_name):\n",
    "    os.remove(ST_file_name)\n",
    "  ST_dataset.to_csv(ST_file_name, index=True)\n",
    "  print(f'{ST_file_name} file created')\n"
   ]
  },
  {
   "cell_type": "code",
   "execution_count": null,
   "metadata": {
    "id": "hJOrYzMNmSHM"
   },
   "outputs": [],
   "source": []
  }
 ],
 "metadata": {
  "colab": {
   "authorship_tag": "ABX9TyO8pAbpz9uKIc7w2IARMIOZ",
   "machine_shape": "hm",
   "provenance": []
  },
  "kernelspec": {
   "display_name": "Python 3 (ipykernel)",
   "language": "python",
   "name": "python3"
  },
  "language_info": {
   "codemirror_mode": {
    "name": "ipython",
    "version": 3
   },
   "file_extension": ".py",
   "mimetype": "text/x-python",
   "name": "python",
   "nbconvert_exporter": "python",
   "pygments_lexer": "ipython3",
   "version": "3.9.13"
  },
  "varInspector": {
   "cols": {
    "lenName": 16,
    "lenType": 16,
    "lenVar": 40
   },
   "kernels_config": {
    "python": {
     "delete_cmd_postfix": "",
     "delete_cmd_prefix": "del ",
     "library": "var_list.py",
     "varRefreshCmd": "print(var_dic_list())"
    },
    "r": {
     "delete_cmd_postfix": ") ",
     "delete_cmd_prefix": "rm(",
     "library": "var_list.r",
     "varRefreshCmd": "cat(var_dic_list()) "
    }
   },
   "types_to_exclude": [
    "module",
    "function",
    "builtin_function_or_method",
    "instance",
    "_Feature"
   ],
   "window_display": false
  }
 },
 "nbformat": 4,
 "nbformat_minor": 1
}
