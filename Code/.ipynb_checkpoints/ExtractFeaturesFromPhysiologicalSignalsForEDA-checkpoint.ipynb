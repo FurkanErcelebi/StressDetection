{
 "cells": [
  {
   "cell_type": "code",
   "execution_count": null,
   "metadata": {
    "colab": {
     "base_uri": "https://localhost:8080/"
    },
    "executionInfo": {
     "elapsed": 11607,
     "status": "ok",
     "timestamp": 1737248760017,
     "user": {
      "displayName": "İbrahim Furkan",
      "userId": "03214658540359897285"
     },
     "user_tz": -180
    },
    "id": "7TEfHHr_eq_h",
    "outputId": "0bb03e16-df26-4b02-92ad-8c38569ab018"
   },
   "outputs": [],
   "source": [
    "!pip install neurokit2 python-dotenv"
   ]
  },
  {
   "cell_type": "code",
   "execution_count": null,
   "metadata": {
    "colab": {
     "base_uri": "https://localhost:8080/"
    },
    "executionInfo": {
     "elapsed": 107596,
     "status": "ok",
     "timestamp": 1737248867593,
     "user": {
      "displayName": "İbrahim Furkan",
      "userId": "03214658540359897285"
     },
     "user_tz": -180
    },
    "id": "MF0d570Ln3in",
    "outputId": "ea756113-cf5d-47c7-e0a9-96a1025bb5bf"
   },
   "outputs": [],
   "source": [
    "!pip install --upgrade tensorflow"
   ]
  },
  {
   "cell_type": "code",
   "execution_count": null,
   "metadata": {
    "colab": {
     "base_uri": "https://localhost:8080/"
    },
    "executionInfo": {
     "elapsed": 49424,
     "status": "ok",
     "timestamp": 1737248917006,
     "user": {
      "displayName": "İbrahim Furkan",
      "userId": "03214658540359897285"
     },
     "user_tz": -180
    },
    "id": "vt-SVxYC1U1b",
    "outputId": "8d00c1ce-da81-45da-b2f8-91b51ba6bfa2"
   },
   "outputs": [],
   "source": [
    "import numpy as np # linear algebra\n",
    "import pandas as pd # data processing, CSV file I/O (e.g. pd.read_csv)\n",
    "import os\n",
    "import random\n",
    "import seaborn as sns\n",
    "from scipy import stats\n",
    "from collections import Counter\n",
    "import neurokit2 as nk\n",
    "import matplotlib.pyplot as plt\n",
    "import dotenv\n",
    "import gspread\n",
    "\n",
    "import sys\n",
    "from google.auth import default\n",
    "from google.colab import auth, drive\n",
    "\n",
    "\n",
    "from tqdm import tqdm\n",
    "from tqdm.notebook import tqdm\n",
    "\n",
    "tqdm.pandas()\n",
    "\n",
    "drive.mount('/content/drive', force_remount=True)\n",
    "\n",
    "dotenv.load_dotenv('/content/drive/MyDrive/.env')\n",
    "\n",
    "DELETE_FEATURE_SAMPLE = False\n",
    "DATASET_PROCEDURES = [\"DP_1\", \"DP_2\"]\n",
    "AUGMENTATION_SAMPLE_AMOUNT_BY_PROCEDURE = {\"AP_2\": 1, \"AP_3\": 1, \"AP_5\" : 9, \"AP_6\": 11, \"AP_7\": 11, \"AP_8\": 22, \"AP_9\": 22}\n",
    "AUGMENTATION_PROCEDURES = AUGMENTATION_SAMPLE_AMOUNT_BY_PROCEDURE.keys()\n",
    "MAIN_PATH = os.environ.get('MAIN_EXP_PATH')\n",
    "MAIN_PROCESSED_PATH = f\"{MAIN_PATH}(Processed)\"\n"
   ]
  },
  {
   "cell_type": "code",
   "execution_count": null,
   "metadata": {
    "executionInfo": {
     "elapsed": 8,
     "status": "ok",
     "timestamp": 1737248917007,
     "user": {
      "displayName": "İbrahim Furkan",
      "userId": "03214658540359897285"
     },
     "user_tz": -180
    },
    "id": "NhefU-8wnkUi"
   },
   "outputs": [],
   "source": [
    "util_script_path = os.environ.get('UTIL_SCRIPT_PATH')\n",
    "if util_script_path is not None:\n",
    "  sys.path.insert(0, util_script_path)\n",
    "else:\n",
    "  print(\"Warning: UTIL_SCRIPT_PATH environment variable is not set.\")\n",
    "  # Consider providing a default path or handling the error differently"
   ]
  },
  {
   "cell_type": "code",
   "execution_count": null,
   "metadata": {
    "executionInfo": {
     "elapsed": 1890,
     "status": "ok",
     "timestamp": 1737248918891,
     "user": {
      "displayName": "İbrahim Furkan",
      "userId": "03214658540359897285"
     },
     "user_tz": -180
    },
    "id": "My42JYh304Tb"
   },
   "outputs": [],
   "source": [
    "from analyze_and_transform_datasets import list_files_scandir, \\\n",
    "                                          get_formatted_values, \\\n",
    "                                          format_time_str, \\\n",
    "                                          get_sample_path, \\\n",
    "                                          read_datas_from_csv, \\\n",
    "                                          get_labels_df, \\\n",
    "                                          write_features_in_csv, \\\n",
    "                                          get_signal_metrics"
   ]
  },
  {
   "cell_type": "code",
   "execution_count": null,
   "metadata": {
    "colab": {
     "base_uri": "https://localhost:8080/"
    },
    "executionInfo": {
     "elapsed": 72211,
     "status": "ok",
     "timestamp": 1737248991096,
     "user": {
      "displayName": "İbrahim Furkan",
      "userId": "03214658540359897285"
     },
     "user_tz": -180
    },
    "id": "zCmQp7jr2X4R",
    "outputId": "90d06216-1de9-4dc1-c105-6857b480e16b"
   },
   "outputs": [],
   "source": [
    "\n",
    "all_EDA_infos = {}\n",
    "EDA_files = []\n",
    "all_EDA_Phasic_infos = {}\n",
    "EDA_Phasic_files = []\n",
    "all_EDA_Tonic_infos = {}\n",
    "EDA_Tonic_files = []\n",
    "\n",
    "allowed_EDA_files = [] #'EDA.csv'\n",
    "allowed_EDA_Phasic_files = [] #'EDA_Phasic.csv'\n",
    "allowed_EDA_Tonic_files = [] #'EDA_Tonic.csv'\n",
    "\n",
    "for PROCEDURE_NAME in AUGMENTATION_PROCEDURES:\n",
    "  for idx in range(AUGMENTATION_SAMPLE_AMOUNT_BY_PROCEDURE[PROCEDURE_NAME]):\n",
    "    allowed_EDA_files.append(f'Aug-{PROCEDURE_NAME}-{(idx + 1)}_EDA.csv')\n",
    "    allowed_EDA_Phasic_files.append(f'Aug-{PROCEDURE_NAME}-{(idx + 1)}_EDA_Phasic.csv')\n",
    "    allowed_EDA_Tonic_files.append(f'Aug-{PROCEDURE_NAME}-{(idx + 1)}_EDA_Tonic.csv')\n",
    "\n",
    "for DATASET_PROCEDURE in DATASET_PROCEDURES:\n",
    "  EDA_files = []\n",
    "  EDA_Phasic_files = []\n",
    "  EDA_Tonic_files = []\n",
    "  list_files_scandir(allowed_EDA_files, EDA_files, f'{MAIN_PROCESSED_PATH} {DATASET_PROCEDURE}', MAIN_PATH, True)\n",
    "  list_files_scandir(allowed_EDA_Phasic_files, EDA_Phasic_files, f'{MAIN_PROCESSED_PATH} {DATASET_PROCEDURE}', MAIN_PATH, True)\n",
    "  list_files_scandir(allowed_EDA_Tonic_files, EDA_Tonic_files, f'{MAIN_PROCESSED_PATH} {DATASET_PROCEDURE}', MAIN_PATH, True)\n",
    "  print(f'Number of files will be used in procedure {DATASET_PROCEDURE}: {np.sum([len(EDA_files), len(EDA_Phasic_files), len(EDA_Tonic_files)])}')\n",
    "  all_EDA_infos[DATASET_PROCEDURE] = EDA_files\n",
    "  all_EDA_Phasic_infos[DATASET_PROCEDURE] = EDA_Phasic_files\n",
    "  all_EDA_Tonic_infos[DATASET_PROCEDURE] = EDA_Tonic_files"
   ]
  },
  {
   "cell_type": "markdown",
   "metadata": {
    "id": "d3UnomIjK-6f"
   },
   "source": [
    "### Extracting Physiological Metrics"
   ]
  },
  {
   "cell_type": "markdown",
   "metadata": {
    "id": "TdVJLLweUBNS"
   },
   "source": [
    "#### - Electrodermal Activity(EDA)"
   ]
  },
  {
   "cell_type": "code",
   "execution_count": null,
   "metadata": {
    "id": "MrXtBEZnSmJZ"
   },
   "outputs": [],
   "source": [
    "random_procedure = random.sample(DATASET_PROCEDURES, 1)[0]\n",
    "random_samples = random.sample(all_EDA_infos[random_procedure], 3)\n",
    "\n",
    "\n",
    "random_samples = random.sample(EDA_files, 1)"
   ]
  },
  {
   "cell_type": "code",
   "execution_count": null,
   "metadata": {
    "colab": {
     "base_uri": "https://localhost:8080/",
     "height": 309
    },
    "executionInfo": {
     "elapsed": 246,
     "status": "ok",
     "timestamp": 1737050949373,
     "user": {
      "displayName": "İbrahim Furkan",
      "userId": "03214658540359897285"
     },
     "user_tz": -180
    },
    "id": "evRS6S1ZxwLs",
    "outputId": "0a12d21f-ff8f-4feb-bef4-43f4dd4b2d78"
   },
   "outputs": [],
   "source": [
    "\n",
    "\n",
    "sample_path = MAIN_PROCESSED_PATH + ' ' + random_procedure + '/' + random_samples[0]['diagnose_result']\n",
    "sample_path += '/' + random_samples[0]['sample_name']\n",
    "sample_path += '/' + random_samples[0]['game_name']\n",
    "sample_path += '/' + random_samples[0]['file_name']\n",
    "print(f'Read from : {sample_path}')\n",
    "df = pd.read_csv(sample_path)\n",
    "df['time'] = pd.to_datetime(df['time'].str.replace(',', '.'), unit='s')\n",
    "df.index_col = 'time'\n",
    "df.index = df['time']\n",
    "df.head()"
   ]
  },
  {
   "cell_type": "code",
   "execution_count": null,
   "metadata": {
    "colab": {
     "base_uri": "https://localhost:8080/",
     "height": 843
    },
    "executionInfo": {
     "elapsed": 2320,
     "status": "ok",
     "timestamp": 1737045949264,
     "user": {
      "displayName": "İbrahim Furkan",
      "userId": "03214658540359897285"
     },
     "user_tz": -180
    },
    "id": "zoM8JgbHT14w",
    "outputId": "b4a260ea-35a1-4cdd-80dc-c03679b12b78"
   },
   "outputs": [],
   "source": [
    "\n",
    "df_values = df.loc[df['time'].values[0]: (df['time'].values[0]+ np.timedelta64(10, 's')), 'values']\n",
    "if len(df_values) > 0:\n",
    "  zero_crossings = nk.signal_zerocrossings(df_values.values)\n",
    "  info = nk.signal_findpeaks(df_values.values)\n",
    "  info2 = nk.signal_findpeaks(-df_values.values)\n",
    "  nk.events_plot([info2[\"Peaks\"], info[\"Peaks\"], zero_crossings], df_values.values)\n",
    "  _ , info3 = nk.eda_peaks(df_values.values, sampling_rate=4)\n",
    "  nk.events_plot([info3[\"SCR_Peaks\"]], df_values.values)"
   ]
  },
  {
   "cell_type": "code",
   "execution_count": null,
   "metadata": {
    "executionInfo": {
     "elapsed": 318,
     "status": "ok",
     "timestamp": 1737249110522,
     "user": {
      "displayName": "İbrahim Furkan",
      "userId": "03214658540359897285"
     },
     "user_tz": -180
    },
    "id": "kVYN0lmB6Ebk"
   },
   "outputs": [],
   "source": [
    "def get_eda_metrics(df_values, sample_rate = 100):\n",
    "\n",
    "  statistic_values = {'eda_zero_cross': np.nan, 'eda_positive_peak': np.nan, 'eda_negative_peak': np.nan}\n",
    "\n",
    "  df_values_array = df_values.values\n",
    "  try:\n",
    "    zero_crossings = nk.signal_zerocrossings(df_values_array)\n",
    "    statistic_values['eda_zero_cross'] = len(zero_crossings)\n",
    "  except Exception as e:\n",
    "    print(e)\n",
    "    print(\"EDA zero crossings cannot calculated\")\n",
    "\n",
    "  try:\n",
    "    positive_peaks = nk.signal_findpeaks(df_values_array)\n",
    "    statistic_values['eda_positive_peak'] = len(positive_peaks[\"Peaks\"])\n",
    "  except Exception as e:\n",
    "    print(e)\n",
    "    print(\"EDA positive peaks cannot calculated\")\n",
    "\n",
    "  try:\n",
    "    negative_peaks = nk.signal_findpeaks(-df_values_array)\n",
    "    statistic_values['eda_negative_peak'] = len(negative_peaks[\"Peaks\"])\n",
    "  except Exception as e:\n",
    "    print(e)\n",
    "    print(\"EDA negative peaks cannot calculated\")\n",
    "\n",
    "  return statistic_values\n",
    "\n",
    "\n",
    "def get_scl_metrics(df_values, sample_rate = 100):\n",
    "  statistic_values = {'scl_zero_cross': np.nan, 'scl_positive_peak': np.nan, 'scl_negative_peak': np.nan}\n",
    "\n",
    "  df_values_array = df_values.values\n",
    "  try:\n",
    "    zero_crossings = nk.signal_zerocrossings(df_values_array)\n",
    "    statistic_values['scl_zero_cross'] = len(zero_crossings)\n",
    "  except Exception as e:\n",
    "    print(e)\n",
    "    print(\"SCL zero crossings cannot calculated\")\n",
    "\n",
    "  try:\n",
    "    positive_peaks = nk.signal_findpeaks(df_values_array)\n",
    "    statistic_values['scl_positive_peak'] = len(positive_peaks[\"Peaks\"])\n",
    "  except Exception as e:\n",
    "    print(e)\n",
    "    print(\"SCL positive peaks cannot calculated\")\n",
    "\n",
    "  try:\n",
    "    negative_peaks = nk.signal_findpeaks(-df_values_array)\n",
    "    statistic_values['scl_negative_peak'] = len(negative_peaks[\"Peaks\"])\n",
    "  except Exception as e:\n",
    "    print(e)\n",
    "    print(\"SCL negative peaks cannot calculated\")\n",
    "\n",
    "  return statistic_values\n",
    "\n",
    "\n",
    "def get_scr_metrics(df_values, sample_rate = 100):\n",
    "\n",
    "  statistic_values = {'scr_zero_cross': np.nan, 'scr_positive_peak': np.nan, 'scr_negative_peak': np.nan}\n",
    "\n",
    "  df_values_array = df_values.values\n",
    "  try:\n",
    "    zero_crossings = nk.signal_zerocrossings(df_values_array)\n",
    "    statistic_values['scr_zero_cross'] = len(zero_crossings)\n",
    "  except Exception as e:\n",
    "    print(e)\n",
    "    print(\"SCR zero crossings cannot calculated\")\n",
    "\n",
    "  try:\n",
    "    _ , info = nk.eda_peaks(df_values_array, sampling_rate=sample_rate)\n",
    "    statistic_values['scr_positive_peak'] = len(info[\"SCR_Peaks\"])\n",
    "  except Exception as e:\n",
    "    print(e)\n",
    "    print(\"SCR positive peaks cannot calculated\")\n",
    "\n",
    "  try:\n",
    "    _ , info = nk.eda_peaks(-df_values_array, sampling_rate=sample_rate)\n",
    "    statistic_values['scr_negative_peak'] = len(info[\"SCR_Peaks\"])\n",
    "  except Exception as e:\n",
    "    print(e)\n",
    "    print(\"SCR negative peaks cannot calculated\")\n",
    "\n",
    "  return statistic_values\n",
    "\n"
   ]
  },
  {
   "cell_type": "code",
   "execution_count": null,
   "metadata": {
    "colab": {
     "base_uri": "https://localhost:8080/",
     "height": 1000
    },
    "executionInfo": {
     "elapsed": 1122,
     "status": "ok",
     "timestamp": 1737050986856,
     "user": {
      "displayName": "İbrahim Furkan",
      "userId": "03214658540359897285"
     },
     "user_tz": -180
    },
    "id": "YindIFyx-LLf",
    "outputId": "04944dc3-804e-4428-8b02-39f817fa0082"
   },
   "outputs": [],
   "source": [
    "# get_eda_metrics(df, 10, 'SCR')\n",
    "get_signal_metrics(df, 10, 'EDA', [], special_features=['eda_zero_cross', 'eda_positive_peak', 'eda_negative_peak'], get_special_metrics_callback=get_eda_metrics, sampling_rate=4)"
   ]
  },
  {
   "cell_type": "code",
   "execution_count": null,
   "metadata": {
    "colab": {
     "base_uri": "https://localhost:8080/",
     "height": 309
    },
    "executionInfo": {
     "elapsed": 596,
     "status": "ok",
     "timestamp": 1737050996271,
     "user": {
      "displayName": "İbrahim Furkan",
      "userId": "03214658540359897285"
     },
     "user_tz": -180
    },
    "id": "yT0YGZM9El-m",
    "outputId": "9f565dab-d216-46fd-8e6e-97d17fd39668"
   },
   "outputs": [],
   "source": [
    "\n",
    "sample_path = MAIN_PROCESSED_PATH + ' ' + random_procedure + '/' + random_samples[0]['diagnose_result']\n",
    "sample_path += '/' + random_samples[0]['sample_name']\n",
    "sample_path += '/' + random_samples[0]['game_name']\n",
    "sample_path += '/EDA_Phasic.csv'\n",
    "print(sample_path)\n",
    "df2 = pd.read_csv(sample_path)\n",
    "df2['time'] = pd.to_datetime(df2['time'].str.replace(',', '.'), unit='s')\n",
    "df2.index_col = 'time'\n",
    "df2.index = df2['time']\n",
    "df2.head()"
   ]
  },
  {
   "cell_type": "code",
   "execution_count": null,
   "metadata": {
    "colab": {
     "base_uri": "https://localhost:8080/",
     "height": 1000
    },
    "executionInfo": {
     "elapsed": 1104,
     "status": "ok",
     "timestamp": 1737045994841,
     "user": {
      "displayName": "İbrahim Furkan",
      "userId": "03214658540359897285"
     },
     "user_tz": -180
    },
    "id": "Tky8sj4PFGrW",
    "outputId": "8c272df6-5487-4068-e4aa-329e39f35185"
   },
   "outputs": [],
   "source": [
    "\n",
    "df_values = df2.loc[df2['time'].values[0]: (df2['time'].values[0]+ np.timedelta64(10, 's')), 'values']\n",
    "if len(df_values) > 0:\n",
    "  info = nk.signal_findpeaks(df_values.values)\n",
    "  _ , info2 = nk.eda_peaks(df_values.values, sampling_rate=4)\n",
    "  _ , info3 = nk.eda_peaks(-df_values.values, sampling_rate=4)\n",
    "  nk.events_plot([info3[\"SCR_Peaks\"]], df_values.values)\n",
    "  nk.events_plot([info2[\"SCR_Peaks\"]], df_values.values)\n",
    "  nk.events_plot([info[\"Peaks\"]], df_values.values)"
   ]
  },
  {
   "cell_type": "code",
   "execution_count": null,
   "metadata": {
    "colab": {
     "base_uri": "https://localhost:8080/",
     "height": 1000
    },
    "executionInfo": {
     "elapsed": 1043,
     "status": "ok",
     "timestamp": 1737051005383,
     "user": {
      "displayName": "İbrahim Furkan",
      "userId": "03214658540359897285"
     },
     "user_tz": -180
    },
    "id": "ZrziYo5yRnjT",
    "outputId": "c690e156-e62d-422f-a08f-c8e96af1ed41"
   },
   "outputs": [],
   "source": [
    "get_signal_metrics(df2, 10, 'SCR', [], special_features=['scr_zero_cross', 'scr_positive_peak', 'scr_negative_peak'], get_special_metrics_callback=get_scr_metrics, sampling_rate=4)"
   ]
  },
  {
   "cell_type": "code",
   "execution_count": null,
   "metadata": {
    "colab": {
     "base_uri": "https://localhost:8080/",
     "height": 1000,
     "referenced_widgets": [
      "84decc34352345b4b44005a0dbeb1eef",
      "bd061c493dd141bbabe6a53d9b305f59",
      "9458ed8c412a4510a04e3d3182d8ce32",
      "9ab83b0b9b454f218e550ccd6394260f",
      "695f1225a9fa402d82f6c0634ff3f15e",
      "8422984eef0b4cc8bb5e822bd271c9aa",
      "c084822cb3034ebe963b991dc49bd591",
      "f06a5c7319c3470aa5051ebf6bf1f21e",
      "1244ebd4e70c4981b4f6b42ba9e40dc1",
      "385dee920a4b4a49a664b975bbafec70",
      "957fa2d6c53747969f7d0bd703fc09e3",
      "a26a1393c8c04d5298b107f8ea0727c0",
      "88a623d2a0e34fa1a76cb7584c29654d",
      "a636893a226349e18ad0627bf5722f8f",
      "540fbe0208964865be0d1f7f3c9809a1",
      "e38e391fe2944460bc96f0b2b7e8d632",
      "d9c987dc0e724a6ea069dbd20eb71af3",
      "64c86811c7f441189db14b8040fddd3c",
      "c8b86e6e40fb48a7b88474e3cda48e5c",
      "287f651af4894625a6a8514f363df87d",
      "1d718975e916423eaa7dc6680773f0d1",
      "f1cea024e59b4cc090cc8a23a4e27dc6"
     ]
    },
    "executionInfo": {
     "elapsed": 763149,
     "status": "ok",
     "timestamp": 1737249898974,
     "user": {
      "displayName": "İbrahim Furkan",
      "userId": "03214658540359897285"
     },
     "user_tz": -180
    },
    "id": "KPdTWNGoOmQ4",
    "outputId": "ec1bf88d-4231-48e9-8ddc-690dc70562ee"
   },
   "outputs": [],
   "source": [
    "for AUGMENTATION_PROCEDURE in AUGMENTATION_PROCEDURES:\n",
    "  for DATASET_PROCEDURE in DATASET_PROCEDURES:\n",
    "    for EDA_file_idx in tqdm(range(len(all_EDA_infos[DATASET_PROCEDURE]))):\n",
    "      EDA_file = all_EDA_infos[DATASET_PROCEDURE][EDA_file_idx]\n",
    "      raw_dataframe = read_datas_from_csv(EDA_file, DATASET_PROCEDURE, MAIN_PROCESSED_PATH)\n",
    "      for interval_value in [10, 30, 50, 70]:\n",
    "        if interval_value == 10:\n",
    "          write_features_in_csv(EDA_file, raw_dataframe, interval_value, DATASET_PROCEDURE, 'EDA', MAIN_PROCESSED_PATH, DELETE_FEATURE_SAMPLE, special_features=['eda_zero_cross', 'eda_positive_peak', 'eda_negative_peak'], get_special_metrics_callback=get_eda_metrics, sampling_rate=4)"
   ]
  },
  {
   "cell_type": "markdown",
   "metadata": {
    "id": "EPUzLafd2mO_"
   },
   "source": [
    "### - Tonic EDA (SCL)"
   ]
  },
  {
   "cell_type": "code",
   "execution_count": null,
   "metadata": {
    "colab": {
     "base_uri": "https://localhost:8080/",
     "height": 1000,
     "referenced_widgets": [
      "b00a1e01d06b4184b20486cf5a64d10c",
      "5007023e8ed549e699a8f057a17b4d0d",
      "8fcdbd41d342459d90e26247e9296eb9",
      "13c01f0c9f2f4b0cba84ab194489d12e",
      "97dcd71ee0c04e4ea2afbb20d6306855",
      "8cf43ceaefe74d3bb38b7c7f17abf5f7",
      "128d54e6bbd447ed89587efccfcd1ff0",
      "f2ea9a91dce64a45b43705b308b5bc5b",
      "dab00f49ef43470ca5fdf05ab88aa4f8",
      "74d566aed0c94bab833e6624f8b34370",
      "ce0d54e355ee4bd69682116a45d5e011"
     ]
    },
    "executionInfo": {
     "elapsed": 744340,
     "status": "ok",
     "timestamp": 1737250643303,
     "user": {
      "displayName": "İbrahim Furkan",
      "userId": "03214658540359897285"
     },
     "user_tz": -180
    },
    "id": "5eOWvIkAeRau",
    "outputId": "807fcdce-8835-478b-81e5-23a9b236004b"
   },
   "outputs": [],
   "source": [
    "\n",
    "for DATASET_PROCEDURE in DATASET_PROCEDURES:\n",
    "  for EDA_Tonic_file_idx in tqdm(range(len(all_EDA_Tonic_infos[DATASET_PROCEDURE]))):\n",
    "    EDA_Tonic_file = all_EDA_Tonic_infos[DATASET_PROCEDURE][EDA_Tonic_file_idx]\n",
    "    raw_dataframe = read_datas_from_csv(EDA_Tonic_file, DATASET_PROCEDURE, MAIN_PROCESSED_PATH)\n",
    "    for interval_value in [10, 30, 50, 70]:\n",
    "      if interval_value == 10:\n",
    "        write_features_in_csv(EDA_Tonic_file, raw_dataframe, interval_value, DATASET_PROCEDURE, 'SCL', MAIN_PROCESSED_PATH, DELETE_FEATURE_SAMPLE, special_features=['scl_zero_cross', 'scl_positive_peak', 'scl_negative_peak'], get_special_metrics_callback=get_scl_metrics, sampling_rate=4)\n"
   ]
  },
  {
   "cell_type": "markdown",
   "metadata": {
    "id": "7V2yDTDGRnjX"
   },
   "source": [
    "### - Phasic EDA (SCR)"
   ]
  },
  {
   "cell_type": "code",
   "execution_count": null,
   "metadata": {
    "colab": {
     "base_uri": "https://localhost:8080/",
     "height": 225,
     "referenced_widgets": [
      "a986e53e245741e9a4fe497868d9b9c4",
      "88972b24483046f18afe22e3c744a91d",
      "9ec621501fb145eda7d4ca1c7e7ffe6f",
      "e9935bfec3d945a2b841bd8a8d520aa9",
      "c39c549bb61b424bab4072dfe0674fa6",
      "cb0229839dbd49d2968d937a9285c716",
      "65e57c4fe2d948c1b2e187b8fcbcbb05",
      "ac7a62105aa9412f9a844ae05423ff57",
      "3cc7f139f37f4b18b6896baa426ea216",
      "bacfa0d39f2648afa97926baf6d7fae8",
      "13ca23b23316489797de921564b200e1"
     ]
    },
    "executionInfo": {
     "elapsed": 292,
     "status": "ok",
     "timestamp": 1737252317395,
     "user": {
      "displayName": "İbrahim Furkan",
      "userId": "03214658540359897285"
     },
     "user_tz": -180
    },
    "id": "5E1GAl6kRotn",
    "outputId": "f6e718d6-4fa6-4bf6-b114-442a5500f686"
   },
   "outputs": [],
   "source": [
    "\n",
    "for DATASET_PROCEDURE in DATASET_PROCEDURES:\n",
    "  for EDA_Phasic_file_idx in tqdm(range(len(all_EDA_Phasic_infos[DATASET_PROCEDURE]))):\n",
    "    EDA_Phasic_file = all_EDA_Phasic_infos[DATASET_PROCEDURE][EDA_Phasic_file_idx]\n",
    "    raw_dataframe = read_datas_from_csv(EDA_Phasic_file, DATASET_PROCEDURE, MAIN_PROCESSED_PATH)\n",
    "    for interval_value in [10, 30, 50, 70]:\n",
    "      if interval_value == 10:\n",
    "        write_features_in_csv(EDA_Phasic_file, raw_dataframe, interval_value, DATASET_PROCEDURE, 'SCR', MAIN_PROCESSED_PATH, DELETE_FEATURE_SAMPLE, special_features=['scr_zero_cross', 'scr_positive_peak', 'scr_negative_peak'], get_special_metrics_callback=get_scr_metrics, sampling_rate=4)\n"
   ]
  },
  {
   "cell_type": "code",
   "execution_count": null,
   "metadata": {
    "id": "9EB-lnVNRohe"
   },
   "outputs": [],
   "source": []
  }
 ],
 "metadata": {
  "colab": {
   "authorship_tag": "ABX9TyOMH95WOE16I9XnCwCzTOC+",
   "provenance": []
  },
  "kernelspec": {
   "display_name": "Python 3 (ipykernel)",
   "language": "python",
   "name": "python3"
  },
  "language_info": {
   "codemirror_mode": {
    "name": "ipython",
    "version": 3
   },
   "file_extension": ".py",
   "mimetype": "text/x-python",
   "name": "python",
   "nbconvert_exporter": "python",
   "pygments_lexer": "ipython3",
   "version": "3.9.13"
  },
  "varInspector": {
   "cols": {
    "lenName": 16,
    "lenType": 16,
    "lenVar": 40
   },
   "kernels_config": {
    "python": {
     "delete_cmd_postfix": "",
     "delete_cmd_prefix": "del ",
     "library": "var_list.py",
     "varRefreshCmd": "print(var_dic_list())"
    },
    "r": {
     "delete_cmd_postfix": ") ",
     "delete_cmd_prefix": "rm(",
     "library": "var_list.r",
     "varRefreshCmd": "cat(var_dic_list()) "
    }
   },
   "types_to_exclude": [
    "module",
    "function",
    "builtin_function_or_method",
    "instance",
    "_Feature"
   ],
   "window_display": false
  },
  "widgets": {
   "application/vnd.jupyter.widget-state+json": {
    "1244ebd4e70c4981b4f6b42ba9e40dc1": {
     "model_module": "@jupyter-widgets/controls",
     "model_module_version": "1.5.0",
     "model_name": "ProgressStyleModel",
     "state": {
      "_model_module": "@jupyter-widgets/controls",
      "_model_module_version": "1.5.0",
      "_model_name": "ProgressStyleModel",
      "_view_count": null,
      "_view_module": "@jupyter-widgets/base",
      "_view_module_version": "1.2.0",
      "_view_name": "StyleView",
      "bar_color": null,
      "description_width": ""
     }
    },
    "128d54e6bbd447ed89587efccfcd1ff0": {
     "model_module": "@jupyter-widgets/controls",
     "model_module_version": "1.5.0",
     "model_name": "DescriptionStyleModel",
     "state": {
      "_model_module": "@jupyter-widgets/controls",
      "_model_module_version": "1.5.0",
      "_model_name": "DescriptionStyleModel",
      "_view_count": null,
      "_view_module": "@jupyter-widgets/base",
      "_view_module_version": "1.2.0",
      "_view_name": "StyleView",
      "description_width": ""
     }
    },
    "13c01f0c9f2f4b0cba84ab194489d12e": {
     "model_module": "@jupyter-widgets/controls",
     "model_module_version": "1.5.0",
     "model_name": "HTMLModel",
     "state": {
      "_dom_classes": [],
      "_model_module": "@jupyter-widgets/controls",
      "_model_module_version": "1.5.0",
      "_model_name": "HTMLModel",
      "_view_count": null,
      "_view_module": "@jupyter-widgets/controls",
      "_view_module_version": "1.5.0",
      "_view_name": "HTMLView",
      "description": "",
      "description_tooltip": null,
      "layout": "IPY_MODEL_74d566aed0c94bab833e6624f8b34370",
      "placeholder": "​",
      "style": "IPY_MODEL_ce0d54e355ee4bd69682116a45d5e011",
      "value": " 924/924 [12:29&lt;00:00,  1.18s/it]"
     }
    },
    "13ca23b23316489797de921564b200e1": {
     "model_module": "@jupyter-widgets/controls",
     "model_module_version": "1.5.0",
     "model_name": "DescriptionStyleModel",
     "state": {
      "_model_module": "@jupyter-widgets/controls",
      "_model_module_version": "1.5.0",
      "_model_name": "DescriptionStyleModel",
      "_view_count": null,
      "_view_module": "@jupyter-widgets/base",
      "_view_module_version": "1.2.0",
      "_view_name": "StyleView",
      "description_width": ""
     }
    },
    "1d718975e916423eaa7dc6680773f0d1": {
     "model_module": "@jupyter-widgets/base",
     "model_module_version": "1.2.0",
     "model_name": "LayoutModel",
     "state": {
      "_model_module": "@jupyter-widgets/base",
      "_model_module_version": "1.2.0",
      "_model_name": "LayoutModel",
      "_view_count": null,
      "_view_module": "@jupyter-widgets/base",
      "_view_module_version": "1.2.0",
      "_view_name": "LayoutView",
      "align_content": null,
      "align_items": null,
      "align_self": null,
      "border": null,
      "bottom": null,
      "display": null,
      "flex": null,
      "flex_flow": null,
      "grid_area": null,
      "grid_auto_columns": null,
      "grid_auto_flow": null,
      "grid_auto_rows": null,
      "grid_column": null,
      "grid_gap": null,
      "grid_row": null,
      "grid_template_areas": null,
      "grid_template_columns": null,
      "grid_template_rows": null,
      "height": null,
      "justify_content": null,
      "justify_items": null,
      "left": null,
      "margin": null,
      "max_height": null,
      "max_width": null,
      "min_height": null,
      "min_width": null,
      "object_fit": null,
      "object_position": null,
      "order": null,
      "overflow": null,
      "overflow_x": null,
      "overflow_y": null,
      "padding": null,
      "right": null,
      "top": null,
      "visibility": null,
      "width": null
     }
    },
    "287f651af4894625a6a8514f363df87d": {
     "model_module": "@jupyter-widgets/controls",
     "model_module_version": "1.5.0",
     "model_name": "ProgressStyleModel",
     "state": {
      "_model_module": "@jupyter-widgets/controls",
      "_model_module_version": "1.5.0",
      "_model_name": "ProgressStyleModel",
      "_view_count": null,
      "_view_module": "@jupyter-widgets/base",
      "_view_module_version": "1.2.0",
      "_view_name": "StyleView",
      "bar_color": null,
      "description_width": ""
     }
    },
    "385dee920a4b4a49a664b975bbafec70": {
     "model_module": "@jupyter-widgets/base",
     "model_module_version": "1.2.0",
     "model_name": "LayoutModel",
     "state": {
      "_model_module": "@jupyter-widgets/base",
      "_model_module_version": "1.2.0",
      "_model_name": "LayoutModel",
      "_view_count": null,
      "_view_module": "@jupyter-widgets/base",
      "_view_module_version": "1.2.0",
      "_view_name": "LayoutView",
      "align_content": null,
      "align_items": null,
      "align_self": null,
      "border": null,
      "bottom": null,
      "display": null,
      "flex": null,
      "flex_flow": null,
      "grid_area": null,
      "grid_auto_columns": null,
      "grid_auto_flow": null,
      "grid_auto_rows": null,
      "grid_column": null,
      "grid_gap": null,
      "grid_row": null,
      "grid_template_areas": null,
      "grid_template_columns": null,
      "grid_template_rows": null,
      "height": null,
      "justify_content": null,
      "justify_items": null,
      "left": null,
      "margin": null,
      "max_height": null,
      "max_width": null,
      "min_height": null,
      "min_width": null,
      "object_fit": null,
      "object_position": null,
      "order": null,
      "overflow": null,
      "overflow_x": null,
      "overflow_y": null,
      "padding": null,
      "right": null,
      "top": null,
      "visibility": null,
      "width": null
     }
    },
    "3cc7f139f37f4b18b6896baa426ea216": {
     "model_module": "@jupyter-widgets/controls",
     "model_module_version": "1.5.0",
     "model_name": "ProgressStyleModel",
     "state": {
      "_model_module": "@jupyter-widgets/controls",
      "_model_module_version": "1.5.0",
      "_model_name": "ProgressStyleModel",
      "_view_count": null,
      "_view_module": "@jupyter-widgets/base",
      "_view_module_version": "1.2.0",
      "_view_name": "StyleView",
      "bar_color": null,
      "description_width": ""
     }
    },
    "5007023e8ed549e699a8f057a17b4d0d": {
     "model_module": "@jupyter-widgets/controls",
     "model_module_version": "1.5.0",
     "model_name": "HTMLModel",
     "state": {
      "_dom_classes": [],
      "_model_module": "@jupyter-widgets/controls",
      "_model_module_version": "1.5.0",
      "_model_name": "HTMLModel",
      "_view_count": null,
      "_view_module": "@jupyter-widgets/controls",
      "_view_module_version": "1.5.0",
      "_view_name": "HTMLView",
      "description": "",
      "description_tooltip": null,
      "layout": "IPY_MODEL_8cf43ceaefe74d3bb38b7c7f17abf5f7",
      "placeholder": "​",
      "style": "IPY_MODEL_128d54e6bbd447ed89587efccfcd1ff0",
      "value": "100%"
     }
    },
    "540fbe0208964865be0d1f7f3c9809a1": {
     "model_module": "@jupyter-widgets/controls",
     "model_module_version": "1.5.0",
     "model_name": "HTMLModel",
     "state": {
      "_dom_classes": [],
      "_model_module": "@jupyter-widgets/controls",
      "_model_module_version": "1.5.0",
      "_model_name": "HTMLModel",
      "_view_count": null,
      "_view_module": "@jupyter-widgets/controls",
      "_view_module_version": "1.5.0",
      "_view_name": "HTMLView",
      "description": "",
      "description_tooltip": null,
      "layout": "IPY_MODEL_1d718975e916423eaa7dc6680773f0d1",
      "placeholder": "​",
      "style": "IPY_MODEL_f1cea024e59b4cc090cc8a23a4e27dc6",
      "value": " 924/924 [00:51&lt;00:00, 16.74it/s]"
     }
    },
    "64c86811c7f441189db14b8040fddd3c": {
     "model_module": "@jupyter-widgets/controls",
     "model_module_version": "1.5.0",
     "model_name": "DescriptionStyleModel",
     "state": {
      "_model_module": "@jupyter-widgets/controls",
      "_model_module_version": "1.5.0",
      "_model_name": "DescriptionStyleModel",
      "_view_count": null,
      "_view_module": "@jupyter-widgets/base",
      "_view_module_version": "1.2.0",
      "_view_name": "StyleView",
      "description_width": ""
     }
    },
    "65e57c4fe2d948c1b2e187b8fcbcbb05": {
     "model_module": "@jupyter-widgets/controls",
     "model_module_version": "1.5.0",
     "model_name": "DescriptionStyleModel",
     "state": {
      "_model_module": "@jupyter-widgets/controls",
      "_model_module_version": "1.5.0",
      "_model_name": "DescriptionStyleModel",
      "_view_count": null,
      "_view_module": "@jupyter-widgets/base",
      "_view_module_version": "1.2.0",
      "_view_name": "StyleView",
      "description_width": ""
     }
    },
    "695f1225a9fa402d82f6c0634ff3f15e": {
     "model_module": "@jupyter-widgets/base",
     "model_module_version": "1.2.0",
     "model_name": "LayoutModel",
     "state": {
      "_model_module": "@jupyter-widgets/base",
      "_model_module_version": "1.2.0",
      "_model_name": "LayoutModel",
      "_view_count": null,
      "_view_module": "@jupyter-widgets/base",
      "_view_module_version": "1.2.0",
      "_view_name": "LayoutView",
      "align_content": null,
      "align_items": null,
      "align_self": null,
      "border": null,
      "bottom": null,
      "display": null,
      "flex": null,
      "flex_flow": null,
      "grid_area": null,
      "grid_auto_columns": null,
      "grid_auto_flow": null,
      "grid_auto_rows": null,
      "grid_column": null,
      "grid_gap": null,
      "grid_row": null,
      "grid_template_areas": null,
      "grid_template_columns": null,
      "grid_template_rows": null,
      "height": null,
      "justify_content": null,
      "justify_items": null,
      "left": null,
      "margin": null,
      "max_height": null,
      "max_width": null,
      "min_height": null,
      "min_width": null,
      "object_fit": null,
      "object_position": null,
      "order": null,
      "overflow": null,
      "overflow_x": null,
      "overflow_y": null,
      "padding": null,
      "right": null,
      "top": null,
      "visibility": null,
      "width": null
     }
    },
    "74d566aed0c94bab833e6624f8b34370": {
     "model_module": "@jupyter-widgets/base",
     "model_module_version": "1.2.0",
     "model_name": "LayoutModel",
     "state": {
      "_model_module": "@jupyter-widgets/base",
      "_model_module_version": "1.2.0",
      "_model_name": "LayoutModel",
      "_view_count": null,
      "_view_module": "@jupyter-widgets/base",
      "_view_module_version": "1.2.0",
      "_view_name": "LayoutView",
      "align_content": null,
      "align_items": null,
      "align_self": null,
      "border": null,
      "bottom": null,
      "display": null,
      "flex": null,
      "flex_flow": null,
      "grid_area": null,
      "grid_auto_columns": null,
      "grid_auto_flow": null,
      "grid_auto_rows": null,
      "grid_column": null,
      "grid_gap": null,
      "grid_row": null,
      "grid_template_areas": null,
      "grid_template_columns": null,
      "grid_template_rows": null,
      "height": null,
      "justify_content": null,
      "justify_items": null,
      "left": null,
      "margin": null,
      "max_height": null,
      "max_width": null,
      "min_height": null,
      "min_width": null,
      "object_fit": null,
      "object_position": null,
      "order": null,
      "overflow": null,
      "overflow_x": null,
      "overflow_y": null,
      "padding": null,
      "right": null,
      "top": null,
      "visibility": null,
      "width": null
     }
    },
    "8422984eef0b4cc8bb5e822bd271c9aa": {
     "model_module": "@jupyter-widgets/base",
     "model_module_version": "1.2.0",
     "model_name": "LayoutModel",
     "state": {
      "_model_module": "@jupyter-widgets/base",
      "_model_module_version": "1.2.0",
      "_model_name": "LayoutModel",
      "_view_count": null,
      "_view_module": "@jupyter-widgets/base",
      "_view_module_version": "1.2.0",
      "_view_name": "LayoutView",
      "align_content": null,
      "align_items": null,
      "align_self": null,
      "border": null,
      "bottom": null,
      "display": null,
      "flex": null,
      "flex_flow": null,
      "grid_area": null,
      "grid_auto_columns": null,
      "grid_auto_flow": null,
      "grid_auto_rows": null,
      "grid_column": null,
      "grid_gap": null,
      "grid_row": null,
      "grid_template_areas": null,
      "grid_template_columns": null,
      "grid_template_rows": null,
      "height": null,
      "justify_content": null,
      "justify_items": null,
      "left": null,
      "margin": null,
      "max_height": null,
      "max_width": null,
      "min_height": null,
      "min_width": null,
      "object_fit": null,
      "object_position": null,
      "order": null,
      "overflow": null,
      "overflow_x": null,
      "overflow_y": null,
      "padding": null,
      "right": null,
      "top": null,
      "visibility": null,
      "width": null
     }
    },
    "84decc34352345b4b44005a0dbeb1eef": {
     "model_module": "@jupyter-widgets/controls",
     "model_module_version": "1.5.0",
     "model_name": "HBoxModel",
     "state": {
      "_dom_classes": [],
      "_model_module": "@jupyter-widgets/controls",
      "_model_module_version": "1.5.0",
      "_model_name": "HBoxModel",
      "_view_count": null,
      "_view_module": "@jupyter-widgets/controls",
      "_view_module_version": "1.5.0",
      "_view_name": "HBoxView",
      "box_style": "",
      "children": [
       "IPY_MODEL_bd061c493dd141bbabe6a53d9b305f59",
       "IPY_MODEL_9458ed8c412a4510a04e3d3182d8ce32",
       "IPY_MODEL_9ab83b0b9b454f218e550ccd6394260f"
      ],
      "layout": "IPY_MODEL_695f1225a9fa402d82f6c0634ff3f15e"
     }
    },
    "88972b24483046f18afe22e3c744a91d": {
     "model_module": "@jupyter-widgets/controls",
     "model_module_version": "1.5.0",
     "model_name": "HTMLModel",
     "state": {
      "_dom_classes": [],
      "_model_module": "@jupyter-widgets/controls",
      "_model_module_version": "1.5.0",
      "_model_name": "HTMLModel",
      "_view_count": null,
      "_view_module": "@jupyter-widgets/controls",
      "_view_module_version": "1.5.0",
      "_view_name": "HTMLView",
      "description": "",
      "description_tooltip": null,
      "layout": "IPY_MODEL_cb0229839dbd49d2968d937a9285c716",
      "placeholder": "​",
      "style": "IPY_MODEL_65e57c4fe2d948c1b2e187b8fcbcbb05",
      "value": "100%"
     }
    },
    "88a623d2a0e34fa1a76cb7584c29654d": {
     "model_module": "@jupyter-widgets/controls",
     "model_module_version": "1.5.0",
     "model_name": "HTMLModel",
     "state": {
      "_dom_classes": [],
      "_model_module": "@jupyter-widgets/controls",
      "_model_module_version": "1.5.0",
      "_model_name": "HTMLModel",
      "_view_count": null,
      "_view_module": "@jupyter-widgets/controls",
      "_view_module_version": "1.5.0",
      "_view_name": "HTMLView",
      "description": "",
      "description_tooltip": null,
      "layout": "IPY_MODEL_d9c987dc0e724a6ea069dbd20eb71af3",
      "placeholder": "​",
      "style": "IPY_MODEL_64c86811c7f441189db14b8040fddd3c",
      "value": "100%"
     }
    },
    "8cf43ceaefe74d3bb38b7c7f17abf5f7": {
     "model_module": "@jupyter-widgets/base",
     "model_module_version": "1.2.0",
     "model_name": "LayoutModel",
     "state": {
      "_model_module": "@jupyter-widgets/base",
      "_model_module_version": "1.2.0",
      "_model_name": "LayoutModel",
      "_view_count": null,
      "_view_module": "@jupyter-widgets/base",
      "_view_module_version": "1.2.0",
      "_view_name": "LayoutView",
      "align_content": null,
      "align_items": null,
      "align_self": null,
      "border": null,
      "bottom": null,
      "display": null,
      "flex": null,
      "flex_flow": null,
      "grid_area": null,
      "grid_auto_columns": null,
      "grid_auto_flow": null,
      "grid_auto_rows": null,
      "grid_column": null,
      "grid_gap": null,
      "grid_row": null,
      "grid_template_areas": null,
      "grid_template_columns": null,
      "grid_template_rows": null,
      "height": null,
      "justify_content": null,
      "justify_items": null,
      "left": null,
      "margin": null,
      "max_height": null,
      "max_width": null,
      "min_height": null,
      "min_width": null,
      "object_fit": null,
      "object_position": null,
      "order": null,
      "overflow": null,
      "overflow_x": null,
      "overflow_y": null,
      "padding": null,
      "right": null,
      "top": null,
      "visibility": null,
      "width": null
     }
    },
    "8fcdbd41d342459d90e26247e9296eb9": {
     "model_module": "@jupyter-widgets/controls",
     "model_module_version": "1.5.0",
     "model_name": "FloatProgressModel",
     "state": {
      "_dom_classes": [],
      "_model_module": "@jupyter-widgets/controls",
      "_model_module_version": "1.5.0",
      "_model_name": "FloatProgressModel",
      "_view_count": null,
      "_view_module": "@jupyter-widgets/controls",
      "_view_module_version": "1.5.0",
      "_view_name": "ProgressView",
      "bar_style": "success",
      "description": "",
      "description_tooltip": null,
      "layout": "IPY_MODEL_f2ea9a91dce64a45b43705b308b5bc5b",
      "max": 924,
      "min": 0,
      "orientation": "horizontal",
      "style": "IPY_MODEL_dab00f49ef43470ca5fdf05ab88aa4f8",
      "value": 924
     }
    },
    "9458ed8c412a4510a04e3d3182d8ce32": {
     "model_module": "@jupyter-widgets/controls",
     "model_module_version": "1.5.0",
     "model_name": "FloatProgressModel",
     "state": {
      "_dom_classes": [],
      "_model_module": "@jupyter-widgets/controls",
      "_model_module_version": "1.5.0",
      "_model_name": "FloatProgressModel",
      "_view_count": null,
      "_view_module": "@jupyter-widgets/controls",
      "_view_module_version": "1.5.0",
      "_view_name": "ProgressView",
      "bar_style": "success",
      "description": "",
      "description_tooltip": null,
      "layout": "IPY_MODEL_f06a5c7319c3470aa5051ebf6bf1f21e",
      "max": 924,
      "min": 0,
      "orientation": "horizontal",
      "style": "IPY_MODEL_1244ebd4e70c4981b4f6b42ba9e40dc1",
      "value": 924
     }
    },
    "957fa2d6c53747969f7d0bd703fc09e3": {
     "model_module": "@jupyter-widgets/controls",
     "model_module_version": "1.5.0",
     "model_name": "DescriptionStyleModel",
     "state": {
      "_model_module": "@jupyter-widgets/controls",
      "_model_module_version": "1.5.0",
      "_model_name": "DescriptionStyleModel",
      "_view_count": null,
      "_view_module": "@jupyter-widgets/base",
      "_view_module_version": "1.2.0",
      "_view_name": "StyleView",
      "description_width": ""
     }
    },
    "97dcd71ee0c04e4ea2afbb20d6306855": {
     "model_module": "@jupyter-widgets/base",
     "model_module_version": "1.2.0",
     "model_name": "LayoutModel",
     "state": {
      "_model_module": "@jupyter-widgets/base",
      "_model_module_version": "1.2.0",
      "_model_name": "LayoutModel",
      "_view_count": null,
      "_view_module": "@jupyter-widgets/base",
      "_view_module_version": "1.2.0",
      "_view_name": "LayoutView",
      "align_content": null,
      "align_items": null,
      "align_self": null,
      "border": null,
      "bottom": null,
      "display": null,
      "flex": null,
      "flex_flow": null,
      "grid_area": null,
      "grid_auto_columns": null,
      "grid_auto_flow": null,
      "grid_auto_rows": null,
      "grid_column": null,
      "grid_gap": null,
      "grid_row": null,
      "grid_template_areas": null,
      "grid_template_columns": null,
      "grid_template_rows": null,
      "height": null,
      "justify_content": null,
      "justify_items": null,
      "left": null,
      "margin": null,
      "max_height": null,
      "max_width": null,
      "min_height": null,
      "min_width": null,
      "object_fit": null,
      "object_position": null,
      "order": null,
      "overflow": null,
      "overflow_x": null,
      "overflow_y": null,
      "padding": null,
      "right": null,
      "top": null,
      "visibility": null,
      "width": null
     }
    },
    "9ab83b0b9b454f218e550ccd6394260f": {
     "model_module": "@jupyter-widgets/controls",
     "model_module_version": "1.5.0",
     "model_name": "HTMLModel",
     "state": {
      "_dom_classes": [],
      "_model_module": "@jupyter-widgets/controls",
      "_model_module_version": "1.5.0",
      "_model_name": "HTMLModel",
      "_view_count": null,
      "_view_module": "@jupyter-widgets/controls",
      "_view_module_version": "1.5.0",
      "_view_name": "HTMLView",
      "description": "",
      "description_tooltip": null,
      "layout": "IPY_MODEL_385dee920a4b4a49a664b975bbafec70",
      "placeholder": "​",
      "style": "IPY_MODEL_957fa2d6c53747969f7d0bd703fc09e3",
      "value": " 924/924 [11:46&lt;00:00,  1.01s/it]"
     }
    },
    "9ec621501fb145eda7d4ca1c7e7ffe6f": {
     "model_module": "@jupyter-widgets/controls",
     "model_module_version": "1.5.0",
     "model_name": "FloatProgressModel",
     "state": {
      "_dom_classes": [],
      "_model_module": "@jupyter-widgets/controls",
      "_model_module_version": "1.5.0",
      "_model_name": "FloatProgressModel",
      "_view_count": null,
      "_view_module": "@jupyter-widgets/controls",
      "_view_module_version": "1.5.0",
      "_view_name": "ProgressView",
      "bar_style": "success",
      "description": "",
      "description_tooltip": null,
      "layout": "IPY_MODEL_ac7a62105aa9412f9a844ae05423ff57",
      "max": 3,
      "min": 0,
      "orientation": "horizontal",
      "style": "IPY_MODEL_3cc7f139f37f4b18b6896baa426ea216",
      "value": 3
     }
    },
    "a26a1393c8c04d5298b107f8ea0727c0": {
     "model_module": "@jupyter-widgets/controls",
     "model_module_version": "1.5.0",
     "model_name": "HBoxModel",
     "state": {
      "_dom_classes": [],
      "_model_module": "@jupyter-widgets/controls",
      "_model_module_version": "1.5.0",
      "_model_name": "HBoxModel",
      "_view_count": null,
      "_view_module": "@jupyter-widgets/controls",
      "_view_module_version": "1.5.0",
      "_view_name": "HBoxView",
      "box_style": "",
      "children": [
       "IPY_MODEL_88a623d2a0e34fa1a76cb7584c29654d",
       "IPY_MODEL_a636893a226349e18ad0627bf5722f8f",
       "IPY_MODEL_540fbe0208964865be0d1f7f3c9809a1"
      ],
      "layout": "IPY_MODEL_e38e391fe2944460bc96f0b2b7e8d632"
     }
    },
    "a636893a226349e18ad0627bf5722f8f": {
     "model_module": "@jupyter-widgets/controls",
     "model_module_version": "1.5.0",
     "model_name": "FloatProgressModel",
     "state": {
      "_dom_classes": [],
      "_model_module": "@jupyter-widgets/controls",
      "_model_module_version": "1.5.0",
      "_model_name": "FloatProgressModel",
      "_view_count": null,
      "_view_module": "@jupyter-widgets/controls",
      "_view_module_version": "1.5.0",
      "_view_name": "ProgressView",
      "bar_style": "success",
      "description": "",
      "description_tooltip": null,
      "layout": "IPY_MODEL_c8b86e6e40fb48a7b88474e3cda48e5c",
      "max": 924,
      "min": 0,
      "orientation": "horizontal",
      "style": "IPY_MODEL_287f651af4894625a6a8514f363df87d",
      "value": 924
     }
    },
    "a986e53e245741e9a4fe497868d9b9c4": {
     "model_module": "@jupyter-widgets/controls",
     "model_module_version": "1.5.0",
     "model_name": "HBoxModel",
     "state": {
      "_dom_classes": [],
      "_model_module": "@jupyter-widgets/controls",
      "_model_module_version": "1.5.0",
      "_model_name": "HBoxModel",
      "_view_count": null,
      "_view_module": "@jupyter-widgets/controls",
      "_view_module_version": "1.5.0",
      "_view_name": "HBoxView",
      "box_style": "",
      "children": [
       "IPY_MODEL_88972b24483046f18afe22e3c744a91d",
       "IPY_MODEL_9ec621501fb145eda7d4ca1c7e7ffe6f",
       "IPY_MODEL_e9935bfec3d945a2b841bd8a8d520aa9"
      ],
      "layout": "IPY_MODEL_c39c549bb61b424bab4072dfe0674fa6"
     }
    },
    "ac7a62105aa9412f9a844ae05423ff57": {
     "model_module": "@jupyter-widgets/base",
     "model_module_version": "1.2.0",
     "model_name": "LayoutModel",
     "state": {
      "_model_module": "@jupyter-widgets/base",
      "_model_module_version": "1.2.0",
      "_model_name": "LayoutModel",
      "_view_count": null,
      "_view_module": "@jupyter-widgets/base",
      "_view_module_version": "1.2.0",
      "_view_name": "LayoutView",
      "align_content": null,
      "align_items": null,
      "align_self": null,
      "border": null,
      "bottom": null,
      "display": null,
      "flex": null,
      "flex_flow": null,
      "grid_area": null,
      "grid_auto_columns": null,
      "grid_auto_flow": null,
      "grid_auto_rows": null,
      "grid_column": null,
      "grid_gap": null,
      "grid_row": null,
      "grid_template_areas": null,
      "grid_template_columns": null,
      "grid_template_rows": null,
      "height": null,
      "justify_content": null,
      "justify_items": null,
      "left": null,
      "margin": null,
      "max_height": null,
      "max_width": null,
      "min_height": null,
      "min_width": null,
      "object_fit": null,
      "object_position": null,
      "order": null,
      "overflow": null,
      "overflow_x": null,
      "overflow_y": null,
      "padding": null,
      "right": null,
      "top": null,
      "visibility": null,
      "width": null
     }
    },
    "b00a1e01d06b4184b20486cf5a64d10c": {
     "model_module": "@jupyter-widgets/controls",
     "model_module_version": "1.5.0",
     "model_name": "HBoxModel",
     "state": {
      "_dom_classes": [],
      "_model_module": "@jupyter-widgets/controls",
      "_model_module_version": "1.5.0",
      "_model_name": "HBoxModel",
      "_view_count": null,
      "_view_module": "@jupyter-widgets/controls",
      "_view_module_version": "1.5.0",
      "_view_name": "HBoxView",
      "box_style": "",
      "children": [
       "IPY_MODEL_5007023e8ed549e699a8f057a17b4d0d",
       "IPY_MODEL_8fcdbd41d342459d90e26247e9296eb9",
       "IPY_MODEL_13c01f0c9f2f4b0cba84ab194489d12e"
      ],
      "layout": "IPY_MODEL_97dcd71ee0c04e4ea2afbb20d6306855"
     }
    },
    "bacfa0d39f2648afa97926baf6d7fae8": {
     "model_module": "@jupyter-widgets/base",
     "model_module_version": "1.2.0",
     "model_name": "LayoutModel",
     "state": {
      "_model_module": "@jupyter-widgets/base",
      "_model_module_version": "1.2.0",
      "_model_name": "LayoutModel",
      "_view_count": null,
      "_view_module": "@jupyter-widgets/base",
      "_view_module_version": "1.2.0",
      "_view_name": "LayoutView",
      "align_content": null,
      "align_items": null,
      "align_self": null,
      "border": null,
      "bottom": null,
      "display": null,
      "flex": null,
      "flex_flow": null,
      "grid_area": null,
      "grid_auto_columns": null,
      "grid_auto_flow": null,
      "grid_auto_rows": null,
      "grid_column": null,
      "grid_gap": null,
      "grid_row": null,
      "grid_template_areas": null,
      "grid_template_columns": null,
      "grid_template_rows": null,
      "height": null,
      "justify_content": null,
      "justify_items": null,
      "left": null,
      "margin": null,
      "max_height": null,
      "max_width": null,
      "min_height": null,
      "min_width": null,
      "object_fit": null,
      "object_position": null,
      "order": null,
      "overflow": null,
      "overflow_x": null,
      "overflow_y": null,
      "padding": null,
      "right": null,
      "top": null,
      "visibility": null,
      "width": null
     }
    },
    "bd061c493dd141bbabe6a53d9b305f59": {
     "model_module": "@jupyter-widgets/controls",
     "model_module_version": "1.5.0",
     "model_name": "HTMLModel",
     "state": {
      "_dom_classes": [],
      "_model_module": "@jupyter-widgets/controls",
      "_model_module_version": "1.5.0",
      "_model_name": "HTMLModel",
      "_view_count": null,
      "_view_module": "@jupyter-widgets/controls",
      "_view_module_version": "1.5.0",
      "_view_name": "HTMLView",
      "description": "",
      "description_tooltip": null,
      "layout": "IPY_MODEL_8422984eef0b4cc8bb5e822bd271c9aa",
      "placeholder": "​",
      "style": "IPY_MODEL_c084822cb3034ebe963b991dc49bd591",
      "value": "100%"
     }
    },
    "c084822cb3034ebe963b991dc49bd591": {
     "model_module": "@jupyter-widgets/controls",
     "model_module_version": "1.5.0",
     "model_name": "DescriptionStyleModel",
     "state": {
      "_model_module": "@jupyter-widgets/controls",
      "_model_module_version": "1.5.0",
      "_model_name": "DescriptionStyleModel",
      "_view_count": null,
      "_view_module": "@jupyter-widgets/base",
      "_view_module_version": "1.2.0",
      "_view_name": "StyleView",
      "description_width": ""
     }
    },
    "c39c549bb61b424bab4072dfe0674fa6": {
     "model_module": "@jupyter-widgets/base",
     "model_module_version": "1.2.0",
     "model_name": "LayoutModel",
     "state": {
      "_model_module": "@jupyter-widgets/base",
      "_model_module_version": "1.2.0",
      "_model_name": "LayoutModel",
      "_view_count": null,
      "_view_module": "@jupyter-widgets/base",
      "_view_module_version": "1.2.0",
      "_view_name": "LayoutView",
      "align_content": null,
      "align_items": null,
      "align_self": null,
      "border": null,
      "bottom": null,
      "display": null,
      "flex": null,
      "flex_flow": null,
      "grid_area": null,
      "grid_auto_columns": null,
      "grid_auto_flow": null,
      "grid_auto_rows": null,
      "grid_column": null,
      "grid_gap": null,
      "grid_row": null,
      "grid_template_areas": null,
      "grid_template_columns": null,
      "grid_template_rows": null,
      "height": null,
      "justify_content": null,
      "justify_items": null,
      "left": null,
      "margin": null,
      "max_height": null,
      "max_width": null,
      "min_height": null,
      "min_width": null,
      "object_fit": null,
      "object_position": null,
      "order": null,
      "overflow": null,
      "overflow_x": null,
      "overflow_y": null,
      "padding": null,
      "right": null,
      "top": null,
      "visibility": null,
      "width": null
     }
    },
    "c8b86e6e40fb48a7b88474e3cda48e5c": {
     "model_module": "@jupyter-widgets/base",
     "model_module_version": "1.2.0",
     "model_name": "LayoutModel",
     "state": {
      "_model_module": "@jupyter-widgets/base",
      "_model_module_version": "1.2.0",
      "_model_name": "LayoutModel",
      "_view_count": null,
      "_view_module": "@jupyter-widgets/base",
      "_view_module_version": "1.2.0",
      "_view_name": "LayoutView",
      "align_content": null,
      "align_items": null,
      "align_self": null,
      "border": null,
      "bottom": null,
      "display": null,
      "flex": null,
      "flex_flow": null,
      "grid_area": null,
      "grid_auto_columns": null,
      "grid_auto_flow": null,
      "grid_auto_rows": null,
      "grid_column": null,
      "grid_gap": null,
      "grid_row": null,
      "grid_template_areas": null,
      "grid_template_columns": null,
      "grid_template_rows": null,
      "height": null,
      "justify_content": null,
      "justify_items": null,
      "left": null,
      "margin": null,
      "max_height": null,
      "max_width": null,
      "min_height": null,
      "min_width": null,
      "object_fit": null,
      "object_position": null,
      "order": null,
      "overflow": null,
      "overflow_x": null,
      "overflow_y": null,
      "padding": null,
      "right": null,
      "top": null,
      "visibility": null,
      "width": null
     }
    },
    "cb0229839dbd49d2968d937a9285c716": {
     "model_module": "@jupyter-widgets/base",
     "model_module_version": "1.2.0",
     "model_name": "LayoutModel",
     "state": {
      "_model_module": "@jupyter-widgets/base",
      "_model_module_version": "1.2.0",
      "_model_name": "LayoutModel",
      "_view_count": null,
      "_view_module": "@jupyter-widgets/base",
      "_view_module_version": "1.2.0",
      "_view_name": "LayoutView",
      "align_content": null,
      "align_items": null,
      "align_self": null,
      "border": null,
      "bottom": null,
      "display": null,
      "flex": null,
      "flex_flow": null,
      "grid_area": null,
      "grid_auto_columns": null,
      "grid_auto_flow": null,
      "grid_auto_rows": null,
      "grid_column": null,
      "grid_gap": null,
      "grid_row": null,
      "grid_template_areas": null,
      "grid_template_columns": null,
      "grid_template_rows": null,
      "height": null,
      "justify_content": null,
      "justify_items": null,
      "left": null,
      "margin": null,
      "max_height": null,
      "max_width": null,
      "min_height": null,
      "min_width": null,
      "object_fit": null,
      "object_position": null,
      "order": null,
      "overflow": null,
      "overflow_x": null,
      "overflow_y": null,
      "padding": null,
      "right": null,
      "top": null,
      "visibility": null,
      "width": null
     }
    },
    "ce0d54e355ee4bd69682116a45d5e011": {
     "model_module": "@jupyter-widgets/controls",
     "model_module_version": "1.5.0",
     "model_name": "DescriptionStyleModel",
     "state": {
      "_model_module": "@jupyter-widgets/controls",
      "_model_module_version": "1.5.0",
      "_model_name": "DescriptionStyleModel",
      "_view_count": null,
      "_view_module": "@jupyter-widgets/base",
      "_view_module_version": "1.2.0",
      "_view_name": "StyleView",
      "description_width": ""
     }
    },
    "d9c987dc0e724a6ea069dbd20eb71af3": {
     "model_module": "@jupyter-widgets/base",
     "model_module_version": "1.2.0",
     "model_name": "LayoutModel",
     "state": {
      "_model_module": "@jupyter-widgets/base",
      "_model_module_version": "1.2.0",
      "_model_name": "LayoutModel",
      "_view_count": null,
      "_view_module": "@jupyter-widgets/base",
      "_view_module_version": "1.2.0",
      "_view_name": "LayoutView",
      "align_content": null,
      "align_items": null,
      "align_self": null,
      "border": null,
      "bottom": null,
      "display": null,
      "flex": null,
      "flex_flow": null,
      "grid_area": null,
      "grid_auto_columns": null,
      "grid_auto_flow": null,
      "grid_auto_rows": null,
      "grid_column": null,
      "grid_gap": null,
      "grid_row": null,
      "grid_template_areas": null,
      "grid_template_columns": null,
      "grid_template_rows": null,
      "height": null,
      "justify_content": null,
      "justify_items": null,
      "left": null,
      "margin": null,
      "max_height": null,
      "max_width": null,
      "min_height": null,
      "min_width": null,
      "object_fit": null,
      "object_position": null,
      "order": null,
      "overflow": null,
      "overflow_x": null,
      "overflow_y": null,
      "padding": null,
      "right": null,
      "top": null,
      "visibility": null,
      "width": null
     }
    },
    "dab00f49ef43470ca5fdf05ab88aa4f8": {
     "model_module": "@jupyter-widgets/controls",
     "model_module_version": "1.5.0",
     "model_name": "ProgressStyleModel",
     "state": {
      "_model_module": "@jupyter-widgets/controls",
      "_model_module_version": "1.5.0",
      "_model_name": "ProgressStyleModel",
      "_view_count": null,
      "_view_module": "@jupyter-widgets/base",
      "_view_module_version": "1.2.0",
      "_view_name": "StyleView",
      "bar_color": null,
      "description_width": ""
     }
    },
    "e38e391fe2944460bc96f0b2b7e8d632": {
     "model_module": "@jupyter-widgets/base",
     "model_module_version": "1.2.0",
     "model_name": "LayoutModel",
     "state": {
      "_model_module": "@jupyter-widgets/base",
      "_model_module_version": "1.2.0",
      "_model_name": "LayoutModel",
      "_view_count": null,
      "_view_module": "@jupyter-widgets/base",
      "_view_module_version": "1.2.0",
      "_view_name": "LayoutView",
      "align_content": null,
      "align_items": null,
      "align_self": null,
      "border": null,
      "bottom": null,
      "display": null,
      "flex": null,
      "flex_flow": null,
      "grid_area": null,
      "grid_auto_columns": null,
      "grid_auto_flow": null,
      "grid_auto_rows": null,
      "grid_column": null,
      "grid_gap": null,
      "grid_row": null,
      "grid_template_areas": null,
      "grid_template_columns": null,
      "grid_template_rows": null,
      "height": null,
      "justify_content": null,
      "justify_items": null,
      "left": null,
      "margin": null,
      "max_height": null,
      "max_width": null,
      "min_height": null,
      "min_width": null,
      "object_fit": null,
      "object_position": null,
      "order": null,
      "overflow": null,
      "overflow_x": null,
      "overflow_y": null,
      "padding": null,
      "right": null,
      "top": null,
      "visibility": null,
      "width": null
     }
    },
    "e9935bfec3d945a2b841bd8a8d520aa9": {
     "model_module": "@jupyter-widgets/controls",
     "model_module_version": "1.5.0",
     "model_name": "HTMLModel",
     "state": {
      "_dom_classes": [],
      "_model_module": "@jupyter-widgets/controls",
      "_model_module_version": "1.5.0",
      "_model_name": "HTMLModel",
      "_view_count": null,
      "_view_module": "@jupyter-widgets/controls",
      "_view_module_version": "1.5.0",
      "_view_name": "HTMLView",
      "description": "",
      "description_tooltip": null,
      "layout": "IPY_MODEL_bacfa0d39f2648afa97926baf6d7fae8",
      "placeholder": "​",
      "style": "IPY_MODEL_13ca23b23316489797de921564b200e1",
      "value": " 3/3 [00:00&lt;00:00, 16.19it/s]"
     }
    },
    "f06a5c7319c3470aa5051ebf6bf1f21e": {
     "model_module": "@jupyter-widgets/base",
     "model_module_version": "1.2.0",
     "model_name": "LayoutModel",
     "state": {
      "_model_module": "@jupyter-widgets/base",
      "_model_module_version": "1.2.0",
      "_model_name": "LayoutModel",
      "_view_count": null,
      "_view_module": "@jupyter-widgets/base",
      "_view_module_version": "1.2.0",
      "_view_name": "LayoutView",
      "align_content": null,
      "align_items": null,
      "align_self": null,
      "border": null,
      "bottom": null,
      "display": null,
      "flex": null,
      "flex_flow": null,
      "grid_area": null,
      "grid_auto_columns": null,
      "grid_auto_flow": null,
      "grid_auto_rows": null,
      "grid_column": null,
      "grid_gap": null,
      "grid_row": null,
      "grid_template_areas": null,
      "grid_template_columns": null,
      "grid_template_rows": null,
      "height": null,
      "justify_content": null,
      "justify_items": null,
      "left": null,
      "margin": null,
      "max_height": null,
      "max_width": null,
      "min_height": null,
      "min_width": null,
      "object_fit": null,
      "object_position": null,
      "order": null,
      "overflow": null,
      "overflow_x": null,
      "overflow_y": null,
      "padding": null,
      "right": null,
      "top": null,
      "visibility": null,
      "width": null
     }
    },
    "f1cea024e59b4cc090cc8a23a4e27dc6": {
     "model_module": "@jupyter-widgets/controls",
     "model_module_version": "1.5.0",
     "model_name": "DescriptionStyleModel",
     "state": {
      "_model_module": "@jupyter-widgets/controls",
      "_model_module_version": "1.5.0",
      "_model_name": "DescriptionStyleModel",
      "_view_count": null,
      "_view_module": "@jupyter-widgets/base",
      "_view_module_version": "1.2.0",
      "_view_name": "StyleView",
      "description_width": ""
     }
    },
    "f2ea9a91dce64a45b43705b308b5bc5b": {
     "model_module": "@jupyter-widgets/base",
     "model_module_version": "1.2.0",
     "model_name": "LayoutModel",
     "state": {
      "_model_module": "@jupyter-widgets/base",
      "_model_module_version": "1.2.0",
      "_model_name": "LayoutModel",
      "_view_count": null,
      "_view_module": "@jupyter-widgets/base",
      "_view_module_version": "1.2.0",
      "_view_name": "LayoutView",
      "align_content": null,
      "align_items": null,
      "align_self": null,
      "border": null,
      "bottom": null,
      "display": null,
      "flex": null,
      "flex_flow": null,
      "grid_area": null,
      "grid_auto_columns": null,
      "grid_auto_flow": null,
      "grid_auto_rows": null,
      "grid_column": null,
      "grid_gap": null,
      "grid_row": null,
      "grid_template_areas": null,
      "grid_template_columns": null,
      "grid_template_rows": null,
      "height": null,
      "justify_content": null,
      "justify_items": null,
      "left": null,
      "margin": null,
      "max_height": null,
      "max_width": null,
      "min_height": null,
      "min_width": null,
      "object_fit": null,
      "object_position": null,
      "order": null,
      "overflow": null,
      "overflow_x": null,
      "overflow_y": null,
      "padding": null,
      "right": null,
      "top": null,
      "visibility": null,
      "width": null
     }
    }
   }
  }
 },
 "nbformat": 4,
 "nbformat_minor": 1
}
