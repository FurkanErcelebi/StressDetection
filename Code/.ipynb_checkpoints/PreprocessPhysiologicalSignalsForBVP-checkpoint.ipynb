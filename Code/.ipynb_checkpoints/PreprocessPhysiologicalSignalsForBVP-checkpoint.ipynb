{
 "cells": [
  {
   "cell_type": "code",
   "execution_count": null,
   "metadata": {},
   "outputs": [],
   "source": [
    "!pip install python-dotenv"
   ]
  },
  {
   "cell_type": "code",
   "execution_count": null,
   "metadata": {
    "colab": {
     "base_uri": "https://localhost:8080/"
    },
    "executionInfo": {
     "elapsed": 61856,
     "status": "ok",
     "timestamp": 1737528447279,
     "user": {
      "displayName": "İbrahim Furkan",
      "userId": "03214658540359897285"
     },
     "user_tz": -180
    },
    "id": "3ci30I094Z4O",
    "outputId": "1012eca0-7b20-4d6e-b417-9f7a628b28d5"
   },
   "outputs": [],
   "source": [
    "import numpy as np # linear algebra\n",
    "import pandas as pd # data processing, CSV file I/O (e.g. pd.read_csv)\n",
    "import math\n",
    "import zipfile\n",
    "import os\n",
    "import random\n",
    "import re\n",
    "import seaborn as sns\n",
    "from scipy import stats, signal\n",
    "from sklearn.impute import KNNImputer\n",
    "from datetime import datetime\n",
    "\n",
    "\n",
    "from google.colab import drive\n",
    "\n",
    "drive.mount('/content/drive', force_remount=True)\n",
    "\n",
    "dotenv.load_dotenv('/content/drive/MyDrive/.env')\n",
    "\n",
    "MAIN_PATH = os.environ.get('MAIN_EXP_PATH')\n",
    "MAIN_PROCESSED_PATH = f\"{MAIN_PATH}(Processed)\"\n",
    "DATASET_PROCEDURES = ['DP_1', 'DP_2']\n"
   ]
  },
  {
   "cell_type": "code",
   "execution_count": null,
   "metadata": {
    "colab": {
     "base_uri": "https://localhost:8080/",
     "height": 36
    },
    "executionInfo": {
     "elapsed": 15,
     "status": "ok",
     "timestamp": 1737528447281,
     "user": {
      "displayName": "İbrahim Furkan",
      "userId": "03214658540359897285"
     },
     "user_tz": -180
    },
    "id": "7UlmO6KQvh1U",
    "outputId": "3f539416-a507-4a16-f6b0-cb5d2493937b"
   },
   "outputs": [],
   "source": [
    "os.getcwd()"
   ]
  },
  {
   "cell_type": "code",
   "execution_count": null,
   "metadata": {
    "colab": {
     "base_uri": "https://localhost:8080/"
    },
    "executionInfo": {
     "elapsed": 1632,
     "status": "ok",
     "timestamp": 1737528448902,
     "user": {
      "displayName": "İbrahim Furkan",
      "userId": "03214658540359897285"
     },
     "user_tz": -180
    },
    "id": "EViEZwIVHZbe",
    "outputId": "3f0f5631-7161-4774-9675-deac739fe06b"
   },
   "outputs": [],
   "source": [
    "diagnosis_results = [item for item in os.listdir(MAIN_PATH) if not \".\" in item]\n",
    "diagnosis_results"
   ]
  },
  {
   "cell_type": "code",
   "execution_count": null,
   "metadata": {
    "colab": {
     "base_uri": "https://localhost:8080/"
    },
    "executionInfo": {
     "elapsed": 12193,
     "status": "ok",
     "timestamp": 1737528461092,
     "user": {
      "displayName": "İbrahim Furkan",
      "userId": "03214658540359897285"
     },
     "user_tz": -180
    },
    "id": "TFCQOLUdMUkM",
    "outputId": "3184f2da-de9b-4a83-b94d-6864372ee1df"
   },
   "outputs": [],
   "source": [
    "# from there https://www.geeksforgeeks.org/python-list-all-files-in-directory-and-subdirectories/\n",
    "all_data_infos = []\n",
    "\n",
    "def list_files_scandir(path='.'):\n",
    "    with os.scandir(path) as entries:\n",
    "        for entry in entries:\n",
    "            if entry.is_file():\n",
    "                if entry.path.endswith(\"BVP.csv\"):\n",
    "                  sample_components = entry.path.split(MAIN_PATH)[1].split('/')\n",
    "                  all_data_infos.append({\n",
    "                      'diagnose_result': sample_components[1],\n",
    "                      'sample_name': sample_components[2],\n",
    "                      'game_name': sample_components[3],\n",
    "                  })\n",
    "            elif entry.is_dir():\n",
    "                list_files_scandir(entry.path)\n",
    "\n",
    "list_files_scandir(MAIN_PATH)\n",
    "\n",
    "print(f'Number of files will be used : {len(all_data_infos)}')"
   ]
  },
  {
   "cell_type": "markdown",
   "metadata": {
    "id": "d3UnomIjK-6f"
   },
   "source": [
    "###Physiological Metric Colleting"
   ]
  },
  {
   "cell_type": "markdown",
   "metadata": {
    "id": "dA7PLNcsLLvU"
   },
   "source": [
    "####- Blood Volume Pulse"
   ]
  },
  {
   "cell_type": "markdown",
   "metadata": {
    "id": "8ZsNwXPq-9iD"
   },
   "source": [
    "From random sample , showing results."
   ]
  },
  {
   "cell_type": "code",
   "execution_count": null,
   "metadata": {
    "executionInfo": {
     "elapsed": 8,
     "status": "ok",
     "timestamp": 1737528461093,
     "user": {
      "displayName": "İbrahim Furkan",
      "userId": "03214658540359897285"
     },
     "user_tz": -180
    },
    "id": "Q5qLLmHjps-S"
   },
   "outputs": [],
   "source": [
    "random_samples = random.sample(all_data_infos, 3)"
   ]
  },
  {
   "cell_type": "code",
   "execution_count": null,
   "metadata": {
    "executionInfo": {
     "elapsed": 273,
     "status": "ok",
     "timestamp": 1737528461359,
     "user": {
      "displayName": "İbrahim Furkan",
      "userId": "03214658540359897285"
     },
     "user_tz": -180
    },
    "id": "O_t2v-_AKkUq"
   },
   "outputs": [],
   "source": [
    "\n",
    "\n",
    "sample_path = MAIN_PATH + '/' + random_samples[0]['diagnose_result']\n",
    "sample_path += '/' + random_samples[0]['sample_name']\n",
    "sample_path += '/' + random_samples[0]['game_name']\n",
    "df = pd.read_csv(f'{sample_path}/BVP.csv')\n",
    "df.insert(df.shape[1], 'source_file', [f'{sample_path}/BVP.csv' for _ in range(df.shape[0])])"
   ]
  },
  {
   "cell_type": "code",
   "execution_count": null,
   "metadata": {
    "executionInfo": {
     "elapsed": 417,
     "status": "ok",
     "timestamp": 1737528461773,
     "user": {
      "displayName": "İbrahim Furkan",
      "userId": "03214658540359897285"
     },
     "user_tz": -180
    },
    "id": "iH-yhi5W-hlY"
   },
   "outputs": [],
   "source": [
    "sample_path = f'{MAIN_PATH}/Intellectual Disabilities/C8/LeapBall/BVP.csv'\n",
    "df = pd.read_csv(sample_path)\n",
    "df.insert(df.shape[1], 'source_file', [sample_path for _ in range(df.shape[0])])"
   ]
  },
  {
   "cell_type": "code",
   "execution_count": null,
   "metadata": {
    "executionInfo": {
     "elapsed": 23,
     "status": "ok",
     "timestamp": 1737528461774,
     "user": {
      "displayName": "İbrahim Furkan",
      "userId": "03214658540359897285"
     },
     "user_tz": -180
    },
    "id": "2Ad7fYSOcrm1"
   },
   "outputs": [],
   "source": [
    "def get_formatted_values(bvp_value):\n",
    "  result_value = bvp_value\n",
    "  if type(bvp_value).__name__ == 'str':\n",
    "    if len(result_value.split(',')) == 3:\n",
    "      result_value_parts = result_value.split(',')\n",
    "      result_value = f'{result_value_parts[0]},{result_value_parts[1]}'\n",
    "\n",
    "    result_value = result_value.replace(',','.')\n",
    "    # value_parts = bvp_value.replace(',','.').split('.')\n",
    "    # print(value_parts)\n",
    "    # if len(value_parts) > 1:\n",
    "    #   result = '';\n",
    "    #   for i in range(len(value_parts) - 1):\n",
    "    #     result += value_parts[i]\n",
    "    #   return f'{result}.{value_parts[i]}'\n",
    "  return result_value\n",
    "\n",
    "def format_time_str(time_value):\n",
    "  fomatted_time = time_value\n",
    "  if re.search(r'[a-zA-Z]', fomatted_time.replace(',', '')) is not None:\n",
    "    return pd.NA\n",
    "\n",
    "  if len(fomatted_time.split(',')) == 3:\n",
    "    fomatted_time_parts = fomatted_time.split(',')\n",
    "    fomatted_time = f'{fomatted_time_parts[0]},{fomatted_time_parts[1]}'\n",
    "  elif len(fomatted_time.split(',')) == 1:\n",
    "    fomatted_time = f'{fomatted_time},0000'\n",
    "\n",
    "  return fomatted_time.replace(',','.')"
   ]
  },
  {
   "cell_type": "code",
   "execution_count": null,
   "metadata": {
    "executionInfo": {
     "elapsed": 22,
     "status": "ok",
     "timestamp": 1737528461774,
     "user": {
      "displayName": "İbrahim Furkan",
      "userId": "03214658540359897285"
     },
     "user_tz": -180
    },
    "id": "ki5jQBEitDM0"
   },
   "outputs": [],
   "source": [
    "na_time_value_checks = df['time'].apply(format_time_str).isna().values\n",
    "#na_time_value_checks = pd.to_datetime(df['time'].apply(format_time_str), unit='s').isna().values\n",
    "for idx in range(len(na_time_value_checks)):\n",
    "  if na_time_value_checks[idx] == True:\n",
    "    tmp_time_value = df.loc[idx, 'values']\n",
    "    df.loc[idx, 'time'] = tmp_time_value\n",
    "    df.loc[idx, 'values'] = np.NAN\n",
    "\n",
    "#df['time'] = pd.to_datetime(df['time'].apply(format_time_str), unit='s')\n",
    "df = df.drop_duplicates(subset=['time'])\n",
    "df = df.sort_values(by=['time'])"
   ]
  },
  {
   "cell_type": "code",
   "execution_count": null,
   "metadata": {
    "colab": {
     "base_uri": "https://localhost:8080/",
     "height": 335
    },
    "executionInfo": {
     "elapsed": 23,
     "status": "ok",
     "timestamp": 1737528461775,
     "user": {
      "displayName": "İbrahim Furkan",
      "userId": "03214658540359897285"
     },
     "user_tz": -180
    },
    "id": "xMlcCSylxwQr",
    "outputId": "90120b71-a3cf-40aa-8ea7-b636b5ad0cf4"
   },
   "outputs": [],
   "source": [
    "if 'BVP' in df.columns:\n",
    "  df = df.drop(columns=['BVP'], axis=1)\n",
    "df['values'] = df['values'].apply(lambda x: get_formatted_values(x)).astype(np.float64)\n",
    "df['values'].describe()"
   ]
  },
  {
   "cell_type": "code",
   "execution_count": null,
   "metadata": {
    "colab": {
     "base_uri": "https://localhost:8080/"
    },
    "executionInfo": {
     "elapsed": 20,
     "status": "ok",
     "timestamp": 1737528461775,
     "user": {
      "displayName": "İbrahim Furkan",
      "userId": "03214658540359897285"
     },
     "user_tz": -180
    },
    "id": "mUhBxpfjdk7_",
    "outputId": "38741d32-8685-4771-8d37-22fb797d1805"
   },
   "outputs": [],
   "source": [
    "sample_values = df['values'].values\n",
    "sample_mean = sample_values.mean()\n",
    "print(sample_values.mean())\n",
    "sample_std = sample_values.std()\n",
    "print(sample_std)\n",
    "print(sample_values.min())\n",
    "print([sample_mean - sample_std, sample_mean +  sample_std])\n",
    "print([sample_mean - 2 * sample_std, sample_mean +  2 * sample_std])\n",
    "print([sample_mean - 3 * sample_std, sample_mean +  3 * sample_std])\n",
    "print(sample_values.max())\n",
    "zscore_samples = stats.zscore(sample_values)\n",
    "print(zscore_samples.max())\n",
    "print(zscore_samples.min())"
   ]
  },
  {
   "cell_type": "markdown",
   "metadata": {
    "id": "djQUrsK9_IPa"
   },
   "source": [
    "Apply all dataset values and show summaries"
   ]
  },
  {
   "cell_type": "code",
   "execution_count": null,
   "metadata": {
    "executionInfo": {
     "elapsed": 15,
     "status": "ok",
     "timestamp": 1737528461775,
     "user": {
      "displayName": "İbrahim Furkan",
      "userId": "03214658540359897285"
     },
     "user_tz": -180
    },
    "id": "kXVcvgy9gf-P"
   },
   "outputs": [],
   "source": [
    "def format_label_value(lable_value):\n",
    "  return_label = lable_value\n",
    "  print(type(lable_value), lable_value)\n",
    "  if type(lable_value) == 'str':\n",
    "    if lable_value == 'Stress':\n",
    "      return_label = 1\n",
    "    elif lable_value == 'No Stress':\n",
    "      return_label = 0\n",
    "    else:\n",
    "      return_label = -1\n",
    "\n",
    "  return_label"
   ]
  },
  {
   "cell_type": "code",
   "execution_count": null,
   "metadata": {
    "executionInfo": {
     "elapsed": 15,
     "status": "ok",
     "timestamp": 1737528461776,
     "user": {
      "displayName": "İbrahim Furkan",
      "userId": "03214658540359897285"
     },
     "user_tz": -180
    },
    "id": "mLIiTOuUbUhh"
   },
   "outputs": [],
   "source": [
    "\n",
    "def get_number_of_labels(sample_df_path):\n",
    "  experLabel_df = pd.read_csv(f'{sample_df_path}/ExpertLabels.csv')\n",
    "  number_of_labels = 0\n",
    "  for label_values in experLabel_df[['Expert1','Expert2','Expert3']].values[1:]:\n",
    "    if np.any([(label_value.__class__.__name__ == 'str') for label_value in label_values]):\n",
    "      number_of_labels += 1\n",
    "\n",
    "  return number_of_labels"
   ]
  },
  {
   "cell_type": "code",
   "execution_count": null,
   "metadata": {
    "executionInfo": {
     "elapsed": 14,
     "status": "ok",
     "timestamp": 1737528461776,
     "user": {
      "displayName": "İbrahim Furkan",
      "userId": "03214658540359897285"
     },
     "user_tz": -180
    },
    "id": "5kiqX5YKaaCl"
   },
   "outputs": [],
   "source": [
    "min_treashold = -0.05"
   ]
  },
  {
   "cell_type": "code",
   "execution_count": null,
   "metadata": {
    "executionInfo": {
     "elapsed": 13,
     "status": "ok",
     "timestamp": 1737528461776,
     "user": {
      "displayName": "İbrahim Furkan",
      "userId": "03214658540359897285"
     },
     "user_tz": -180
    },
    "id": "UixLyNStDq8b"
   },
   "outputs": [],
   "source": [
    "def fill_time_values(sample_df):\n",
    "  sample_df_coyp = sample_df.copy()\n",
    "  na_time_value_checks = sample_df_coyp['time'].apply(format_time_str).isna().values\n",
    "  #na_time_value_checks = pd.to_datetime(df['time'].apply(format_time_str), unit='s').isna().values\n",
    "  for idx in range(len(na_time_value_checks)):\n",
    "    if na_time_value_checks[idx] == True:\n",
    "      tmp_time_value = sample_df_coyp.loc[idx, 'values']\n",
    "      sample_df_coyp.loc[idx, 'time'] = tmp_time_value\n",
    "      sample_df_coyp.loc[idx, 'values'] = np.NAN\n",
    "\n",
    "  #df['time'] = pd.to_datetime(df['time'].apply(format_time_str), unit='s')\n",
    "  sample_df_coyp = sample_df_coyp.drop_duplicates(subset=['time'])\n",
    "  sample_df_coyp = sample_df_coyp.sort_values(by=['time'])\n",
    "  print(datetime.utcfromtimestamp(float(sample_df_coyp['time'].values[0].replace(\",\",\".\"))).strftime('%Y-%m-%d %H:%M:%S'))\n",
    "  print(datetime.utcfromtimestamp(float(sample_df_coyp['time'].values[-1].replace(\",\",\".\"))).strftime('%Y-%m-%d %H:%M:%S'))\n",
    "  return sample_df_coyp\n",
    "\n",
    "def get_bvp_dataframe(data_infos):\n",
    "  sample_path = data_infos['diagnose_result']\n",
    "  sample_path += '/' + data_infos['sample_name']\n",
    "  sample_path += '/' + data_infos['game_name']\n",
    "  print(f'Reading values in file {sample_path} ...')\n",
    "  bvp_path = f'{MAIN_PATH}/{sample_path}/BVP.csv'\n",
    "  df = pd.read_csv(bvp_path)\n",
    "  df.insert(df.shape[1], 'source_file', [sample_path for _ in range(df.shape[0])])\n",
    "  if 'BVP' in df.columns:\n",
    "    df = df.drop(columns=['BVP'], axis=1)\n",
    "  df = fill_time_values(df)\n",
    "  df['values'] = df['values'].apply(lambda x: get_formatted_values(x)).astype(np.float64)\n",
    "  number_of_labels = get_number_of_labels(f'{MAIN_PATH}/{sample_path}')\n",
    "  chnaged_rate = (df.shape[0] - (number_of_labels * 640)) / df.shape[0]\n",
    "  if chnaged_rate < min_treashold :\n",
    "    print(f\"Rate of losed values is higher than {min_treashold} as {chnaged_rate}\")\n",
    "    return None\n",
    "  df_copy = df.copy()\n",
    "  if chnaged_rate > 0:\n",
    "    df_copy = df.iloc[:, :(number_of_labels * 640)]\n",
    "  else:\n",
    "    df_copy = df.iloc[:, :(df.shape[0] - (df.shape[0] % 640))]\n",
    "  # print(df.shape[0], (chnaged_rate * 100), f'Use : {use_data} , possible total number of signals : { (df.shape[0] - (df.shape[0] % 640))}')\n",
    "  return df_copy\n"
   ]
  },
  {
   "cell_type": "code",
   "execution_count": null,
   "metadata": {
    "colab": {
     "base_uri": "https://localhost:8080/",
     "height": 1000
    },
    "executionInfo": {
     "elapsed": 39371,
     "status": "ok",
     "timestamp": 1737528501135,
     "user": {
      "displayName": "İbrahim Furkan",
      "userId": "03214658540359897285"
     },
     "user_tz": -180
    },
    "id": "PPjUjOiP_2sT",
    "outputId": "b501f4c5-c4cc-4fec-c20b-590165770ac7"
   },
   "outputs": [],
   "source": [
    "\n",
    "all_bvp_dataframe = pd.DataFrame()\n",
    "for BVP_file in all_data_infos:\n",
    "  bvp_dataframe = get_bvp_dataframe(BVP_file)\n",
    "  if bvp_dataframe is not None:\n",
    "    all_bvp_dataframe = pd.concat([all_bvp_dataframe, bvp_dataframe])\n",
    "\n",
    "\n",
    "print(\"Gathering copmleted!\")\n",
    "all_bvp_dataframe.index = [idx for idx in range(all_bvp_dataframe.shape[0])]\n",
    "all_bvp_dataframe['values'].describe()"
   ]
  },
  {
   "cell_type": "code",
   "execution_count": null,
   "metadata": {
    "executionInfo": {
     "elapsed": 12,
     "status": "ok",
     "timestamp": 1737528501136,
     "user": {
      "displayName": "İbrahim Furkan",
      "userId": "03214658540359897285"
     },
     "user_tz": -180
    },
    "id": "a60uSyVVjkqh"
   },
   "outputs": [],
   "source": [
    "def get_outliyes_in_datafame_by_three_sigma_std(sample_data_frame, column, sigma_level):\n",
    "  sample_data_frame_copy = sample_data_frame.copy()\n",
    "  total_mean = sample_data_frame_copy[column].mean()\n",
    "  total_std = sample_data_frame_copy[column].std()\n",
    "  total_min = sample_data_frame_copy[column].min()\n",
    "  total_max = sample_data_frame_copy[column].max()\n",
    "  print(f'Mean: {total_mean}')\n",
    "  print(f'Standard Deviation: {total_std}')\n",
    "  print(f'Minimum: {total_min}')\n",
    "  print(f'Maximum: {total_max}')\n",
    "  for level in range(1, sigma_level):\n",
    "    print(f'Sigma-1 Standard Deviations: {[total_mean - total_std, total_mean +  total_std]}')\n",
    "  three_sigmoid_limits = [(total_mean - sigma_level * total_std), (total_mean +  sigma_level * total_std)]\n",
    "  outlier_column = f'{column}_is_outlier'\n",
    "  sample_data_frame_copy[outlier_column] = sample_data_frame_copy[column].apply(lambda x: (x < three_sigmoid_limits[0]) or (x > three_sigmoid_limits[1])).values.astype(np.bool_)\n",
    "  print(f'Outliyer count for upper-lower limitation: {sample_data_frame_copy[sample_data_frame_copy[outlier_column] == True].shape}')\n",
    "  return sample_data_frame_copy\n"
   ]
  },
  {
   "cell_type": "code",
   "execution_count": null,
   "metadata": {
    "colab": {
     "base_uri": "https://localhost:8080/",
     "height": 527
    },
    "executionInfo": {
     "elapsed": 603,
     "status": "ok",
     "timestamp": 1737528501729,
     "user": {
      "displayName": "İbrahim Furkan",
      "userId": "03214658540359897285"
     },
     "user_tz": -180
    },
    "id": "OIiNM4K0ej5X",
    "outputId": "56418c96-1c9a-42b7-932c-64e734b2e3fa"
   },
   "outputs": [],
   "source": [
    "outliers_bvp_datafame = get_outliyes_in_datafame_by_three_sigma_std(all_bvp_dataframe, 'values', 2)\n",
    "outliers_bvp_datafame[outliers_bvp_datafame['values_is_outlier'] == True]"
   ]
  },
  {
   "cell_type": "code",
   "execution_count": null,
   "metadata": {
    "executionInfo": {
     "elapsed": 9,
     "status": "ok",
     "timestamp": 1737528501730,
     "user": {
      "displayName": "İbrahim Furkan",
      "userId": "03214658540359897285"
     },
     "user_tz": -180
    },
    "id": "BR4du4s4k4-n"
   },
   "outputs": [],
   "source": [
    "\n",
    "def get_zscores_in_datafame(data_value, t_mean, t_std):\n",
    "  return (data_value - t_mean) / t_std\n",
    "\n",
    "def get_outliyes_in_datafame_by_z_score(sample_data_frame, column, z_score_column, score_threashold):\n",
    "  sample_data_frame_copy = sample_data_frame.copy()\n",
    "  total_mean = sample_data_frame_copy[column].mean()\n",
    "  total_std = sample_data_frame_copy[column].std()\n",
    "\n",
    "  sample_data_frame_copy[z_score_column] = sample_data_frame_copy[column].apply(lambda x: get_zscores_in_datafame(x, total_mean, total_std))\n",
    "\n",
    "  zscore_samples_min = sample_data_frame_copy[z_score_column].min()\n",
    "  zscore_samples_max = sample_data_frame_copy[z_score_column].max()\n",
    "  print(f'Z-score min : {zscore_samples_min}')\n",
    "  print(f'Z-score max : {zscore_samples_max}')\n",
    "  outlier_column = f'{z_score_column}_is_outlier'\n",
    "  sample_data_frame_copy[outlier_column] = sample_data_frame_copy[z_score_column].apply(lambda x: ((x < (-1 * (score_threashold))) | (x > (score_threashold))))\n",
    "  print(f'Outliyer count for upper-lower limitation: {sample_data_frame_copy[sample_data_frame_copy[outlier_column] == True].shape}')\n",
    "  return sample_data_frame_copy\n"
   ]
  },
  {
   "cell_type": "code",
   "execution_count": null,
   "metadata": {
    "colab": {
     "base_uri": "https://localhost:8080/",
     "height": 475
    },
    "executionInfo": {
     "elapsed": 750,
     "status": "ok",
     "timestamp": 1737528502472,
     "user": {
      "displayName": "İbrahim Furkan",
      "userId": "03214658540359897285"
     },
     "user_tz": -180
    },
    "id": "lSGoLC03QvGG",
    "outputId": "a796a4ec-dcaf-4785-de38-0002f2dfd67b"
   },
   "outputs": [],
   "source": [
    "outliers_bvp_datafame = get_outliyes_in_datafame_by_z_score(all_bvp_dataframe,'values', 'zscores', 2.0)\n",
    "outliers_bvp_datafame[outliers_bvp_datafame['zscores_is_outlier'] == True]"
   ]
  },
  {
   "cell_type": "code",
   "execution_count": null,
   "metadata": {
    "colab": {
     "base_uri": "https://localhost:8080/"
    },
    "executionInfo": {
     "elapsed": 4609,
     "status": "ok",
     "timestamp": 1737528507069,
     "user": {
      "displayName": "İbrahim Furkan",
      "userId": "03214658540359897285"
     },
     "user_tz": -180
    },
    "id": "sy6j0zKjGwSl",
    "outputId": "05672d90-6cd7-48af-db9d-b360be510b6e"
   },
   "outputs": [],
   "source": [
    "outliers_bvp_datafame = get_outliyes_in_datafame_by_z_score(all_bvp_dataframe,'values', 'zscores', 2.0)\n",
    "\n",
    "print(f'Number of nan before outliyers assigned s nan value : {all_bvp_dataframe[\"values\"].isna().sum()}')\n",
    "\n",
    "for index in outliers_bvp_datafame[outliers_bvp_datafame['zscores_is_outlier'] == True].index.values:\n",
    "  outliers_bvp_datafame.iloc[(index), 1] = pd.NA\n",
    "\n",
    "print(f'Number of nan after outliyers assigned s nan value : {outliers_bvp_datafame[\"values\"].isna().sum()}')"
   ]
  },
  {
   "cell_type": "markdown",
   "metadata": {
    "id": "1qSg988Ga4H6"
   },
   "source": [
    "Apply KNN for misssing values"
   ]
  },
  {
   "cell_type": "code",
   "execution_count": null,
   "metadata": {
    "executionInfo": {
     "elapsed": 3172,
     "status": "ok",
     "timestamp": 1737528510236,
     "user": {
      "displayName": "İbrahim Furkan",
      "userId": "03214658540359897285"
     },
     "user_tz": -180
    },
    "id": "HsIsGGcXPcIq"
   },
   "outputs": [],
   "source": [
    "source_file_name_list = outliers_bvp_datafame['source_file'].unique()\n",
    "values_filtered_list = []\n",
    "for source_file_name in source_file_name_list:\n",
    "  values_filtered_list.append(outliers_bvp_datafame[outliers_bvp_datafame[\"source_file\"] == source_file_name][\"values\"].values)\n",
    "# values_filtered_list = outliers_bvp_datafame[\"values\"].map(lambda x: np.array(x)).values.reshape(-1,1)\n",
    "\n",
    "max_length = np.array([values_filtered.shape[0] for values_filtered in values_filtered_list]).max()\n",
    "for idx in range(len(values_filtered_list)):\n",
    "  sub_values_filtered = values_filtered_list[idx]\n",
    "  for _ in range(max_length - sub_values_filtered.shape[0]):\n",
    "    sub_values_filtered = np.append(sub_values_filtered, np.nan)\n",
    "  values_filtered_list[idx] = np.array(sub_values_filtered).reshape((max_length,))\n"
   ]
  },
  {
   "cell_type": "code",
   "execution_count": null,
   "metadata": {
    "executionInfo": {
     "elapsed": 5745,
     "status": "ok",
     "timestamp": 1737528515977,
     "user": {
      "displayName": "İbrahim Furkan",
      "userId": "03214658540359897285"
     },
     "user_tz": -180
    },
    "id": "-iy3xe1IVamI"
   },
   "outputs": [],
   "source": [
    "imputer = KNNImputer(n_neighbors=5)\n",
    "filled_values_filtered_list = imputer.fit_transform(values_filtered_list)"
   ]
  },
  {
   "cell_type": "code",
   "execution_count": null,
   "metadata": {
    "colab": {
     "base_uri": "https://localhost:8080/"
    },
    "executionInfo": {
     "elapsed": 131241,
     "status": "ok",
     "timestamp": 1737528647213,
     "user": {
      "displayName": "İbrahim Furkan",
      "userId": "03214658540359897285"
     },
     "user_tz": -180
    },
    "id": "5NHDukiPMR69",
    "outputId": "57859431-5393-4aba-96c7-36a8e567a199"
   },
   "outputs": [],
   "source": [
    "main_path = f'{MAIN_PROCESSED_PATH} {DATASET_PROCEDURES[0]}'\n",
    "if not os.path.exists(main_path):\n",
    "  os.makedirs(main_path)\n",
    "\n",
    "for idx, source_file_name in enumerate(source_file_name_list):\n",
    "  subset_all_bvp_dataframe = all_bvp_dataframe[all_bvp_dataframe['source_file'] == source_file_name].copy()\n",
    "  subset_all_bvp_dataframe.drop(columns=['source_file'], inplace=True)\n",
    "  index_array = [idx for idx in range(subset_all_bvp_dataframe.shape[0])]\n",
    "  subset_all_bvp_dataframe.index = index_array\n",
    "  subset_all_bvp_dataframe['index'] = index_array\n",
    "  subset_all_bvp_dataframe['values'] = filled_values_filtered_list[idx][:subset_all_bvp_dataframe.shape[0]]\n",
    "  BVP_file_name = main_path\n",
    "\n",
    "  for file_path in source_file_name.split('/'):\n",
    "    BVP_file_name += '/' + file_path\n",
    "    if not os.path.exists(BVP_file_name):\n",
    "      os.makedirs(BVP_file_name)\n",
    "\n",
    "  BVP_file_name += '/BVP.csv'\n",
    "\n",
    "  if os.path.exists(BVP_file_name):\n",
    "    os.remove(BVP_file_name)\n",
    "  subset_all_bvp_dataframe.to_csv(BVP_file_name, index=True)\n",
    "  print(f'{BVP_file_name} file created')"
   ]
  },
  {
   "cell_type": "markdown",
   "metadata": {
    "id": "56wUAk9C8LKq"
   },
   "source": [
    "Calculate 3-Sigma Standard Deviation and Z-Scores In Values Peprocessed By sixth-order Chebyshev II Filter."
   ]
  },
  {
   "cell_type": "code",
   "execution_count": null,
   "metadata": {
    "colab": {
     "base_uri": "https://localhost:8080/"
    },
    "executionInfo": {
     "elapsed": 31,
     "status": "ok",
     "timestamp": 1737528647215,
     "user": {
      "displayName": "İbrahim Furkan",
      "userId": "03214658540359897285"
     },
     "user_tz": -180
    },
    "id": "m_JPyi6NC4S6",
    "outputId": "053a54ae-f93a-42eb-9dc6-60d31ea75c35"
   },
   "outputs": [],
   "source": [
    "#From this site: https://github.com/hiddenslate-dev/aktives-dataset-2022/blob/main/preprocess.ipynb\n",
    "\n",
    "# Cheby2 filter\n"
   ]
  },
  {
   "cell_type": "code",
   "execution_count": null,
   "metadata": {
    "colab": {
     "base_uri": "https://localhost:8080/",
     "height": 545
    },
    "executionInfo": {
     "elapsed": 809,
     "status": "ok",
     "timestamp": 1737528648018,
     "user": {
      "displayName": "İbrahim Furkan",
      "userId": "03214658540359897285"
     },
     "user_tz": -180
    },
    "id": "tHZFEJySPW81",
    "outputId": "8787aaa7-fbd7-428a-89d8-858e3006e5c2"
   },
   "outputs": [],
   "source": [
    "outliers_bvp_datafame = get_outliyes_in_datafame_by_three_sigma_std(all_bvp_dataframe, 'values_filtered', 3)\n",
    "outliers_bvp_datafame[outliers_bvp_datafame['values_filtered_is_outlier'] == True]"
   ]
  },
  {
   "cell_type": "code",
   "execution_count": null,
   "metadata": {
    "colab": {
     "base_uri": "https://localhost:8080/",
     "height": 475
    },
    "executionInfo": {
     "elapsed": 297,
     "status": "ok",
     "timestamp": 1737528648310,
     "user": {
      "displayName": "İbrahim Furkan",
      "userId": "03214658540359897285"
     },
     "user_tz": -180
    },
    "id": "S6ualyc5PWC7",
    "outputId": "680106ca-c6bf-4ba7-fd9d-97945e1ba74e"
   },
   "outputs": [],
   "source": [
    "outliers_bvp_datafame = get_outliyes_in_datafame_by_z_score(all_bvp_dataframe, 'values_filtered', 'zscores_filtered', 3.0)\n",
    "outliers_bvp_datafame[outliers_bvp_datafame['zscores_filtered_is_outlier'] == True]"
   ]
  },
  {
   "cell_type": "code",
   "execution_count": null,
   "metadata": {
    "colab": {
     "base_uri": "https://localhost:8080/"
    },
    "executionInfo": {
     "elapsed": 2679,
     "status": "ok",
     "timestamp": 1737528650982,
     "user": {
      "displayName": "İbrahim Furkan",
      "userId": "03214658540359897285"
     },
     "user_tz": -180
    },
    "id": "eiLwdZ0URDFB",
    "outputId": "c6176527-8f12-43b3-d6e7-1e94ef734ee9"
   },
   "outputs": [],
   "source": [
    "outliers_bvp_datafame = get_outliyes_in_datafame_by_z_score(all_bvp_dataframe,'values_filtered', 'zscores_filtered', 3.0)\n",
    "\n",
    "print(f'Number of nan before outliyers assigned s nan value : {all_bvp_dataframe[\"values_filtered\"].isna().sum()}')\n",
    "\n",
    "for index in outliers_bvp_datafame[outliers_bvp_datafame['zscores_filtered_is_outlier'] == True].index.values:\n",
    "  outliers_bvp_datafame.iloc[(index), 3] = pd.NA\n",
    "\n",
    "print(f'Number of nan after outliyers assigned s nan value : {outliers_bvp_datafame[\"values_filtered\"].isna().sum()}')"
   ]
  },
  {
   "cell_type": "markdown",
   "metadata": {
    "id": "WtRcl5YAlKVY"
   },
   "source": [
    "Apply KNN for misssing values"
   ]
  },
  {
   "cell_type": "code",
   "execution_count": null,
   "metadata": {
    "executionInfo": {
     "elapsed": 3388,
     "status": "ok",
     "timestamp": 1737528654365,
     "user": {
      "displayName": "İbrahim Furkan",
      "userId": "03214658540359897285"
     },
     "user_tz": -180
    },
    "id": "TffFBsDVlKVb"
   },
   "outputs": [],
   "source": [
    "source_file_name_list = outliers_bvp_datafame['source_file'].unique()\n",
    "values_filtered_list = []\n",
    "for source_file_name in source_file_name_list:\n",
    "  values_filtered_list.append(outliers_bvp_datafame[outliers_bvp_datafame[\"source_file\"] == source_file_name][\"values_filtered\"].values)\n",
    "# values_filtered_list = outliers_bvp_datafame[\"values\"].map(lambda x: np.array(x)).values.reshape(-1,1)\n",
    "\n",
    "max_length = np.array([values_filtered.shape[0] for values_filtered in values_filtered_list]).max()\n",
    "for idx in range(len(values_filtered_list)):\n",
    "  sub_values_filtered = values_filtered_list[idx]\n",
    "  for _ in range(max_length - sub_values_filtered.shape[0]):\n",
    "    sub_values_filtered = np.append(sub_values_filtered, np.nan)\n",
    "  values_filtered_list[idx] = np.array(sub_values_filtered).reshape((max_length,))\n"
   ]
  },
  {
   "cell_type": "code",
   "execution_count": null,
   "metadata": {
    "executionInfo": {
     "elapsed": 6552,
     "status": "ok",
     "timestamp": 1737528660912,
     "user": {
      "displayName": "İbrahim Furkan",
      "userId": "03214658540359897285"
     },
     "user_tz": -180
    },
    "id": "PHLCnISblKVd"
   },
   "outputs": [],
   "source": [
    "imputer = KNNImputer(n_neighbors=5)\n",
    "filled_values_filtered_list = imputer.fit_transform(values_filtered_list)"
   ]
  },
  {
   "cell_type": "markdown",
   "metadata": {
    "id": "erfwkbtnBOd_"
   },
   "source": [
    "Normalizing New Filtered Values"
   ]
  },
  {
   "cell_type": "code",
   "execution_count": null,
   "metadata": {
    "colab": {
     "base_uri": "https://localhost:8080/"
    },
    "executionInfo": {
     "elapsed": 9,
     "status": "ok",
     "timestamp": 1737528660913,
     "user": {
      "displayName": "İbrahim Furkan",
      "userId": "03214658540359897285"
     },
     "user_tz": -180
    },
    "id": "orkQTuIAGXTh",
    "outputId": "25152841-c421-4f3a-b710-c5ea9b431e7a"
   },
   "outputs": [],
   "source": [
    "np.unique(filled_values_filtered_list)"
   ]
  },
  {
   "cell_type": "code",
   "execution_count": null,
   "metadata": {
    "executionInfo": {
     "elapsed": 7,
     "status": "ok",
     "timestamp": 1737528660913,
     "user": {
      "displayName": "İbrahim Furkan",
      "userId": "03214658540359897285"
     },
     "user_tz": -180
    },
    "id": "LgLLE0bkBOFr"
   },
   "outputs": [],
   "source": [
    "filled_values_filtered_list = (filled_values_filtered_list - np.min(filled_values_filtered_list)) / (np.max(filled_values_filtered_list) - np.min(filled_values_filtered_list)) * 100\n"
   ]
  },
  {
   "cell_type": "code",
   "execution_count": null,
   "metadata": {
    "executionInfo": {
     "elapsed": 6,
     "status": "ok",
     "timestamp": 1737528660913,
     "user": {
      "displayName": "İbrahim Furkan",
      "userId": "03214658540359897285"
     },
     "user_tz": -180
    },
    "id": "YzPeDAgsEzJE"
   },
   "outputs": [],
   "source": [
    "del values_filtered_list"
   ]
  },
  {
   "cell_type": "code",
   "execution_count": null,
   "metadata": {
    "colab": {
     "base_uri": "https://localhost:8080/"
    },
    "executionInfo": {
     "elapsed": 120928,
     "status": "ok",
     "timestamp": 1737528781835,
     "user": {
      "displayName": "İbrahim Furkan",
      "userId": "03214658540359897285"
     },
     "user_tz": -180
    },
    "id": "L071EgpvlKVe",
    "outputId": "a142f321-bc39-41f0-cb3c-68906d262c34"
   },
   "outputs": [],
   "source": [
    "main_path = f'{MAIN_PROCESSED_PATH} {DATASET_PROCEDURES[1]}'\n",
    "if not os.path.exists(main_path):\n",
    "  os.makedirs(main_path)\n",
    "\n",
    "for idx, source_file_name in enumerate(source_file_name_list):\n",
    "  subset_all_bvp_dataframe = all_bvp_dataframe[all_bvp_dataframe['source_file'] == source_file_name].copy()\n",
    "  subset_all_bvp_dataframe.drop(columns=['source_file','values_filtered'], inplace=True)\n",
    "  index_array = [idx for idx in range(subset_all_bvp_dataframe.shape[0])]\n",
    "  subset_all_bvp_dataframe.index = index_array\n",
    "  # subset_all_bvp_dataframe['index'] = index_array\n",
    "  subset_all_bvp_dataframe['values'] = filled_values_filtered_list[idx][:subset_all_bvp_dataframe.shape[0]]\n",
    "  BVP_file_name = main_path\n",
    "\n",
    "  for file_path in source_file_name.split('/'):\n",
    "    BVP_file_name += f'/{file_path}'\n",
    "    if not os.path.exists(BVP_file_name):\n",
    "      os.makedirs(BVP_file_name)\n",
    "\n",
    "  BVP_file_name += '/BVP.csv'\n",
    "\n",
    "  if os.path.exists(BVP_file_name):\n",
    "    os.remove(BVP_file_name)\n",
    "  subset_all_bvp_dataframe.to_csv(BVP_file_name, index=True)\n",
    "  print(f'{BVP_file_name} file created')"
   ]
  },
  {
   "cell_type": "code",
   "execution_count": null,
   "metadata": {
    "executionInfo": {
     "elapsed": 30,
     "status": "ok",
     "timestamp": 1737528781835,
     "user": {
      "displayName": "İbrahim Furkan",
      "userId": "03214658540359897285"
     },
     "user_tz": -180
    },
    "id": "nmigeHFxc-q1"
   },
   "outputs": [],
   "source": []
  }
 ],
 "metadata": {
  "colab": {
   "machine_shape": "hm",
   "provenance": []
  },
  "kernelspec": {
   "display_name": "Python 3 (ipykernel)",
   "language": "python",
   "name": "python3"
  },
  "language_info": {
   "codemirror_mode": {
    "name": "ipython",
    "version": 3
   },
   "file_extension": ".py",
   "mimetype": "text/x-python",
   "name": "python",
   "nbconvert_exporter": "python",
   "pygments_lexer": "ipython3",
   "version": "3.9.13"
  },
  "varInspector": {
   "cols": {
    "lenName": 16,
    "lenType": 16,
    "lenVar": 40
   },
   "kernels_config": {
    "python": {
     "delete_cmd_postfix": "",
     "delete_cmd_prefix": "del ",
     "library": "var_list.py",
     "varRefreshCmd": "print(var_dic_list())"
    },
    "r": {
     "delete_cmd_postfix": ") ",
     "delete_cmd_prefix": "rm(",
     "library": "var_list.r",
     "varRefreshCmd": "cat(var_dic_list()) "
    }
   },
   "types_to_exclude": [
    "module",
    "function",
    "builtin_function_or_method",
    "instance",
    "_Feature"
   ],
   "window_display": false
  }
 },
 "nbformat": 4,
 "nbformat_minor": 1
}
