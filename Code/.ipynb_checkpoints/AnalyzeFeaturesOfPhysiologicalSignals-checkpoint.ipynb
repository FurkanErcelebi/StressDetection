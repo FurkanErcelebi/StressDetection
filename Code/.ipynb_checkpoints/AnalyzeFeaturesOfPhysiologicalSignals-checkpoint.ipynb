{
 "cells": [
  {
   "cell_type": "code",
   "execution_count": null,
   "metadata": {
    "executionInfo": {
     "elapsed": 657,
     "status": "ok",
     "timestamp": 1737582349068,
     "user": {
      "displayName": "İbrahim Furkan",
      "userId": "03214658540359897285"
     },
     "user_tz": -180
    },
    "id": "ZQrwQjMgSDMr"
   },
   "outputs": [],
   "source": [
    "# %reset -f"
   ]
  },
  {
   "cell_type": "code",
   "execution_count": null,
   "metadata": {
    "colab": {
     "base_uri": "https://localhost:8080/"
    },
    "executionInfo": {
     "elapsed": 10364,
     "status": "ok",
     "timestamp": 1737582360199,
     "user": {
      "displayName": "İbrahim Furkan",
      "userId": "03214658540359897285"
     },
     "user_tz": -180
    },
    "id": "3DQz9aebQ000",
    "outputId": "8edc627b-9781-45af-d183-ab73c55043a3"
   },
   "outputs": [],
   "source": [
    "!pip install python-dotenv imbalanced-learn"
   ]
  },
  {
   "cell_type": "code",
   "execution_count": null,
   "metadata": {
    "colab": {
     "base_uri": "https://localhost:8080/"
    },
    "executionInfo": {
     "elapsed": 86740,
     "status": "ok",
     "timestamp": 1737582446936,
     "user": {
      "displayName": "İbrahim Furkan",
      "userId": "03214658540359897285"
     },
     "user_tz": -180
    },
    "id": "MF0d570Ln3in",
    "outputId": "b9513c60-b827-49fe-f4a8-44fc67e0e4e3"
   },
   "outputs": [],
   "source": [
    "!pip install --upgrade tensorflow"
   ]
  },
  {
   "cell_type": "code",
   "execution_count": null,
   "metadata": {
    "colab": {
     "base_uri": "https://localhost:8080/"
    },
    "executionInfo": {
     "elapsed": 7156,
     "status": "ok",
     "timestamp": 1737623507406,
     "user": {
      "displayName": "İbrahim Furkan",
      "userId": "03214658540359897285"
     },
     "user_tz": -180
    },
    "id": "3ci30I094Z4O",
    "outputId": "1520a2ce-eac8-470d-a957-2d03066bd62d"
   },
   "outputs": [],
   "source": [
    "\n",
    "%load_ext autoreload\n",
    "%autoreload 2\n",
    "\n",
    "import dotenv\n",
    "import gspread\n",
    "import sys\n",
    "import numpy as np # linear algebra\n",
    "import pandas as pd # data processing, CSV file I/O (e.g. pd.read_csv)\n",
    "import zipfile\n",
    "import os\n",
    "import random\n",
    "import re\n",
    "import datetime\n",
    "import math\n",
    "import copy\n",
    "import seaborn as sns\n",
    "from scipy import stats, signal\n",
    "from tqdm import tqdm\n",
    "import matplotlib.pyplot as plt\n",
    "from collections import Counter\n",
    "from sklearn.impute import KNNImputer\n",
    "from imblearn.under_sampling import RandomUnderSampler\n",
    "\n",
    "\n",
    "from tensorflow import keras\n",
    "from IPython.display import SVG, display, Image\n",
    "\n",
    "from google.auth import default\n",
    "from google.colab import auth, drive\n",
    "\n",
    "\n",
    "drive.mount('/content/drive', force_remount=True)\n",
    "\n",
    "\n",
    "dotenv.load_dotenv('/content/drive/MyDrive/.env')\n",
    "\n",
    "tqdm.pandas()\n",
    "\n",
    "DELETE_FEATURE_SAMPLE = False\n",
    "\n",
    "DATASET_PROCEDURES = [\"DP_1\", \"DP_2\"]\n",
    "AUGMENTATION_SAMPLE_AMOUNT_BY_PROCEDURE = {'AP_1': 0, 'AP_2': 1, 'AP_3': 1, 'AP_5': 9, 'AP_6': 11, 'AP_7': 11, 'AP_8': 22, 'AP_9': 22}\n",
    "AUGMENTATION_PROCEDURES = AUGMENTATION_SAMPLE_AMOUNT_BY_PROCEDURE.keys()\n",
    "AUGMENTATION_BATCH_AMOUNT_BY_PROCEDURE = {'AP_4': ['AP_1', 'AP_2', 'AP_3'], 'AP_ALL': ['AP_1', 'AP_2', 'AP_3', 'AP_5', 'AP_6', 'AP_7'], 'AP_ALL_2': ['AP_1', 'AP_2', 'AP_3', 'AP_5', 'AP_8', 'AP_9'], 'AP_ALL_3': ['AP_1', 'AP_2', 'AP_3', 'AP_5', 'AP_6', 'AP_7', 'AP_8', 'AP_9'], 'AP_ALL_4': ['AP_1', 'AP_2', 'AP_3', 'AP_5']}\n",
    "FEATURE_PROCEDURES = ['FP_1', 'FP_2', 'FP_3', 'FP_4', 'FP_5', 'FP_6', 'FP_7', 'FP_8', 'FP_9', 'FP_10', 'FP_11', 'FP_12', 'FP_13', 'FP_14']\n",
    "EXPERT_SELECTION_PROCEDURE = {'FP_1': None, 'FP_2': None, 'FP_3': None, 'FP_4': None, 'FP_5': None, 'FP_6': 'Expert1', 'FP_7': 'Expert2', 'FP_8': 'Expert3', 'FP_9': None, 'FP_10': None, 'FP_11': None, 'FP_12': 'Expert1', 'FP_13': 'Expert2', 'FP_14': 'Expert3'}\n",
    "DIAGNOSE_GROUP_SELECTION_PROCEDURE = {'FP_1': None, 'FP_2': None, 'FP_3': None, 'FP_4': None, 'FP_5': ['Typically Developed'], 'FP_6': None, 'FP_7': None, 'FP_8': None, 'FP_9': ['Intellectual Disabilities'], 'FP_10': ['Dyslexia', 'Obstetric Brachial Plexus Injuries'], 'FP_11': None, 'FP_12': None, 'FP_13': None, 'FP_14': None}\n",
    "EXPERT_NAME_LIST = ['Expert1', 'Expert2', 'Expert3']\n",
    "DIAGNOSE_GROUP_NAME_LIST = []\n",
    "\n",
    "MAIN_PATH = os.environ.get('MAIN_EXP_PATH')\n",
    "MAIN_PROCESSED_PATH = f\"{MAIN_PATH}(Processed)\"\n",
    "\n",
    "auth.authenticate_user()\n",
    "creds, _ = default()\n",
    "gc = gspread.authorize(creds)\n",
    "spreadsheet = gc.open_by_key(os.environ.get('EXPR_PROC_FILE_CODE'))\n",
    "\n",
    "for worksheet in  spreadsheet.worksheets():\n",
    "  if worksheet.title == 'DatasetProcedures':\n",
    "    df = pd.DataFrame(worksheet.get())\n",
    "    # # Code for making the first row as header. Remove if not needed.\n",
    "    df.columns = df.iloc[0]\n",
    "    df = df.drop(0)\n",
    "    DATASET_PROCEDURES = list(df[df['Is Active'] == 'TRUE']['Procedure Code'].values)\n",
    "\n",
    "  if worksheet.title == 'AugmentationProcedures':\n",
    "    df = pd.DataFrame(worksheet.get())\n",
    "    # # Code for making the first row as header. Remove if not needed.\n",
    "    df.columns = df.iloc[0]\n",
    "    df = df.drop(0)\n",
    "    augmentation_procedure_list = list(df[df['Is Active'] == 'TRUE'][['Procedure Code', 'Number Of Augmentation', 'Augmentation Steps']].values)\n",
    "    AUGMENTATION_SAMPLE_AMOUNT_BY_PROCEDURE = {sheet_data[0]: int(sheet_data[1]) for sheet_data in augmentation_procedure_list if sheet_data[1] != ''}\n",
    "    AUGMENTATION_PROCEDURES = AUGMENTATION_SAMPLE_AMOUNT_BY_PROCEDURE.keys()\n",
    "    AUGMENTATION_BATCH_AMOUNT_BY_PROCEDURE = {sheet_data[0]: [aug_proc.strip() for aug_proc in sheet_data[2].split(',')] for sheet_data in augmentation_procedure_list if sheet_data[1] == ''}\n",
    "\n",
    "\n",
    "  if worksheet.title == 'FeatureSelections':\n",
    "    df = pd.DataFrame(worksheet.get())\n",
    "    # # Code for making the first row as header. Remove if not needed.\n",
    "    df.columns = df.iloc[0]\n",
    "    df = df.drop(0)\n",
    "    FEATURE_PROCEDURES = list(df[df['Is Active'] == 'TRUE']['Procedure Code'].values)\n",
    "    EXPERT_SELECTION_PROCEDURE = {sheet_data[0]: sheet_data[1] if sheet_data[1] != 'All' else None  for sheet_data in df[df['Is Active'] == 'TRUE'][['Procedure Code', 'Selected Expert']].values}\n",
    "    EXPERT_NAME_LIST = list(EXPERT_SELECTION_PROCEDURE.values())\n",
    "    DIAGNOSE_GROUP_SELECTION_PROCEDURE = {sheet_data[0]: [specific_diagnosed_group.strip() for specific_diagnosed_group in sheet_data[1].split(',')] if sheet_data[1] != 'All' else None  for sheet_data in df[df['Is Active'] == 'TRUE'][['Procedure Code', 'Diagnose Group']].values}\n",
    "\n"
   ]
  },
  {
   "cell_type": "code",
   "execution_count": null,
   "metadata": {
    "colab": {
     "base_uri": "https://localhost:8080/"
    },
    "executionInfo": {
     "elapsed": 246,
     "status": "ok",
     "timestamp": 1737589799298,
     "user": {
      "displayName": "İbrahim Furkan",
      "userId": "03214658540359897285"
     },
     "user_tz": -180
    },
    "id": "N7BJu5NVBAJN",
    "outputId": "2eec1362-d00e-4578-9f65-cd0ce2548394"
   },
   "outputs": [],
   "source": [
    "DIAGNOSE_GROUP_SELECTION_PROCEDURE"
   ]
  },
  {
   "cell_type": "code",
   "execution_count": null,
   "metadata": {
    "executionInfo": {
     "elapsed": 11,
     "status": "ok",
     "timestamp": 1737582558741,
     "user": {
      "displayName": "İbrahim Furkan",
      "userId": "03214658540359897285"
     },
     "user_tz": -180
    },
    "id": "lARV4E510QYH"
   },
   "outputs": [],
   "source": [
    "util_script_path = os.environ.get('UTIL_SCRIPT_PATH')\n",
    "if util_script_path is not None:\n",
    "  sys.path.insert(0, util_script_path)\n",
    "else:\n",
    "  print(\"Warning: UTIL_SCRIPT_PATH environment variable is not set.\")\n",
    "  # Consider providing a default path or handling the error differently"
   ]
  },
  {
   "cell_type": "code",
   "execution_count": null,
   "metadata": {
    "executionInfo": {
     "elapsed": 333,
     "status": "ok",
     "timestamp": 1737588761157,
     "user": {
      "displayName": "İbrahim Furkan",
      "userId": "03214658540359897285"
     },
     "user_tz": -180
    },
    "id": "RtZNXG-tmn5t"
   },
   "outputs": [],
   "source": [
    "from analyze_and_transform_datasets import list_files_scandir, get_formatted_values"
   ]
  },
  {
   "cell_type": "code",
   "execution_count": null,
   "metadata": {
    "colab": {
     "base_uri": "https://localhost:8080/"
    },
    "executionInfo": {
     "elapsed": 1338,
     "status": "ok",
     "timestamp": 1737615709243,
     "user": {
      "displayName": "İbrahim Furkan",
      "userId": "03214658540359897285"
     },
     "user_tz": -180
    },
    "id": "zCmQp7jr2X4R",
    "outputId": "763e3b9a-5c4e-4d74-8ba4-f77246872ec7"
   },
   "outputs": [],
   "source": [
    "\n",
    "all_data_infos = {}\n",
    "all_data_list = []\n",
    "allowed_files = [\"ST_Features_10s.csv\",\"EDA_Phasic_Features_10s.csv\",\"EDA_Tonic_Features_10s.csv\",\"EDA_Features_10s.csv\",\"BVP_Features_10s.csv\"]\n",
    "\n",
    "for DATASET_PROCEDURE in DATASET_PROCEDURES:\n",
    "  all_data_list = []\n",
    "  list_files_scandir(allowed_files, all_data_list, f'{MAIN_PROCESSED_PATH} {DATASET_PROCEDURE}', MAIN_PATH)\n",
    "  if DATASET_PROCEDURE == 'DP_2':\n",
    "    removed_idx = [idx for idx, data_obj in enumerate(all_data_list) if data_obj['diagnose_result'] == 'Intellectual Disabilities' and data_obj['sample_name'] == 'C8' and data_obj['game_name'] == 'CatchAPet'][0]\n",
    "    __ = all_data_list.pop(removed_idx)\n",
    "\n",
    "  print(f'Number of files will be used in procedure {DATASET_PROCEDURE}: {len(all_data_list)}')\n",
    "  all_data_infos[DATASET_PROCEDURE] = all_data_list\n"
   ]
  },
  {
   "cell_type": "markdown",
   "metadata": {
    "id": "r4rCDPQDbqmS"
   },
   "source": [
    "#### Util Functions"
   ]
  },
  {
   "cell_type": "code",
   "execution_count": null,
   "metadata": {
    "executionInfo": {
     "elapsed": 346,
     "status": "ok",
     "timestamp": 1737614302928,
     "user": {
      "displayName": "İbrahim Furkan",
      "userId": "03214658540359897285"
     },
     "user_tz": -180
    },
    "id": "af9hfeKhd4RL"
   },
   "outputs": [],
   "source": [
    "\n",
    "\n",
    "def get_metric_dataframes(data_infos, dt_procedure, file_name, referenced_main_path = './'):\n",
    "  sample_path = data_infos['diagnose_result']\n",
    "  sample_path += '/' + data_infos['sample_name']\n",
    "  sample_path += '/' + data_infos['game_name']\n",
    "  # print(f'Reading values in file {sample_path}/{file_name} ...')\n",
    "  df = None\n",
    "  df_path = f'{referenced_main_path} {dt_procedure}/{sample_path}/{file_name}'\n",
    "  if os.path.exists(df_path):\n",
    "    df = pd.read_csv(df_path)\n",
    "  else:\n",
    "    print(f'File {df_path} does not exist!')\n",
    "\n",
    "  if df is not None:\n",
    "    if 'Unnamed: 0' in df.columns:\n",
    "      df = df.drop(columns=['Unnamed: 0'], axis=1)\n",
    "    if 'Seconds' in df.columns:\n",
    "      df = df.drop(columns=['Seconds'], axis=1)\n",
    "\n",
    "  df.index = [idx for idx in range(df.shape[0])]\n",
    "  return df"
   ]
  },
  {
   "cell_type": "code",
   "execution_count": null,
   "metadata": {
    "executionInfo": {
     "elapsed": 343,
     "status": "ok",
     "timestamp": 1737582920681,
     "user": {
      "displayName": "İbrahim Furkan",
      "userId": "03214658540359897285"
     },
     "user_tz": -180
    },
    "id": "kRVGgHuluf1F"
   },
   "outputs": [],
   "source": [
    "def get_labels_df(data_infos, referenced_main_path, expert_column=None):\n",
    "  sample_path = data_infos['diagnose_result']\n",
    "  sample_path += '/' + data_infos['sample_name']\n",
    "  sample_path += '/' + data_infos['game_name']\n",
    "  experLabel_df = pd.read_csv(f'{referenced_main_path}/{sample_path}/ExpertLabels.csv')\n",
    "  experLabel_df = experLabel_df.dropna()\n",
    "  number_of_labels = 0\n",
    "  for label_values in experLabel_df[['Expert1','Expert2','Expert3']].values[1:]:\n",
    "    if np.any([(label_value.__class__.__name__ == 'str') for label_value in label_values]):\n",
    "      number_of_labels += 1\n",
    "\n",
    "  label_result_df = pd.DataFrame()\n",
    "  experLabel_df = experLabel_df[['Expert1','Expert2','Expert3']][1: number_of_labels]\n",
    "  if expert_column is None:\n",
    "    diagnose_result_list = []\n",
    "    for idx in range(0, experLabel_df.shape[0]):\n",
    "      diagnose_dict = dict(Counter(experLabel_df[['Expert1','Expert2','Expert3']].iloc[idx].values))\n",
    "      diagnose_result = max(diagnose_dict, key= lambda x: diagnose_dict[x])\n",
    "      # print(diagnose_result)\n",
    "      if diagnose_result.__class__.__name__ == 'str':\n",
    "        diagnose_result_list.append(diagnose_result)\n",
    "\n",
    "    label_result_df['Diagnose'] = pd.Series(data=diagnose_result_list)\n",
    "  else:\n",
    "   label_result_df['Diagnose'] = experLabel_df[expert_column]\n",
    "\n",
    "  label_result_df = label_result_df.drop(columns=['Expert1','Expert2','Expert3'], axis=1)\n",
    "  label_result_df = label_result_df.dropna()\n",
    "  label_result_df.index = [idx for idx in range(label_result_df.shape[0]) ]\n",
    "  return label_result_df\n",
    "\n"
   ]
  },
  {
   "cell_type": "code",
   "execution_count": null,
   "metadata": {
    "executionInfo": {
     "elapsed": 327,
     "status": "ok",
     "timestamp": 1737582921974,
     "user": {
      "displayName": "İbrahim Furkan",
      "userId": "03214658540359897285"
     },
     "user_tz": -180
    },
    "id": "FWHmP2dZpuKO"
   },
   "outputs": [],
   "source": [
    "\n",
    "\n",
    "def get_stress_sample_rate(param_all_data_infos, referenced_main_path = './', dataset_procedures = [], expert_name=None, print_result=False):\n",
    "  random_generated_weights_info = {}\n",
    "  df_lable_sum = 0\n",
    "  for dataset_procedure in dataset_procedures:\n",
    "    random_generated_weights_index_for_augmented_samples_list = []\n",
    "    for data_idx, data_infos in enumerate(all_data_infos[dataset_procedure]):\n",
    "      labels_df = get_labels_df(data_infos, referenced_main_path, expert_name)\n",
    "      stess_sample_rate = (len(labels_df[labels_df['Diagnose'] == 'Stress']) / len(labels_df))\n",
    "\n",
    "      if print_result:\n",
    "        print(data_infos, stess_sample_rate, len(labels_df))\n",
    "\n",
    "      df_lable_sum += len(labels_df)\n",
    "\n",
    "      random_generated_weights_index_for_augmented_samples_list.append(stess_sample_rate)\n",
    "\n",
    "    random_generated_weights_info[dataset_procedure] = random_generated_weights_index_for_augmented_samples_list\n",
    "\n",
    "    if print_result:\n",
    "      print(np.mean(random_generated_weights_index_for_augmented_samples_list), df_lable_sum)\n",
    "\n",
    "  return random_generated_weights_info\n"
   ]
  },
  {
   "cell_type": "code",
   "execution_count": null,
   "metadata": {
    "executionInfo": {
     "elapsed": 370,
     "status": "ok",
     "timestamp": 1737588566107,
     "user": {
      "displayName": "İbrahim Furkan",
      "userId": "03214658540359897285"
     },
     "user_tz": -180
    },
    "id": "wrSEeGBdEVfs"
   },
   "outputs": [],
   "source": [
    "\n",
    "def get_random_generated_index_for_augmented_samples_infos(param_all_data_infos, referenced_main_path = './', dataset_procedures = [], augmentation_procedures = [], augmentation_sample_amount_by_procedure = {}, expert_name=None):\n",
    "\n",
    "  probability_weight_infos = get_stress_sample_rate(param_all_data_infos, referenced_main_path, dataset_procedures, expert_name)\n",
    "\n",
    "  result_random_generated_index_for_augmented_samples_info = {}\n",
    "  for aug_procedure in ['AP_2', 'AP_3']:\n",
    "    for dataset_procedure in dataset_procedures:\n",
    "      if aug_procedure in augmentation_procedures:\n",
    "        scaled_probability_weight = probability_weight_infos[dataset_procedure]\n",
    "        size_of_list = int(len(all_data_infos[dataset_procedure]) * (np.mean(scaled_probability_weight)))\n",
    "        scaled_probability_weight = (np.full((len(scaled_probability_weight), ), 1) - scaled_probability_weight)\n",
    "        scaled_probability_weight = scaled_probability_weight / np.sum(scaled_probability_weight)\n",
    "        result_random_generated_index_for_augmented_samples_info[f'{dataset_procedure}--{aug_procedure}'] = np.random.choice(len(all_data_infos[dataset_procedure]), size=size_of_list, p=scaled_probability_weight, replace=False)\n",
    "\n",
    "  for aug_procedure in ['AP_5', 'AP_6', 'AP_7']:\n",
    "    for dataset_procedure in dataset_procedures:\n",
    "      if aug_procedure in augmentation_procedures:\n",
    "        result_random_generated_index_for_augmented_samples_info[f'{dataset_procedure}--{aug_procedure}'] = np.random.randint(augmentation_sample_amount_by_procedure[aug_procedure], size=len(all_data_infos[dataset_procedure]))\n",
    "\n",
    "\n",
    "  for aug_procedure in ['AP_8', 'AP_9']:\n",
    "    for dataset_procedure in dataset_procedures:\n",
    "      if aug_procedure in augmentation_procedures:\n",
    "        result_random_generated_index_for_augmented_samples_info[f'{dataset_procedure}--{aug_procedure}'] = np.random.randint(augmentation_sample_amount_by_procedure[aug_procedure], size=(len(all_data_infos[dataset_procedure]),2))\n",
    "\n",
    "  return result_random_generated_index_for_augmented_samples_info\n",
    "\n"
   ]
  },
  {
   "cell_type": "code",
   "execution_count": null,
   "metadata": {
    "executionInfo": {
     "elapsed": 272,
     "status": "ok",
     "timestamp": 1737588093642,
     "user": {
      "displayName": "İbrahim Furkan",
      "userId": "03214658540359897285"
     },
     "user_tz": -180
    },
    "id": "XyjQOmARD5he"
   },
   "outputs": [],
   "source": [
    "\n",
    "def get_datasets_by_experment_procedures(param_all_data_infos, augmented_samples_index_info, augmentation_sample_amount_by_procedure, augmentation_procedures, dataset_procedures, referenced_main_path, referenced_main_processed_path, feature_selection_expert_procedure_info, metric_file_list = []):\n",
    "\n",
    "  result_all_metric_dataframe_infos = {}\n",
    "\n",
    "  for augmentation_procedure in augmentation_procedures:\n",
    "\n",
    "    # all_metric_dataframe = pd.DataFrame()\n",
    "\n",
    "    for dataset_procedure in dataset_procedures:\n",
    "\n",
    "      all_metric_expert_dataframe_info = {}\n",
    "      for feature_selection_procedure in feature_selection_expert_procedure_info.keys():\n",
    "        all_metric_expert_dataframe_info[feature_selection_procedure] = pd.DataFrame()\n",
    "\n",
    "      for data_idx in tqdm(range(len(all_data_infos[dataset_procedure]))):\n",
    "\n",
    "        data_infos = all_data_infos[dataset_procedure][data_idx]\n",
    "\n",
    "        start_idx = 0 if augmentation_procedure == 'AP_1' else 1\n",
    "        for idx in range(start_idx, (augmentation_sample_amount_by_procedure[augmentation_procedure] + 1)):\n",
    "          metric_dataframe_list = []\n",
    "          not_found_metric_file_list = []\n",
    "          for metric_file in metric_file_list:\n",
    "            metric_dataframe = None\n",
    "            file_name = metric_file\n",
    "            if idx > 0:\n",
    "              file_name = f'Aug-{augmentation_procedure}-{idx}_{file_name}'\n",
    "\n",
    "            metric_dataframe = get_metric_dataframes(data_infos, dataset_procedure, file_name, referenced_main_processed_path)\n",
    "\n",
    "\n",
    "            if metric_dataframe is not None:\n",
    "              metric_dataframe_list.append(metric_dataframe)\n",
    "              # sample_metric_length = np.min([sample_metric_length, metric_dataframe.shape[0]])\n",
    "            else:\n",
    "              not_found_metric_file_list.append(metric_file)\n",
    "\n",
    "          if len(metric_dataframe_list) == len(metric_file_list):\n",
    "\n",
    "            for feature_selection_procedure in feature_selection_expert_procedure_info.keys():\n",
    "\n",
    "              labels_df = get_labels_df(data_infos, referenced_main_path, feature_selection_expert_procedure_info[feature_selection_procedure])\n",
    "              sample_metric_length = labels_df.shape[0]\n",
    "\n",
    "              smaple_lenghts = [metric_dataframe.shape[0] for metric_dataframe in metric_dataframe_list]\n",
    "              smaple_lenghts.append(sample_metric_length)\n",
    "              sample_metric_length = np.min(smaple_lenghts)\n",
    "\n",
    "              sample_metric_dataframe = labels_df.loc[0:sample_metric_length]\n",
    "              for metric_dataframe in metric_dataframe_list:\n",
    "                sample_metric_dataframe = sample_metric_dataframe.join(metric_dataframe.loc[0:sample_metric_length])\n",
    "                sample_metric_dataframe['is_augmented'] = np.array([idx > 0 for _ in range(sample_metric_dataframe.shape[0])])\n",
    "              if idx > 0:\n",
    "                random_sample_index_list = augmented_samples_index_info[f'{dataset_procedure}--{augmentation_procedure}']\n",
    "                use_for_both_strest_and_nonstress_labeld_samples = False\n",
    "                if 1 == len(random_sample_index_list.shape):\n",
    "                  use_for_both_strest_and_nonstress_labeld_samples = (data_idx in random_sample_index_list)\n",
    "                elif 2 == len(random_sample_index_list.shape):\n",
    "                  use_for_both_strest_and_nonstress_labeld_samples = ((idx - 1) in random_sample_index_list[data_idx])\n",
    "                else:\n",
    "                  use_for_both_strest_and_nonstress_labeld_samples = (data_idx in random_sample_index_list)\n",
    "                # print(\"use_for_both_strest_and_nonstress_labeld_samples : \", use_for_both_strest_and_nonstress_labeld_samples)\n",
    "                if not use_for_both_strest_and_nonstress_labeld_samples:\n",
    "                  sample_metric_dataframe = sample_metric_dataframe[sample_metric_dataframe['Diagnose'] == 'Stress']\n",
    "\n",
    "              all_metric_expert_dataframe_info[feature_selection_procedure] = pd.concat([all_metric_expert_dataframe_info[feature_selection_procedure], sample_metric_dataframe])\n",
    "          else:\n",
    "            print('Requires number of feature metric not found in this sample: ', data_infos, idx, not_found_metric_file_list)\n",
    "\n",
    "      for feature_selection_procedure in feature_selection_expert_procedure_info.keys():\n",
    "\n",
    "        print(f'Number of sample : {all_metric_expert_dataframe_info[feature_selection_procedure].shape[0]}')\n",
    "\n",
    "        all_metric_expert_dataframe_info[feature_selection_procedure].index = [idx for idx in range(all_metric_expert_dataframe_info[feature_selection_procedure].shape[0])]\n",
    "        result_all_metric_dataframe_infos[f'{dataset_procedure}--{augmentation_procedure}--{feature_selection_procedure}'] = all_metric_expert_dataframe_info[feature_selection_procedure].copy()\n",
    "        print(f\"Gathering copmleted for {dataset_procedure} and {augmentation_procedure} procedures with output of expoer {feature_selection_procedure}!\")\n",
    "\n",
    "\n",
    "  print(\"Gathering copmleted for all procedures!\")\n",
    "\n",
    "  return result_all_metric_dataframe_infos\n",
    "\n"
   ]
  },
  {
   "cell_type": "code",
   "execution_count": null,
   "metadata": {
    "executionInfo": {
     "elapsed": 255,
     "status": "ok",
     "timestamp": 1737628835617,
     "user": {
      "displayName": "İbrahim Furkan",
      "userId": "03214658540359897285"
     },
     "user_tz": -180
    },
    "id": "cGRNxs1XEFNJ"
   },
   "outputs": [],
   "source": [
    "\n",
    "def get_datasets_by_diagnose_group_procedures(param_all_data_infos, augmented_samples_index_info, augmentation_sample_amount_by_procedure, augmentation_procedures, dataset_procedures, referenced_main_path, referenced_main_processed_path, feature_selection_diagnosed_group_procedure_info, metric_file_list = []):\n",
    "\n",
    "  result_all_metric_dataframe_infos = {}\n",
    "\n",
    "  for augmentation_procedure in augmentation_procedures:\n",
    "\n",
    "\n",
    "    for dataset_procedure in dataset_procedures:\n",
    "\n",
    "      for feature_selection_procedure in feature_selection_diagnosed_group_procedure_info.keys():\n",
    "\n",
    "        all_metric_dataframe = pd.DataFrame()\n",
    "        diagnore_group_names = feature_selection_diagnosed_group_procedure_info[feature_selection_procedure]\n",
    "\n",
    "        sub_data_infos =  [data_infos for data_infos in all_data_infos[dataset_procedure] if diagnore_group_names is None or data_infos['diagnose_result'] in diagnore_group_names]\n",
    "        print(diagnore_group_names, len(sub_data_infos))\n",
    "\n",
    "        procedure_code_sequence = f'{dataset_procedure}--{augmentation_procedure}--{feature_selection_procedure}'\n",
    "        for data_idx in tqdm(range(len(sub_data_infos)), desc=f'Gathering dataste with procedure code sequence {procedure_code_sequence}'):\n",
    "\n",
    "          data_infos = sub_data_infos[data_idx]\n",
    "\n",
    "          start_idx = 0 if augmentation_procedure == 'AP_1' else 1\n",
    "          for idx in range(start_idx, (augmentation_sample_amount_by_procedure[augmentation_procedure] + 1)):\n",
    "            metric_dataframe_list = []\n",
    "            not_found_metric_file_list = []\n",
    "            for metric_file in metric_file_list:\n",
    "              metric_dataframe = None\n",
    "              file_name = metric_file\n",
    "              if idx > 0:\n",
    "                file_name = f'Aug-{augmentation_procedure}-{idx}_{file_name}'\n",
    "\n",
    "              metric_dataframe = get_metric_dataframes(data_infos, dataset_procedure, file_name, referenced_main_processed_path)\n",
    "\n",
    "              if metric_dataframe is not None:\n",
    "                metric_dataframe_list.append(metric_dataframe)\n",
    "                # sample_metric_length = np.min([sample_metric_length, metric_dataframe.shape[0]])\n",
    "              else:\n",
    "                not_found_metric_file_list.append(metric_file)\n",
    "\n",
    "            if len(metric_dataframe_list) == len(metric_file_list):\n",
    "\n",
    "              labels_df = get_labels_df(data_infos, referenced_main_path)\n",
    "              sample_metric_length = labels_df.shape[0]\n",
    "\n",
    "              smaple_lenghts = [metric_dataframe.shape[0] for metric_dataframe in metric_dataframe_list]\n",
    "              smaple_lenghts.append(sample_metric_length)\n",
    "              sample_metric_length = np.min(smaple_lenghts)\n",
    "\n",
    "              sample_metric_dataframe = labels_df.loc[0:sample_metric_length]\n",
    "              for metric_idx, metric_dataframe in enumerate(metric_dataframe_list):\n",
    "                sample_metric_dataframe = sample_metric_dataframe.join(metric_dataframe.loc[0:sample_metric_length])\n",
    "                sample_metric_dataframe['is_augmented'] = np.array([idx > 0 for _ in range(sample_metric_dataframe.shape[0])])\n",
    "\n",
    "              if idx > 0:\n",
    "                random_sample_index_list = augmented_samples_index_info[f'{dataset_procedure}--{augmentation_procedure}']\n",
    "                use_for_both_strest_and_nonstress_labeld_samples = False\n",
    "                if 1 == len(random_sample_index_list.shape):\n",
    "                  use_for_both_strest_and_nonstress_labeld_samples = (data_idx in random_sample_index_list)\n",
    "                elif 2 == len(random_sample_index_list.shape):\n",
    "                  use_for_both_strest_and_nonstress_labeld_samples = ((idx - 1) in random_sample_index_list[data_idx])\n",
    "                else:\n",
    "                  use_for_both_strest_and_nonstress_labeld_samples = (data_idx in random_sample_index_list)\n",
    "                # print(\"use_for_both_strest_and_nonstress_labeld_samples : \", use_for_both_strest_and_nonstress_labeld_samples)\n",
    "                if not use_for_both_strest_and_nonstress_labeld_samples:\n",
    "                  sample_metric_dataframe = sample_metric_dataframe[sample_metric_dataframe['Diagnose'] == 'Stress']\n",
    "\n",
    "              all_metric_dataframe = pd.concat([all_metric_dataframe, sample_metric_dataframe])\n",
    "\n",
    "            else:\n",
    "              print('Requires number of feature metric not found in this sample: ', data_infos, idx, not_found_metric_file_list)\n",
    "\n",
    "        print(f'Number of sample : {all_metric_dataframe.shape[0]}')\n",
    "\n",
    "        all_metric_dataframe.index = [idx for idx in range(all_metric_dataframe.shape[0])]\n",
    "        result_all_metric_dataframe_infos[procedure_code_sequence] = all_metric_dataframe.copy()\n",
    "        print(f\"Gathering copmleted for {dataset_procedure} and {augmentation_procedure} procedures with dianose group {feature_selection_procedure}!\")\n",
    "\n",
    "\n",
    "\n",
    "\n",
    "  print(\"Gathering copmleted for all procedures!\")\n",
    "\n",
    "  return result_all_metric_dataframe_infos\n",
    "\n"
   ]
  },
  {
   "cell_type": "code",
   "execution_count": null,
   "metadata": {
    "executionInfo": {
     "elapsed": 10,
     "status": "ok",
     "timestamp": 1737582653248,
     "user": {
      "displayName": "İbrahim Furkan",
      "userId": "03214658540359897285"
     },
     "user_tz": -180
    },
    "id": "eZTKMRyTVwYQ"
   },
   "outputs": [],
   "source": [
    "\n",
    "def get_all_metric_dataframe_as_batch(dt_procedure, fs_procedure, augmentation_procedure_batch_list, all_metric_dataframe_infos):\n",
    "\n",
    "  all_metric_dataframe = pd.DataFrame()\n",
    "  # for aug_procedure in augmentation_procedure_batch_list:\n",
    "  for all_metric_dataframe_procedure in all_metric_dataframe_infos.keys():\n",
    "    if dt_procedure in all_metric_dataframe_procedure and all_metric_dataframe_procedure.split('--')[1] in augmentation_procedure_batch_list and fs_procedure in all_metric_dataframe_procedure:\n",
    "      all_metric_dataframe = pd.concat([all_metric_dataframe, all_metric_dataframe_infos[all_metric_dataframe_procedure].copy()])\n",
    "\n",
    "  all_metric_dataframe.index = [idx for idx in range(all_metric_dataframe.shape[0])]\n",
    "  return all_metric_dataframe\n",
    "\n"
   ]
  },
  {
   "cell_type": "code",
   "execution_count": null,
   "metadata": {
    "executionInfo": {
     "elapsed": 461,
     "status": "ok",
     "timestamp": 1737634064510,
     "user": {
      "displayName": "İbrahim Furkan",
      "userId": "03214658540359897285"
     },
     "user_tz": -180
    },
    "id": "e4xPTXdeEcD_"
   },
   "outputs": [],
   "source": [
    "\n",
    "\n",
    "def get_all_metric_with_na_droped_infos(result_all_metric_dataframe_infos):\n",
    "\n",
    "  result_all_metric_dataframe_with_na_droped_infos = {}\n",
    "\n",
    "  for result_all_metric_dataframe_procedure in result_all_metric_dataframe_infos.keys():\n",
    "\n",
    "    print(f'Drop na columns and rows if exist for {result_all_metric_dataframe_procedure} procedure')\n",
    "    all_metric_dataframe_with_na_droped = result_all_metric_dataframe_infos[result_all_metric_dataframe_procedure].copy()\n",
    "    all_metric_dataframe_with_na_droped = all_metric_dataframe_with_na_droped.dropna(how='all')\n",
    "    if 'Unnamed: 0' in all_metric_dataframe_with_na_droped.columns:\n",
    "      all_metric_dataframe_with_na_droped = all_metric_dataframe_with_na_droped.drop(columns=['Unnamed: 0'])\n",
    "\n",
    "    all_metric_dataframe_with_na_droped_eda_columns = [column_name for column_name in all_metric_dataframe_with_na_droped.columns if 'eda_' in column_name.lower() or 'scr_' in column_name.lower() or 'scl_' in column_name.lower()]\n",
    "    all_metric_dataframe_with_na_droped = all_metric_dataframe_with_na_droped.dropna(subset=all_metric_dataframe_with_na_droped_eda_columns)\n",
    "    all_metric_dataframe_with_na_droped_st_columns = [column_name for column_name in all_metric_dataframe_with_na_droped.columns if 'st_' in column_name.lower()]\n",
    "    all_metric_dataframe_with_na_droped = all_metric_dataframe_with_na_droped.dropna(subset=all_metric_dataframe_with_na_droped_st_columns)\n",
    "    all_metric_dataframe_with_na_droped_sum = all_metric_dataframe_with_na_droped.isna().sum().values\n",
    "    more_than_half_na_column_names = []\n",
    "    for idx in range(len(all_metric_dataframe_with_na_droped_sum)):\n",
    "      if all_metric_dataframe_with_na_droped_sum[idx] > len(all_metric_dataframe_with_na_droped) * 0.40:\n",
    "        more_than_half_na_column_names.append(all_metric_dataframe_with_na_droped.columns[idx])\n",
    "\n",
    "    print(\"These columns has na values by 0.40 percentage of all datasets and will be droped : \",  more_than_half_na_column_names)\n",
    "    all_metric_dataframe_with_na_droped = all_metric_dataframe_with_na_droped.drop(columns=more_than_half_na_column_names)\n",
    "\n",
    "    all_metric_dataframe_with_na_droped_sum = all_metric_dataframe_with_na_droped.isna().sum().values\n",
    "    more_than_half_na_column_names = []\n",
    "    for idx in range(len(all_metric_dataframe_with_na_droped_sum)):\n",
    "      if all_metric_dataframe_with_na_droped_sum[idx] > len(all_metric_dataframe_with_na_droped) * 0.01:\n",
    "        more_than_half_na_column_names.append(all_metric_dataframe_with_na_droped.columns[idx])\n",
    "\n",
    "    print(\"These columns has na values by 0.01 percentage of of all datasets and their rows will be imputed by KNN : \",  more_than_half_na_column_names)\n",
    "    all_metric_dataframe_with_na_droped = all_metric_dataframe_with_na_droped.dropna(subset=more_than_half_na_column_names)\n",
    "\n",
    "    print(all_metric_dataframe_with_na_droped.info())\n",
    "    result_all_metric_dataframe_with_na_droped_infos[result_all_metric_dataframe_procedure] = all_metric_dataframe_with_na_droped.copy()\n",
    "    print(all_metric_dataframe_with_na_droped['Diagnose'].describe())\n",
    "\n",
    "\n",
    "  return result_all_metric_dataframe_with_na_droped_infos\n",
    "\n"
   ]
  },
  {
   "cell_type": "code",
   "execution_count": null,
   "metadata": {
    "executionInfo": {
     "elapsed": 293,
     "status": "ok",
     "timestamp": 1737643794886,
     "user": {
      "displayName": "İbrahim Furkan",
      "userId": "03214658540359897285"
     },
     "user_tz": -180
    },
    "id": "02FrsyCZqDf8"
   },
   "outputs": [],
   "source": [
    "def balance_diagnose_classification_lables(result_all_metric_dataframe_with_na_droped_infos):\n",
    "\n",
    "  result_all_metric_dataframe_with_balanced_diagnose = {}\n",
    "\n",
    "  for all_metric_dataframe_procedure in result_all_metric_dataframe_with_na_droped_infos.keys():\n",
    "\n",
    "    print(f'Balance columns for Diagnose values for {all_metric_dataframe_procedure} procedure')\n",
    "\n",
    "    new_metric_dataframe = pd.DataFrame()\n",
    "    df_reference = result_all_metric_dataframe_with_na_droped_infos[all_metric_dataframe_procedure]\n",
    "\n",
    "    all_metric_dataframe_with_na_droped_infos_copy = df_reference[df_reference['is_augmented']].copy()\n",
    "    all_metric_dataframe_with_na_droped_infos_copy_stress = all_metric_dataframe_with_na_droped_infos_copy[all_metric_dataframe_with_na_droped_infos_copy['Diagnose'] == 'Stress']\n",
    "    aug_number_of_stress = len(all_metric_dataframe_with_na_droped_infos_copy_stress)\n",
    "    print('Number of \"Stress\" in augmented samples :', aug_number_of_stress)\n",
    "    all_metric_dataframe_with_na_droped_infos_copy_no_stress = all_metric_dataframe_with_na_droped_infos_copy[all_metric_dataframe_with_na_droped_infos_copy['Diagnose'] == 'No Stress']\n",
    "    aug_number_of_no_stress = len(all_metric_dataframe_with_na_droped_infos_copy_no_stress)\n",
    "    print('Number of \"No Stress\" in augmented samples :',aug_number_of_no_stress)\n",
    "    if aug_number_of_stress > aug_number_of_no_stress:\n",
    "      all_metric_dataframe_with_na_droped_infos_stress_undersampled = all_metric_dataframe_with_na_droped_infos_copy_stress.sample(n=aug_number_of_no_stress, random_state=42)\n",
    "      new_metric_dataframe = pd.concat([all_metric_dataframe_with_na_droped_infos_stress_undersampled, all_metric_dataframe_with_na_droped_infos_copy_no_stress])\n",
    "    elif aug_number_of_stress < aug_number_of_no_stress:\n",
    "      all_metric_dataframe_with_na_droped_infos_no_stress_undersampled = all_metric_dataframe_with_na_droped_infos_copy_no_stress.sample(n=aug_number_of_stress, random_state=42)\n",
    "      new_metric_dataframe = pd.concat([all_metric_dataframe_with_na_droped_infos_no_stress_undersampled, all_metric_dataframe_with_na_droped_infos_copy_stress])\n",
    "    else:\n",
    "      new_metric_dataframe = pd.concat([all_metric_dataframe_with_na_droped_infos_copy_stress, all_metric_dataframe_with_na_droped_infos_copy_no_stress])\n",
    "\n",
    "    all_metric_dataframe_with_na_droped_infos_copy = df_reference[df_reference['is_augmented'] == False].copy()\n",
    "    all_metric_dataframe_with_na_droped_infos_copy_stress = all_metric_dataframe_with_na_droped_infos_copy[all_metric_dataframe_with_na_droped_infos_copy['Diagnose'] == 'Stress']\n",
    "    aug_number_of_stress = len(all_metric_dataframe_with_na_droped_infos_copy_stress)\n",
    "    print('Number of \"Stress\" in original samples :', aug_number_of_stress)\n",
    "    all_metric_dataframe_with_na_droped_infos_copy_no_stress = all_metric_dataframe_with_na_droped_infos_copy[all_metric_dataframe_with_na_droped_infos_copy['Diagnose'] == 'No Stress']\n",
    "    aug_number_of_no_stress = len(all_metric_dataframe_with_na_droped_infos_copy_no_stress)\n",
    "    print('Number of \"No Stress\" in original samples :',aug_number_of_no_stress)\n",
    "    if aug_number_of_stress > aug_number_of_no_stress:\n",
    "      all_metric_dataframe_with_na_droped_infos_stress_undersampled = all_metric_dataframe_with_na_droped_infos_copy_stress.sample(n=aug_number_of_no_stress, random_state=42)\n",
    "      new_metric_dataframe = pd.concat([new_metric_dataframe, all_metric_dataframe_with_na_droped_infos_stress_undersampled, all_metric_dataframe_with_na_droped_infos_copy_no_stress])\n",
    "    elif aug_number_of_stress < aug_number_of_no_stress:\n",
    "      all_metric_dataframe_with_na_droped_infos_no_stress_undersampled = all_metric_dataframe_with_na_droped_infos_copy_no_stress.sample(n=aug_number_of_stress, random_state=42)\n",
    "      new_metric_dataframe = pd.concat([new_metric_dataframe, all_metric_dataframe_with_na_droped_infos_no_stress_undersampled, all_metric_dataframe_with_na_droped_infos_copy_stress])\n",
    "    else:\n",
    "      new_metric_dataframe = pd.concat([new_metric_dataframe, all_metric_dataframe_with_na_droped_infos_copy_stress, all_metric_dataframe_with_na_droped_infos_copy_no_stress])\n",
    "\n",
    "    result_all_metric_dataframe_with_balanced_diagnose[all_metric_dataframe_procedure] = new_metric_dataframe.copy()\n",
    "\n",
    "  return result_all_metric_dataframe_with_balanced_diagnose\n"
   ]
  },
  {
   "cell_type": "code",
   "execution_count": null,
   "metadata": {
    "executionInfo": {
     "elapsed": 9,
     "status": "ok",
     "timestamp": 1737582653249,
     "user": {
      "displayName": "İbrahim Furkan",
      "userId": "03214658540359897285"
     },
     "user_tz": -180
    },
    "id": "JnG-8cTn416r"
   },
   "outputs": [],
   "source": [
    "\n",
    "\n",
    "def get_significant_columns_in_dataset_by_t_test(result_all_metric_dataframe_with_balanced_diagnose, p_treashold=0.05, only_orignial_data=False):\n",
    "\n",
    "  result_significant_columns_infos = {}\n",
    "\n",
    "  result_metric_dataframe_with_balanced_diagnose = result_all_metric_dataframe_with_balanced_diagnose.copy()\n",
    "\n",
    "  for all_metric_dataframe_procedure in result_all_metric_dataframe_with_balanced_diagnose.keys():\n",
    "\n",
    "\n",
    "    print(f'Find significant features in {all_metric_dataframe_procedure} procedure')\n",
    "\n",
    "    significant_columns = []\n",
    "    result_metric_dataframe_with_balanced_diagnose_and_non_formatted = result_metric_dataframe_with_balanced_diagnose[all_metric_dataframe_procedure]\n",
    "    if only_orignial_data:\n",
    "      result_metric_dataframe_with_balanced_diagnose_and_non_formatted = result_metric_dataframe_with_balanced_diagnose_and_non_formatted[result_metric_dataframe_with_balanced_diagnose_and_non_formatted['is_augmented'] == False]\n",
    "\n",
    "    for all_feature_column in result_metric_dataframe_with_balanced_diagnose_and_non_formatted.columns:\n",
    "      if all_feature_column == 'source_file' or all_feature_column == 'Seconds' or all_feature_column == 'Diagnose' or all_feature_column == 'is_augmented':\n",
    "        continue\n",
    "      result_metric_dataframe_with_balanced_diagnose[all_metric_dataframe_procedure][all_feature_column] = pd.to_numeric(\n",
    "          result_metric_dataframe_with_balanced_diagnose_and_non_formatted[all_feature_column].apply(lambda x: get_formatted_values(x)),\n",
    "          errors='coerce'  # Ignore errors, set invalid values to NaN\n",
    "      ).astype(np.float64)\n",
    "\n",
    "      # result_metric_dataframe_with_balanced_diagnose[all_metric_dataframe_procedure][all_feature_column] = result_metric_dataframe_with_balanced_diagnose_and_non_formatted[all_feature_column].apply(lambda x: get_formatted_values(x)).astype(np.float64)\n",
    "      sub_metric_dataframe = result_metric_dataframe_with_balanced_diagnose_and_non_formatted[[all_feature_column, 'Diagnose']].copy()\n",
    "      sub_metric_dataframe = sub_metric_dataframe.dropna(subset=[all_feature_column])\n",
    "\n",
    "      # https://www.statology.org/pandas-t-test/\n",
    "       # Proceed with t-test if there are enough data points after dropping NaNs\n",
    "      if len(sub_metric_dataframe) > 2:  # At least 2 data points for each group\n",
    "        group1 = sub_metric_dataframe[sub_metric_dataframe['Diagnose'] =='Stress']\n",
    "        group2 = sub_metric_dataframe[sub_metric_dataframe['Diagnose'] =='No Stress']\n",
    "        ttest_result = stats.ttest_ind(group1[all_feature_column], group2[all_feature_column], equal_var=False)\n",
    "\n",
    "        #perform Welch's t-test\n",
    "        if ttest_result.pvalue < p_treashold:\n",
    "          significant_columns.append(all_feature_column)\n",
    "\n",
    "        print(f'Value has t-test with {ttest_result} and is {\"not\" if ttest_result.pvalue >= 0.05 else \"\"} significatant ')\n",
    "        # print(f'Number of nan value in {all_feature_column} : {result_metric_dataframe_with_balanced_diagnose_and_non_formatted[all_feature_column].isna().sum()}' )\n",
    "        # print(f'Number of null value in {all_feature_column} : {result_metric_dataframe_with_balanced_diagnose_and_non_formatted[all_feature_column].isnull().sum()}' )\n",
    "        # print(f'Number of 0 value in {all_feature_column} : {result_metric_dataframe_with_balanced_diagnose_and_non_formatted[(result_metric_dataframe_with_balanced_diagnose_and_non_formatted[all_feature_column] == 0)][all_feature_column].sum()}' )\n",
    "        print(f'Number of unique values in {all_feature_column} : {len(result_metric_dataframe_with_balanced_diagnose_and_non_formatted[all_feature_column].unique())}' )\n",
    "        print(result_metric_dataframe_with_balanced_diagnose_and_non_formatted[all_feature_column].describe())\n",
    "      else:\n",
    "        print(f\"Skipping t-test for column '{all_feature_column}' due to insufficient data points after dropping NaNs.\")\n",
    "\n",
    "\n",
    "    result_significant_columns_infos[all_metric_dataframe_procedure] = significant_columns\n",
    "\n",
    "\n",
    "  return result_significant_columns_infos\n",
    "\n"
   ]
  },
  {
   "cell_type": "code",
   "execution_count": null,
   "metadata": {
    "executionInfo": {
     "elapsed": 8,
     "status": "ok",
     "timestamp": 1737582653249,
     "user": {
      "displayName": "İbrahim Furkan",
      "userId": "03214658540359897285"
     },
     "user_tz": -180
    },
    "id": "YQNGLOkm5oFG"
   },
   "outputs": [],
   "source": [
    "def get_significant_columns_in_dataset_by_t_test(result_all_metric_dataframe_with_balanced_diagnose, p_treashold=0.05, only_orignial_data=False):\n",
    "\n",
    "  result_significant_columns_infos = {}\n",
    "\n",
    "  result_metric_dataframe_with_balanced_diagnose = result_all_metric_dataframe_with_balanced_diagnose.copy()\n",
    "\n",
    "  for all_metric_dataframe_procedure in result_all_metric_dataframe_with_balanced_diagnose.keys():\n",
    "\n",
    "\n",
    "    print(f'Find significant features in {all_metric_dataframe_procedure} procedure')\n",
    "\n",
    "    significant_columns = []\n",
    "    result_metric_dataframe_with_balanced_diagnose_and_non_formatted = result_metric_dataframe_with_balanced_diagnose[all_metric_dataframe_procedure]\n",
    "    if only_orignial_data:\n",
    "      result_metric_dataframe_with_balanced_diagnose_and_non_formatted = result_metric_dataframe_with_balanced_diagnose_and_non_formatted[result_metric_dataframe_with_balanced_diagnose_and_non_formatted['is_augmented'] == False]\n",
    "\n",
    "    for all_feature_column in result_metric_dataframe_with_balanced_diagnose_and_non_formatted.columns:\n",
    "      if all_feature_column == 'source_file' or all_feature_column == 'Seconds' or all_feature_column == 'Diagnose' or all_feature_column == 'is_augmented':\n",
    "        continue\n",
    "\n",
    "      # Drop rows with NaN values in the current column\n",
    "      sub_metric_dataframe = result_metric_dataframe_with_balanced_diagnose[all_metric_dataframe_procedure][[all_feature_column, 'Diagnose']].copy()\n",
    "      sub_metric_dataframe = sub_metric_dataframe.dropna(subset=[all_feature_column])\n",
    "\n",
    "      # https://www.statology.org/pandas-t-test/\n",
    "      # Proceed with t-test if there are enough data points after dropping NaNs\n",
    "      if len(sub_metric_dataframe) > 2:  # At least 2 data points for each group\n",
    "        group1 = sub_metric_dataframe[sub_metric_dataframe['Diagnose'] =='Stress']\n",
    "        group2 = sub_metric_dataframe[sub_metric_dataframe['Diagnose'] =='No Stress']\n",
    "        ttest_result = stats.ttest_ind(group1[all_feature_column], group2[all_feature_column], equal_var=False)\n",
    "\n",
    "        #perform Welch's t-test\n",
    "        if ttest_result.pvalue < p_treashold:\n",
    "          significant_columns.append(all_feature_column)\n",
    "\n",
    "        print(f'Value has t-test with {ttest_result} and is {\"not\" if ttest_result.pvalue >= 0.05 else \"\"} significatant ')\n",
    "        print(f'Number of unique values in {all_feature_column} : {len(result_metric_dataframe_with_balanced_diagnose_and_non_formatted[all_feature_column].unique())}' )\n",
    "        print(result_metric_dataframe_with_balanced_diagnose_and_non_formatted[all_feature_column].describe())\n",
    "      else:\n",
    "        print(f\"Skipping t-test for column '{all_feature_column}' due to insufficient data points after dropping NaNs.\")\n",
    "\n",
    "\n",
    "    result_significant_columns_infos[all_metric_dataframe_procedure] = significant_columns\n",
    "\n",
    "\n",
    "  return result_significant_columns_infos"
   ]
  },
  {
   "cell_type": "code",
   "execution_count": null,
   "metadata": {
    "executionInfo": {
     "elapsed": 8,
     "status": "ok",
     "timestamp": 1737582653249,
     "user": {
      "displayName": "İbrahim Furkan",
      "userId": "03214658540359897285"
     },
     "user_tz": -180
    },
    "id": "GaP9WmHLLhRC"
   },
   "outputs": [],
   "source": [
    "\n",
    "def get_dataset_with_significant_columns_by_t_test(result_significant_columns_infos, result_all_metric_dataframe_with_balanced_diagnose):\n",
    "\n",
    "  result_all_metric_dataframe_with_na_droped_and_significant_features_infos = {}\n",
    "  for result_all_metric_dataframe_with_balanced_diagnose_procedure in result_all_metric_dataframe_with_balanced_diagnose.keys():\n",
    "\n",
    "    all_metric_dataframe_with_na_droped = result_all_metric_dataframe_with_balanced_diagnose[result_all_metric_dataframe_with_balanced_diagnose_procedure]\n",
    "\n",
    "    all_metric_dataframe_with_na_droped_and_significant_features = all_metric_dataframe_with_na_droped.copy()\n",
    "    all_metric_dataframe_with_na_droped_and_significant_features = all_metric_dataframe_with_na_droped_and_significant_features[result_significant_columns_infos[result_all_metric_dataframe_with_balanced_diagnose_procedure]]\n",
    "    all_metric_dataframe_with_na_droped_and_significant_features['Diagnose'] = all_metric_dataframe_with_na_droped['Diagnose']\n",
    "    all_metric_dataframe_with_na_droped_and_significant_features['is_augmented'] = all_metric_dataframe_with_na_droped['is_augmented']\n",
    "\n",
    "    result_all_metric_dataframe_with_na_droped_and_significant_features_infos[result_all_metric_dataframe_with_balanced_diagnose_procedure] = all_metric_dataframe_with_na_droped_and_significant_features.copy()\n",
    "\n",
    "  return result_all_metric_dataframe_with_na_droped_and_significant_features_infos\n"
   ]
  },
  {
   "cell_type": "code",
   "execution_count": null,
   "metadata": {
    "executionInfo": {
     "elapsed": 7,
     "status": "ok",
     "timestamp": 1737582653249,
     "user": {
      "displayName": "İbrahim Furkan",
      "userId": "03214658540359897285"
     },
     "user_tz": -180
    },
    "id": "NMH_LSWzEY0L"
   },
   "outputs": [],
   "source": [
    "\n",
    "def display_correlation_coefficient_matrix(df_procedure_infos):\n",
    "\n",
    "  # from cite https://stackoverflow.com/questions/38913965/make-the-size-of-a-heatmap-bigger-with-seaborn , https://stackoverflow.com/questions/67151854/multiple-seaborn-heatmaps-from-pandas-dataframe\n",
    "  \n",
    "\n"
   ]
  },
  {
   "cell_type": "code",
   "execution_count": null,
   "metadata": {
    "executionInfo": {
     "elapsed": 326,
     "status": "ok",
     "timestamp": 1737635602588,
     "user": {
      "displayName": "İbrahim Furkan",
      "userId": "03214658540359897285"
     },
     "user_tz": -180
    },
    "id": "_9jWjSd8Qd0P"
   },
   "outputs": [],
   "source": [
    "\n",
    "def export_dataset_as_csv(df_procedure_infos, prefix_keyword='-'):\n",
    "\n",
    "  for df_procedure in df_procedure_infos.keys():\n",
    "    df = df_procedure_infos[df_procedure]\n",
    "\n",
    "    df_path = f'{MAIN_PATH}/all_feature_metrics_dataset{prefix_keyword}-{df_procedure}.csv'\n",
    "    renamed_df_path = None\n",
    "    if os.path.exists(df_path):\n",
    "      x = datetime.datetime.now()\n",
    "      renamed_df_path = df_path.replace('.csv', f'-{x.strftime(\"%Y-%m-%d %H-%M-%S\")}.csv')\n",
    "      os.rename(df_path, renamed_df_path)\n",
    "      print('Renamed file as ', renamed_df_path)\n",
    "    df.to_csv(df_path, index=True)\n",
    "    if renamed_df_path is not None:\n",
    "      print('Recreated file as ', df_path)\n",
    "    else:\n",
    "      print('Created file as ', df_path)\n",
    "\n"
   ]
  },
  {
   "cell_type": "markdown",
   "metadata": {
    "id": "d3UnomIjK-6f"
   },
   "source": [
    "### Physiological Metric Collecting"
   ]
  },
  {
   "cell_type": "markdown",
   "metadata": {
    "id": "zCQGrzGMTSeK"
   },
   "source": [
    "### Use all and seperate diagnose groups and all augmented values"
   ]
  },
  {
   "cell_type": "code",
   "execution_count": null,
   "metadata": {
    "executionInfo": {
     "elapsed": 242,
     "status": "ok",
     "timestamp": 1737629377715,
     "user": {
      "displayName": "İbrahim Furkan",
      "userId": "03214658540359897285"
     },
     "user_tz": -180
    },
    "id": "Z2kO_tqyTSeL"
   },
   "outputs": [],
   "source": [
    "all_metric_dataframe_infos = {}"
   ]
  },
  {
   "cell_type": "code",
   "execution_count": null,
   "metadata": {
    "colab": {
     "base_uri": "https://localhost:8080/"
    },
    "executionInfo": {
     "elapsed": 1330,
     "status": "ok",
     "timestamp": 1737629380937,
     "user": {
      "displayName": "İbrahim Furkan",
      "userId": "03214658540359897285"
     },
     "user_tz": -180
    },
    "id": "vYCXI7rktss3",
    "outputId": "cbe27205-1715-46af-969d-e3823837310b"
   },
   "outputs": [],
   "source": [
    "\n",
    "random_generated_index_for_augmented_samples_info = get_random_generated_index_for_augmented_samples_infos(all_data_infos, MAIN_PATH, DATASET_PROCEDURES, AUGMENTATION_PROCEDURES, AUGMENTATION_SAMPLE_AMOUNT_BY_PROCEDURE)\n",
    "\n",
    "for random_generated_index_for_augmented_samples_info_key in random_generated_index_for_augmented_samples_info.keys():\n",
    "  print(random_generated_index_for_augmented_samples_info_key, random_generated_index_for_augmented_samples_info[random_generated_index_for_augmented_samples_info_key].shape)\n"
   ]
  },
  {
   "cell_type": "code",
   "execution_count": null,
   "metadata": {
    "colab": {
     "base_uri": "https://localhost:8080/",
     "height": 296
    },
    "executionInfo": {
     "elapsed": 3673,
     "status": "ok",
     "timestamp": 1737638928995,
     "user": {
      "displayName": "İbrahim Furkan",
      "userId": "03214658540359897285"
     },
     "user_tz": -180
    },
    "id": "jk-q0dVfuHst",
    "outputId": "429adaf3-9b32-4acd-cad2-d0f27ed375e0"
   },
   "outputs": [],
   "source": [
    "tmp_all_metric_dataframe_infos = get_datasets_by_diagnose_group_procedures(all_data_infos, \\\n",
    "                                                                  random_generated_index_for_augmented_samples_info, \\\n",
    "                                                                  AUGMENTATION_SAMPLE_AMOUNT_BY_PROCEDURE, \\\n",
    "                                                                  ['AP_1'], \\\n",
    "                                                                  ['DP_2'], \\\n",
    "                                                                  MAIN_PATH, \\\n",
    "                                                                  MAIN_PROCESSED_PATH, \\\n",
    "                                                                  {'FP_5': 'Typically Developed'},\\\n",
    "                                                                  allowed_files)\n",
    "\n",
    "tmp_all_metric_dataframe_infos['DP_2--AP_1--FP_5']['Diagnose'].describe()"
   ]
  },
  {
   "cell_type": "code",
   "execution_count": null,
   "metadata": {
    "colab": {
     "base_uri": "https://localhost:8080/",
     "height": 1000
    },
    "executionInfo": {
     "elapsed": 518,
     "status": "ok",
     "timestamp": 1737639036569,
     "user": {
      "displayName": "İbrahim Furkan",
      "userId": "03214658540359897285"
     },
     "user_tz": -180
    },
    "id": "03P5RDYnWsZP",
    "outputId": "e768e1ea-7942-4dc8-8ce0-eada1459e1c4"
   },
   "outputs": [],
   "source": [
    "tmp_all_metric_dataframe_with_na_droped_infos = get_all_metric_with_na_droped_infos(tmp_all_metric_dataframe_infos)\n",
    "tmp_all_metric_dataframe_with_na_droped_infos['DP_2--AP_1--FP_5']['Diagnose'].describe()"
   ]
  },
  {
   "cell_type": "code",
   "execution_count": null,
   "metadata": {
    "executionInfo": {
     "elapsed": 262,
     "status": "ok",
     "timestamp": 1737639140847,
     "user": {
      "displayName": "İbrahim Furkan",
      "userId": "03214658540359897285"
     },
     "user_tz": -180
    },
    "id": "PRPd1qUYXIrr"
   },
   "outputs": [],
   "source": [
    "tmp_all_metric_dataframe_with_na_droped_infos_copy_keys = copy.deepcopy(list(tmp_all_metric_dataframe_with_na_droped_infos.keys()))\n",
    "\n",
    "for tmp_all_metric_dataframe_with_na_droped_infos_copy_key in tmp_all_metric_dataframe_with_na_droped_infos_copy_keys:\n",
    "\n",
    "  df_columns = copy.deepcopy(list(tmp_all_metric_dataframe_with_na_droped_infos[tmp_all_metric_dataframe_with_na_droped_infos_copy_key].columns))\n",
    "\n",
    "  for df_column in df_columns:\n",
    "    if df_column not in ['source_file' , 'Seconds' , 'Diagnose' , 'is_augmented']:\n",
    "      tmp_all_metric_dataframe_with_na_droped_infos[tmp_all_metric_dataframe_with_na_droped_infos_copy_key][df_column] = tmp_all_metric_dataframe_with_na_droped_infos[tmp_all_metric_dataframe_with_na_droped_infos_copy_key][df_column].apply(lambda x: get_formatted_values(x)).astype(np.float64)\n"
   ]
  },
  {
   "cell_type": "code",
   "execution_count": null,
   "metadata": {
    "executionInfo": {
     "elapsed": 318,
     "status": "ok",
     "timestamp": 1737639234828,
     "user": {
      "displayName": "İbrahim Furkan",
      "userId": "03214658540359897285"
     },
     "user_tz": -180
    },
    "id": "UYl0keqUXdf-"
   },
   "outputs": [],
   "source": [
    "all_metric_dataframe_with_na_droped_infos['DP_2--AP_1--FP_5'] = tmp_all_metric_dataframe_with_na_droped_infos['DP_2--AP_1--FP_5'].copy()"
   ]
  },
  {
   "cell_type": "code",
   "execution_count": null,
   "metadata": {
    "colab": {
     "base_uri": "https://localhost:8080/"
    },
    "executionInfo": {
     "elapsed": 56903,
     "status": "ok",
     "timestamp": 1737629444154,
     "user": {
      "displayName": "İbrahim Furkan",
      "userId": "03214658540359897285"
     },
     "user_tz": -180
    },
    "id": "77X4x1wdtss5",
    "outputId": "c1446e3c-88f0-495c-b93a-1a7e39351d4d"
   },
   "outputs": [],
   "source": [
    "\n",
    "sub_DIAGNOSE_GROUP_SELECTION_PROCEDURE = {DIAGNOSE_GROUP_PROCEDURE: DIAGNOSE_GROUP_SELECTION_PROCEDURE[ DIAGNOSE_GROUP_PROCEDURE] for DIAGNOSE_GROUP_PROCEDURE in DIAGNOSE_GROUP_SELECTION_PROCEDURE.keys() if DIAGNOSE_GROUP_PROCEDURE != 'FP_1'}\n",
    "\n",
    "for DATASET_PROCEDURE in DATASET_PROCEDURES:\n",
    "\n",
    "  for AUGMENTATION_PROCEDURE in ['AP_1', 'AP_2', 'AP_3', 'AP_5']: # list(AUGMENTATION_PROCEDURES):\n",
    "\n",
    "    tmp_all_metric_dataframe_infos = get_datasets_by_diagnose_group_procedures(all_data_infos, \\\n",
    "                                                                      random_generated_index_for_augmented_samples_info, \\\n",
    "                                                                      AUGMENTATION_SAMPLE_AMOUNT_BY_PROCEDURE, \\\n",
    "                                                                      [AUGMENTATION_PROCEDURE], \\\n",
    "                                                                      [DATASET_PROCEDURE], \\\n",
    "                                                                      MAIN_PATH, \\\n",
    "                                                                      MAIN_PROCESSED_PATH, \\\n",
    "                                                                      sub_DIAGNOSE_GROUP_SELECTION_PROCEDURE,\\\n",
    "                                                                      allowed_files)\n",
    "\n",
    "    for tmp_all_metric_dataframe_infos_key in tmp_all_metric_dataframe_infos.keys():\n",
    "      all_metric_dataframe_infos[tmp_all_metric_dataframe_infos_key] = tmp_all_metric_dataframe_infos[tmp_all_metric_dataframe_infos_key]\n"
   ]
  },
  {
   "cell_type": "code",
   "execution_count": null,
   "metadata": {
    "executionInfo": {
     "elapsed": 530,
     "status": "ok",
     "timestamp": 1737631111199,
     "user": {
      "displayName": "İbrahim Furkan",
      "userId": "03214658540359897285"
     },
     "user_tz": -180
    },
    "id": "bCj6mAafgZp6"
   },
   "outputs": [],
   "source": [
    "\n",
    "for DATASET_PROCEDURE in DATASET_PROCEDURES:\n",
    "\n",
    "  for AUGMENTATION_PROCEDURE in AUGMENTATION_PROCEDURES:\n",
    "\n",
    "    all_metric_dataframe_infos[f'{DATASET_PROCEDURE}--{AUGMENTATION_PROCEDURE}--FP_1'] = all_metric_dataframe_infos[f'{DATASET_PROCEDURE}--{AUGMENTATION_PROCEDURE}--FP_2'].copy()\n",
    "\n"
   ]
  },
  {
   "cell_type": "code",
   "execution_count": null,
   "metadata": {
    "colab": {
     "base_uri": "https://localhost:8080/"
    },
    "executionInfo": {
     "elapsed": 264,
     "status": "ok",
     "timestamp": 1737629451037,
     "user": {
      "displayName": "İbrahim Furkan",
      "userId": "03214658540359897285"
     },
     "user_tz": -180
    },
    "id": "VvmwGV1EtkV7",
    "outputId": "4370ef07-4607-4776-d7da-f906d974450b"
   },
   "outputs": [],
   "source": [
    "for all_metric_dataframe_infos_key in all_metric_dataframe_infos.keys():\n",
    "  print(all_metric_dataframe_infos_key, all_metric_dataframe_infos[all_metric_dataframe_infos_key].shape)"
   ]
  },
  {
   "cell_type": "code",
   "execution_count": null,
   "metadata": {
    "colab": {
     "base_uri": "https://localhost:8080/"
    },
    "executionInfo": {
     "elapsed": 3438,
     "status": "ok",
     "timestamp": 1737629468847,
     "user": {
      "displayName": "İbrahim Furkan",
      "userId": "03214658540359897285"
     },
     "user_tz": -180
    },
    "id": "tw5kE347ZRJ-",
    "outputId": "6793f187-68c0-4bf5-9581-a6c48a08369f"
   },
   "outputs": [],
   "source": [
    "export_dataset_as_csv(all_metric_dataframe_infos)\n"
   ]
  },
  {
   "cell_type": "code",
   "execution_count": null,
   "metadata": {
    "colab": {
     "base_uri": "https://localhost:8080/"
    },
    "executionInfo": {
     "elapsed": 541,
     "status": "ok",
     "timestamp": 1737629473187,
     "user": {
      "displayName": "İbrahim Furkan",
      "userId": "03214658540359897285"
     },
     "user_tz": -180
    },
    "id": "ETwrMg7SYNSW",
    "outputId": "c7fe2b0d-66a6-4e48-ebab-1580bb0bc031"
   },
   "outputs": [],
   "source": [
    "!ls -al '/content/drive/MyDrive/BitirmeProje/datasets2/AKTIVES Veri Seti/AKTIVES Veri Seti/' | grep -ve '2025-01-' | grep -vw 'all_feature_metrics_dataset-'"
   ]
  },
  {
   "cell_type": "code",
   "execution_count": null,
   "metadata": {
    "colab": {
     "base_uri": "https://localhost:8080/"
    },
    "executionInfo": {
     "elapsed": 10353,
     "status": "ok",
     "timestamp": 1737629525540,
     "user": {
      "displayName": "İbrahim Furkan",
      "userId": "03214658540359897285"
     },
     "user_tz": -180
    },
    "id": "gGHHMTMS88j-",
    "outputId": "c06dfee9-1b9f-4465-8c82-747e046cb617"
   },
   "outputs": [],
   "source": [
    "\n",
    "for DATASET_PROCEDURE in DATASET_PROCEDURES:\n",
    "\n",
    "  for AUGMENTATION_PROCEDURE in ['AP_6', 'AP_7', 'AP_8', 'AP_9']:\n",
    "\n",
    "    for FEATURE_PROCEDURE in DIAGNOSE_GROUP_SELECTION_PROCEDURE.keys():\n",
    "\n",
    "      procedure_code_composution = f'{DATASET_PROCEDURE}--{AUGMENTATION_PROCEDURE}--{FEATURE_PROCEDURE}'\n",
    "      pd_read_path = f'{MAIN_PATH}/all_feature_metrics_dataset-{procedure_code_composution}.csv'\n",
    "      print('Read csv', pd_read_path)\n",
    "      df_sample = pd.read_csv(pd_read_path);\n",
    "      all_metric_dataframe_infos[procedure_code_composution] = df_sample\n",
    "\n"
   ]
  },
  {
   "cell_type": "markdown",
   "metadata": {
    "id": "y-s37r5at9P6"
   },
   "source": [
    "---------------------------------------------------------------------"
   ]
  },
  {
   "cell_type": "code",
   "execution_count": null,
   "metadata": {
    "colab": {
     "base_uri": "https://localhost:8080/"
    },
    "executionInfo": {
     "elapsed": 254,
     "status": "ok",
     "timestamp": 1737631938108,
     "user": {
      "displayName": "İbrahim Furkan",
      "userId": "03214658540359897285"
     },
     "user_tz": -180
    },
    "id": "r_-1VTQ3yoXt",
    "outputId": "f2bf174d-1c59-4f40-b17d-800765343387"
   },
   "outputs": [],
   "source": [
    "for all_metric_dataframe_infos_key in all_metric_dataframe_infos.keys():\n",
    "  print(all_metric_dataframe_infos_key, all_metric_dataframe_infos[all_metric_dataframe_infos_key].shape)"
   ]
  },
  {
   "cell_type": "code",
   "execution_count": null,
   "metadata": {
    "colab": {
     "base_uri": "https://localhost:8080/"
    },
    "executionInfo": {
     "elapsed": 289,
     "status": "ok",
     "timestamp": 1737632733428,
     "user": {
      "displayName": "İbrahim Furkan",
      "userId": "03214658540359897285"
     },
     "user_tz": -180
    },
    "id": "w5jvvYyE8Fhp",
    "outputId": "59204c9f-38e4-461b-929c-e43d974d8d3b"
   },
   "outputs": [],
   "source": [
    "for AUGMENTATION_BATCH_CODE in AUGMENTATION_BATCH_AMOUNT_BY_PROCEDURE.keys():\n",
    "  total_dataset_info = { }\n",
    "  for DIAGNOSE_GROUP_PROCEDURE in DIAGNOSE_GROUP_SELECTION_PROCEDURE.keys():\n",
    "    for DATASET_PROCEDURE in DATASET_PROCEDURES:\n",
    "      total_dataset_info[f'{DATASET_PROCEDURE}--{DIAGNOSE_GROUP_PROCEDURE}'] = 0\n",
    "\n",
    "  print(AUGMENTATION_BATCH_CODE)\n",
    "  aug_code_list = AUGMENTATION_BATCH_AMOUNT_BY_PROCEDURE[AUGMENTATION_BATCH_CODE]\n",
    "  for all_metric_dataframe_infos_key in all_metric_dataframe_infos.keys():\n",
    "    if all_metric_dataframe_infos_key.split('--')[1] in aug_code_list:\n",
    "      print(all_metric_dataframe_infos_key, all_metric_dataframe_infos[all_metric_dataframe_infos_key].shape)\n",
    "      total_dataset_info[f'{all_metric_dataframe_infos_key.split(\"--\")[0]}--{all_metric_dataframe_infos_key.split(\"--\")[2]}'] += all_metric_dataframe_infos[all_metric_dataframe_infos_key].shape[0]\n",
    "\n",
    "  print(total_dataset_info)\n"
   ]
  },
  {
   "cell_type": "code",
   "execution_count": null,
   "metadata": {
    "colab": {
     "base_uri": "https://localhost:8080/"
    },
    "executionInfo": {
     "elapsed": 723,
     "status": "ok",
     "timestamp": 1737631125233,
     "user": {
      "displayName": "İbrahim Furkan",
      "userId": "03214658540359897285"
     },
     "user_tz": -180
    },
    "id": "tvcdjWUF7Juk",
    "outputId": "3e9ef583-aae3-435a-8274-24dab38f270c"
   },
   "outputs": [],
   "source": [
    "\n",
    "all_metric_dataframe_as_batch_info = {}\n",
    "\n",
    "for DATASET_PROCEDURE in DATASET_PROCEDURES:\n",
    "\n",
    "  for AUGMENTATION_BATCH_CODE in AUGMENTATION_BATCH_AMOUNT_BY_PROCEDURE.keys():\n",
    "\n",
    "    for FEATURE_PROCEDURE in DIAGNOSE_GROUP_SELECTION_PROCEDURE.keys():\n",
    "\n",
    "      all_metric_dataframe_procedure = f'{DATASET_PROCEDURE}--{AUGMENTATION_BATCH_CODE}--{FEATURE_PROCEDURE}'\n",
    "      all_metric_dataframe_as_batch_info[all_metric_dataframe_procedure] = get_all_metric_dataframe_as_batch(DATASET_PROCEDURE, FEATURE_PROCEDURE, AUGMENTATION_BATCH_AMOUNT_BY_PROCEDURE[AUGMENTATION_BATCH_CODE], all_metric_dataframe_infos)\n",
    "      print(all_metric_dataframe_procedure, all_metric_dataframe_as_batch_info[all_metric_dataframe_procedure].shape)\n",
    "\n",
    "\n"
   ]
  },
  {
   "cell_type": "code",
   "execution_count": null,
   "metadata": {
    "colab": {
     "base_uri": "https://localhost:8080/"
    },
    "executionInfo": {
     "elapsed": 1065,
     "status": "ok",
     "timestamp": 1737634082754,
     "user": {
      "displayName": "İbrahim Furkan",
      "userId": "03214658540359897285"
     },
     "user_tz": -180
    },
    "id": "D3xfdUysiU2n",
    "outputId": "9f607af7-0fe3-4dec-abb2-a4e1d9fc06e6"
   },
   "outputs": [],
   "source": [
    "\n",
    "all_metric_dataframe_with_na_droped_infos = get_all_metric_with_na_droped_infos(all_metric_dataframe_infos)\n",
    "\n",
    "for all_metric_dataframe_with_na_droped_infos_key in all_metric_dataframe_with_na_droped_infos.keys():\n",
    "  print(all_metric_dataframe_with_na_droped_infos_key, all_metric_dataframe_with_na_droped_infos[all_metric_dataframe_with_na_droped_infos_key].shape)"
   ]
  },
  {
   "cell_type": "code",
   "execution_count": null,
   "metadata": {
    "colab": {
     "base_uri": "https://localhost:8080/"
    },
    "executionInfo": {
     "elapsed": 2458,
     "status": "ok",
     "timestamp": 1737634136266,
     "user": {
      "displayName": "İbrahim Furkan",
      "userId": "03214658540359897285"
     },
     "user_tz": -180
    },
    "id": "_dCXqIuH7Juk",
    "outputId": "fa37eaca-3437-4df2-806e-2b0a71805cb1"
   },
   "outputs": [],
   "source": [
    "\n",
    "all_metric_dataframe_as_batch_with_na_droped_infos = get_all_metric_with_na_droped_infos(all_metric_dataframe_as_batch_info)\n",
    "\n",
    "for all_metric_dataframe_as_batch_with_na_droped_infos_key in all_metric_dataframe_as_batch_with_na_droped_infos.keys():\n",
    "  print(all_metric_dataframe_as_batch_with_na_droped_infos_key, all_metric_dataframe_as_batch_with_na_droped_infos[all_metric_dataframe_as_batch_with_na_droped_infos_key].shape)"
   ]
  },
  {
   "cell_type": "code",
   "execution_count": null,
   "metadata": {
    "executionInfo": {
     "elapsed": 2881,
     "status": "ok",
     "timestamp": 1737635428389,
     "user": {
      "displayName": "İbrahim Furkan",
      "userId": "03214658540359897285"
     },
     "user_tz": -180
    },
    "id": "KftCCTPw7Jul"
   },
   "outputs": [],
   "source": [
    "all_metric_dataframe_with_na_droped_infos_copy_keys = copy.deepcopy(list(all_metric_dataframe_with_na_droped_infos.keys()))\n",
    "\n",
    "for all_metric_dataframe_with_na_droped_infos_copy_key in all_metric_dataframe_with_na_droped_infos_copy_keys:\n",
    "\n",
    "  df_columns = copy.deepcopy(list(all_metric_dataframe_with_na_droped_infos[all_metric_dataframe_with_na_droped_infos_copy_key].columns))\n",
    "\n",
    "  for df_column in df_columns:\n",
    "    if df_column not in ['source_file' , 'Seconds' , 'Diagnose' , 'is_augmented']:\n",
    "      all_metric_dataframe_with_na_droped_infos[all_metric_dataframe_with_na_droped_infos_copy_key][df_column] = all_metric_dataframe_with_na_droped_infos[all_metric_dataframe_with_na_droped_infos_copy_key][df_column].apply(lambda x: get_formatted_values(x)).astype(np.float64)\n"
   ]
  },
  {
   "cell_type": "code",
   "execution_count": null,
   "metadata": {
    "executionInfo": {
     "elapsed": 7205,
     "status": "ok",
     "timestamp": 1737635437937,
     "user": {
      "displayName": "İbrahim Furkan",
      "userId": "03214658540359897285"
     },
     "user_tz": -180
    },
    "id": "Q__dLuWwoy7b"
   },
   "outputs": [],
   "source": [
    "all_metric_dataframe_as_batch_with_na_droped_infos_copy_keys = copy.deepcopy(list(all_metric_dataframe_as_batch_with_na_droped_infos.keys()))\n",
    "\n",
    "for all_metric_dataframe_as_batch_with_na_droped_infos_copy_key in all_metric_dataframe_as_batch_with_na_droped_infos_copy_keys:\n",
    "\n",
    "  df_columns = copy.deepcopy(list(all_metric_dataframe_as_batch_with_na_droped_infos[all_metric_dataframe_as_batch_with_na_droped_infos_copy_key].columns))\n",
    "\n",
    "  for df_column in df_columns:\n",
    "    if df_column not in ['source_file' , 'Seconds' , 'Diagnose' , 'is_augmented']:\n",
    "      all_metric_dataframe_as_batch_with_na_droped_infos[all_metric_dataframe_as_batch_with_na_droped_infos_copy_key][df_column] = all_metric_dataframe_as_batch_with_na_droped_infos[all_metric_dataframe_as_batch_with_na_droped_infos_copy_key][df_column].apply(lambda x: get_formatted_values(x)).astype(np.float64)\n"
   ]
  },
  {
   "cell_type": "code",
   "execution_count": null,
   "metadata": {
    "colab": {
     "base_uri": "https://localhost:8080/"
    },
    "executionInfo": {
     "elapsed": 13914,
     "status": "ok",
     "timestamp": 1737635929545,
     "user": {
      "displayName": "İbrahim Furkan",
      "userId": "03214658540359897285"
     },
     "user_tz": -180
    },
    "id": "RVSFBpi0J2pL",
    "outputId": "104c2f32-1410-404b-e0da-ae2690c2d592"
   },
   "outputs": [],
   "source": [
    "\n",
    "exported_dataset_infos = {}\n",
    "for all_metric_dataframe_with_na_droped_infos_key in all_metric_dataframe_with_na_droped_infos.keys():\n",
    "  if all_metric_dataframe_with_na_droped_infos_key.endswith('-FP_1'):\n",
    "    exported_dataset_infos[all_metric_dataframe_with_na_droped_infos_key] = all_metric_dataframe_with_na_droped_infos[all_metric_dataframe_with_na_droped_infos_key]\n",
    "\n",
    "\n",
    "for all_metric_dataframe_as_batch_with_na_droped_infos_key in all_metric_dataframe_as_batch_with_na_droped_infos.keys():\n",
    "  if all_metric_dataframe_as_batch_with_na_droped_infos_key.endswith('-FP_1'):\n",
    "    exported_dataset_infos[all_metric_dataframe_as_batch_with_na_droped_infos_key] = all_metric_dataframe_as_batch_with_na_droped_infos[all_metric_dataframe_as_batch_with_na_droped_infos_key]\n",
    "\n",
    "export_dataset_as_csv(exported_dataset_infos, '-non_balanced')\n"
   ]
  },
  {
   "cell_type": "code",
   "execution_count": null,
   "metadata": {
    "colab": {
     "base_uri": "https://localhost:8080/"
    },
    "executionInfo": {
     "elapsed": 15447,
     "status": "ok",
     "timestamp": 1737640448387,
     "user": {
      "displayName": "İbrahim Furkan",
      "userId": "03214658540359897285"
     },
     "user_tz": -180
    },
    "id": "4s2rIDCWLNkG",
    "outputId": "0683b1d2-86a7-43b8-8c94-7e9de24ba0d6"
   },
   "outputs": [],
   "source": [
    "non_F1_only_original_all_metric_dataframe_with_na_droped_infos = {}\n",
    "non_F1_all_metric_dataframe_with_na_droped_infos = {}\n",
    "\n",
    "for all_metric_dataframe_with_na_droped_infos_key in all_metric_dataframe_with_na_droped_infos.keys():\n",
    "  if not all_metric_dataframe_with_na_droped_infos_key.endswith('-FP_1'):\n",
    "    if 'AP_1' in all_metric_dataframe_with_na_droped_infos_key:\n",
    "      non_F1_only_original_all_metric_dataframe_with_na_droped_infos[all_metric_dataframe_with_na_droped_infos_key] = all_metric_dataframe_with_na_droped_infos[all_metric_dataframe_with_na_droped_infos_key].copy()\n",
    "    else:\n",
    "      non_F1_all_metric_dataframe_with_na_droped_infos[all_metric_dataframe_with_na_droped_infos_key] = all_metric_dataframe_with_na_droped_infos[all_metric_dataframe_with_na_droped_infos_key].copy()\n",
    "\n",
    "significant_columns_only_original_infos = get_significant_columns_in_dataset_by_t_test(non_F1_only_original_all_metric_dataframe_with_na_droped_infos, only_orignial_data=True)\n",
    "\n",
    "for significant_columns_only_original_infos_key in significant_columns_only_original_infos.keys():\n",
    "  print(significant_columns_only_original_infos_key, len(significant_columns_only_original_infos[significant_columns_only_original_infos_key]))\n",
    "\n",
    "significant_columns_infos = get_significant_columns_in_dataset_by_t_test(non_F1_all_metric_dataframe_with_na_droped_infos)\n",
    "\n",
    "for significant_columns_infos_key in significant_columns_infos.keys():\n",
    "  print(significant_columns_infos_key, len(significant_columns_infos[significant_columns_infos_key]))\n"
   ]
  },
  {
   "cell_type": "code",
   "execution_count": null,
   "metadata": {
    "colab": {
     "base_uri": "https://localhost:8080/"
    },
    "executionInfo": {
     "elapsed": 11719,
     "status": "ok",
     "timestamp": 1737640168651,
     "user": {
      "displayName": "İbrahim Furkan",
      "userId": "03214658540359897285"
     },
     "user_tz": -180
    },
    "id": "ik6NeVSvLNkI",
    "outputId": "785babf5-88da-47e0-e8ba-755969a90daa"
   },
   "outputs": [],
   "source": [
    "non_F1_all_metric_dataframe_as_batch_with_na_droped_infos = {}\n",
    "\n",
    "for all_metric_dataframe_as_batch_with_na_droped_infos_key in all_metric_dataframe_as_batch_with_na_droped_infos.keys():\n",
    "  if not all_metric_dataframe_as_batch_with_na_droped_infos_key.endswith('-FP_1'):\n",
    "    non_F1_all_metric_dataframe_as_batch_with_na_droped_infos[all_metric_dataframe_as_batch_with_na_droped_infos_key] = all_metric_dataframe_as_batch_with_na_droped_infos[all_metric_dataframe_as_batch_with_na_droped_infos_key]\n",
    "\n",
    "\n",
    "significant_columns_as_batch_infos = get_significant_columns_in_dataset_by_t_test(non_F1_all_metric_dataframe_as_batch_with_na_droped_infos, only_orignial_data=True)\n",
    "\n",
    "for significant_columns_as_batch_infos_key in significant_columns_as_batch_infos.keys():\n",
    "  print(significant_columns_as_batch_infos_key, len(significant_columns_as_batch_infos[significant_columns_as_batch_infos_key]))\n"
   ]
  },
  {
   "cell_type": "code",
   "execution_count": null,
   "metadata": {
    "colab": {
     "base_uri": "https://localhost:8080/"
    },
    "executionInfo": {
     "elapsed": 264,
     "status": "ok",
     "timestamp": 1737640689647,
     "user": {
      "displayName": "İbrahim Furkan",
      "userId": "03214658540359897285"
     },
     "user_tz": -180
    },
    "id": "D7N59rC1LNkJ",
    "outputId": "a9a8fb06-1a23-49fc-8235-48353bb7618d"
   },
   "outputs": [],
   "source": [
    "\n",
    "all_metric_dataframe_with_na_droped_and_significant_features_infos = get_dataset_with_significant_columns_by_t_test(significant_columns_infos, non_F1_all_metric_dataframe_with_na_droped_infos)\n",
    "\n",
    "for all_metric_dataframe_with_na_droped_and_significant_features_infos_key in all_metric_dataframe_with_na_droped_and_significant_features_infos.keys():\n",
    "  print(all_metric_dataframe_with_na_droped_and_significant_features_infos_key, all_metric_dataframe_with_na_droped_and_significant_features_infos[all_metric_dataframe_with_na_droped_and_significant_features_infos_key].shape)\n"
   ]
  },
  {
   "cell_type": "code",
   "execution_count": null,
   "metadata": {
    "colab": {
     "base_uri": "https://localhost:8080/"
    },
    "executionInfo": {
     "elapsed": 284,
     "status": "ok",
     "timestamp": 1737640698679,
     "user": {
      "displayName": "İbrahim Furkan",
      "userId": "03214658540359897285"
     },
     "user_tz": -180
    },
    "id": "Sbd6AvjVbg9E",
    "outputId": "027ab6c6-e879-4d78-8049-040923b0bb47"
   },
   "outputs": [],
   "source": [
    "\n",
    "all_metric_dataframe_only_original_with_na_droped_and_significant_features_infos = get_dataset_with_significant_columns_by_t_test(significant_columns_only_original_infos, non_F1_only_original_all_metric_dataframe_with_na_droped_infos)\n",
    "\n",
    "for all_metric_dataframe_only_original_with_na_droped_and_significant_features_infos_key in all_metric_dataframe_only_original_with_na_droped_and_significant_features_infos.keys():\n",
    "  print(all_metric_dataframe_only_original_with_na_droped_and_significant_features_infos_key, all_metric_dataframe_only_original_with_na_droped_and_significant_features_infos[all_metric_dataframe_only_original_with_na_droped_and_significant_features_infos_key].shape)\n"
   ]
  },
  {
   "cell_type": "code",
   "execution_count": null,
   "metadata": {
    "colab": {
     "base_uri": "https://localhost:8080/"
    },
    "executionInfo": {
     "elapsed": 296,
     "status": "ok",
     "timestamp": 1737640737657,
     "user": {
      "displayName": "İbrahim Furkan",
      "userId": "03214658540359897285"
     },
     "user_tz": -180
    },
    "id": "j5JSm0VQLNkJ",
    "outputId": "f65039cf-8c63-4960-f6a3-a66b9f283483"
   },
   "outputs": [],
   "source": [
    "\n",
    "all_metric_dataframe_as_batch_with_na_droped_and_significant_features_infos = get_dataset_with_significant_columns_by_t_test(significant_columns_as_batch_infos, non_F1_all_metric_dataframe_as_batch_with_na_droped_infos)\n",
    "\n",
    "for all_metric_dataframe_as_batch_with_na_droped_and_significant_features_infos_key in all_metric_dataframe_as_batch_with_na_droped_and_significant_features_infos.keys():\n",
    "  print(all_metric_dataframe_as_batch_with_na_droped_and_significant_features_infos_key, all_metric_dataframe_as_batch_with_na_droped_and_significant_features_infos[all_metric_dataframe_as_batch_with_na_droped_and_significant_features_infos_key].shape)\n"
   ]
  },
  {
   "cell_type": "code",
   "execution_count": null,
   "metadata": {
    "colab": {
     "base_uri": "https://localhost:8080/"
    },
    "executionInfo": {
     "elapsed": 14907,
     "status": "ok",
     "timestamp": 1737640820839,
     "user": {
      "displayName": "İbrahim Furkan",
      "userId": "03214658540359897285"
     },
     "user_tz": -180
    },
    "id": "xmYeX71mdbEr",
    "outputId": "fcceaaab-df37-4faa-ae87-a0a75d16b311"
   },
   "outputs": [],
   "source": [
    "\n",
    "export_dataset_as_csv(all_metric_dataframe_as_batch_with_na_droped_and_significant_features_infos, '-non_balanced')\n",
    "\n",
    "export_dataset_as_csv(all_metric_dataframe_only_original_with_na_droped_and_significant_features_infos, '-non_balanced')\n",
    "\n",
    "export_dataset_as_csv(all_metric_dataframe_with_na_droped_and_significant_features_infos, '-non_balanced')\n"
   ]
  },
  {
   "cell_type": "code",
   "execution_count": null,
   "metadata": {
    "colab": {
     "base_uri": "https://localhost:8080/"
    },
    "executionInfo": {
     "elapsed": 893,
     "status": "ok",
     "timestamp": 1737643805640,
     "user": {
      "displayName": "İbrahim Furkan",
      "userId": "03214658540359897285"
     },
     "user_tz": -180
    },
    "id": "aMUlBTjO7Juk",
    "outputId": "3fd66cb1-9d8b-438f-b318-73c56282a483"
   },
   "outputs": [],
   "source": [
    "\n",
    "all_metric_dataframe_with_balanced_diagnose = balance_diagnose_classification_lables(all_metric_dataframe_with_na_droped_infos)\n",
    "\n",
    "for all_metric_dataframe_with_balanced_diagnose_key in all_metric_dataframe_with_balanced_diagnose.keys():\n",
    "  print(all_metric_dataframe_with_balanced_diagnose_key, all_metric_dataframe_with_balanced_diagnose[all_metric_dataframe_with_balanced_diagnose_key].shape)\n",
    "\n"
   ]
  },
  {
   "cell_type": "code",
   "execution_count": null,
   "metadata": {
    "colab": {
     "base_uri": "https://localhost:8080/"
    },
    "executionInfo": {
     "elapsed": 1351,
     "status": "ok",
     "timestamp": 1737643856853,
     "user": {
      "displayName": "İbrahim Furkan",
      "userId": "03214658540359897285"
     },
     "user_tz": -180
    },
    "id": "57g3kzkkn8Gf",
    "outputId": "202b7125-275c-4457-e3b9-d4f8d0b913be"
   },
   "outputs": [],
   "source": [
    "\n",
    "all_metric_dataframe_as_batch_with_balanced_diagnose = balance_diagnose_classification_lables(all_metric_dataframe_as_batch_with_na_droped_infos)\n",
    "\n",
    "for all_metric_dataframe_as_batch_with_balanced_diagnose_key in all_metric_dataframe_as_batch_with_balanced_diagnose.keys():\n",
    "  print(all_metric_dataframe_as_batch_with_balanced_diagnose_key, all_metric_dataframe_as_batch_with_balanced_diagnose[all_metric_dataframe_as_batch_with_balanced_diagnose_key].shape)\n",
    "\n"
   ]
  },
  {
   "cell_type": "code",
   "execution_count": null,
   "metadata": {
    "colab": {
     "base_uri": "https://localhost:8080/"
    },
    "executionInfo": {
     "elapsed": 307,
     "status": "ok",
     "timestamp": 1737643958240,
     "user": {
      "displayName": "İbrahim Furkan",
      "userId": "03214658540359897285"
     },
     "user_tz": -180
    },
    "id": "ydzKY-Ql7Juk",
    "outputId": "6844f45e-c332-49c1-8cc9-7029aba95031"
   },
   "outputs": [],
   "source": [
    "\n",
    "for all_metric_dataframe_with_balanced_diagnose_key in all_metric_dataframe_with_balanced_diagnose.keys():\n",
    "  df_columns = all_metric_dataframe_with_balanced_diagnose[all_metric_dataframe_with_balanced_diagnose_key].columns\n",
    "  print(all_metric_dataframe_with_balanced_diagnose_key, { df_columns[column_idx]: na_info for column_idx , na_info in enumerate(all_metric_dataframe_with_balanced_diagnose[all_metric_dataframe_with_balanced_diagnose_key].isna().sum())})\n"
   ]
  },
  {
   "cell_type": "code",
   "execution_count": null,
   "metadata": {
    "colab": {
     "base_uri": "https://localhost:8080/"
    },
    "executionInfo": {
     "elapsed": 328,
     "status": "ok",
     "timestamp": 1737643969804,
     "user": {
      "displayName": "İbrahim Furkan",
      "userId": "03214658540359897285"
     },
     "user_tz": -180
    },
    "id": "wQALkcQjoDTb",
    "outputId": "12e66628-e233-41cf-ed6d-216046e55bfd"
   },
   "outputs": [],
   "source": [
    "\n",
    "for all_metric_dataframe_as_batch_with_balanced_diagnose_key in all_metric_dataframe_as_batch_with_balanced_diagnose.keys():\n",
    "  df_columns = all_metric_dataframe_as_batch_with_balanced_diagnose[all_metric_dataframe_as_batch_with_balanced_diagnose_key].columns\n",
    "  print(all_metric_dataframe_as_batch_with_balanced_diagnose_key, { df_columns[column_idx]: na_info for column_idx , na_info in enumerate(all_metric_dataframe_as_batch_with_balanced_diagnose[all_metric_dataframe_as_batch_with_balanced_diagnose_key].isna().sum())})\n"
   ]
  },
  {
   "cell_type": "code",
   "execution_count": null,
   "metadata": {
    "colab": {
     "base_uri": "https://localhost:8080/"
    },
    "executionInfo": {
     "elapsed": 10474,
     "status": "ok",
     "timestamp": 1737644249341,
     "user": {
      "displayName": "İbrahim Furkan",
      "userId": "03214658540359897285"
     },
     "user_tz": -180
    },
    "id": "HuMZBI3rp4WX",
    "outputId": "72b936e8-ada0-4f0c-8f43-e8206f19cdc2"
   },
   "outputs": [],
   "source": [
    "\n",
    "exported_dataset_infos = {}\n",
    "for all_metric_dataframe_with_balanced_diagnose_key in all_metric_dataframe_with_balanced_diagnose.keys():\n",
    "  if all_metric_dataframe_with_balanced_diagnose_key.endswith('-FP_1'):\n",
    "    exported_dataset_infos[all_metric_dataframe_with_balanced_diagnose_key] = all_metric_dataframe_with_balanced_diagnose[all_metric_dataframe_with_balanced_diagnose_key]\n",
    "\n",
    "\n",
    "for ll_metric_dataframe_as_batch_with_balanced_diagnose_key in all_metric_dataframe_as_batch_with_balanced_diagnose.keys():\n",
    "  if ll_metric_dataframe_as_batch_with_balanced_diagnose_key.endswith('-FP_1'):\n",
    "    exported_dataset_infos[ll_metric_dataframe_as_batch_with_balanced_diagnose_key] = all_metric_dataframe_as_batch_with_balanced_diagnose[ll_metric_dataframe_as_batch_with_balanced_diagnose_key]\n",
    "\n",
    "export_dataset_as_csv(exported_dataset_infos, '-balanced')\n"
   ]
  },
  {
   "cell_type": "code",
   "execution_count": null,
   "metadata": {
    "colab": {
     "base_uri": "https://localhost:8080/"
    },
    "executionInfo": {
     "elapsed": 15087,
     "status": "ok",
     "timestamp": 1737644406279,
     "user": {
      "displayName": "İbrahim Furkan",
      "userId": "03214658540359897285"
     },
     "user_tz": -180
    },
    "id": "qbdEHwKk7Jul",
    "outputId": "aaa489ce-2d49-49e4-8a78-08e927217c92"
   },
   "outputs": [],
   "source": [
    "non_F1_only_original_all_metric_dataframe_with_balanced_diagnose = {}\n",
    "non_F1_all_metric_dataframe_with_balanced_diagnose = {}\n",
    "\n",
    "for all_metric_dataframe_with_balanced_diagnose_key in all_metric_dataframe_with_balanced_diagnose.keys():\n",
    "  if not all_metric_dataframe_with_balanced_diagnose_key.endswith('-FP_1'):\n",
    "    if 'AP_1' in all_metric_dataframe_with_balanced_diagnose_key:\n",
    "      non_F1_only_original_all_metric_dataframe_with_balanced_diagnose[all_metric_dataframe_with_balanced_diagnose_key] = all_metric_dataframe_with_balanced_diagnose[all_metric_dataframe_with_balanced_diagnose_key].copy()\n",
    "    else:\n",
    "      non_F1_all_metric_dataframe_with_balanced_diagnose[all_metric_dataframe_with_balanced_diagnose_key] = all_metric_dataframe_with_balanced_diagnose[all_metric_dataframe_with_balanced_diagnose_key].copy()\n",
    "\n",
    "significant_columns_only_original_infos = get_significant_columns_in_dataset_by_t_test(non_F1_only_original_all_metric_dataframe_with_balanced_diagnose, only_orignial_data=True)\n",
    "\n",
    "for significant_columns_only_original_infos_key in significant_columns_only_original_infos.keys():\n",
    "  print(significant_columns_only_original_infos_key, len(significant_columns_only_original_infos[significant_columns_only_original_infos_key]))\n",
    "\n",
    "significant_columns_infos = get_significant_columns_in_dataset_by_t_test(non_F1_all_metric_dataframe_with_balanced_diagnose)\n",
    "\n",
    "for significant_columns_infos_key in significant_columns_infos.keys():\n",
    "  print(significant_columns_infos_key, len(significant_columns_infos[significant_columns_infos_key]))\n"
   ]
  },
  {
   "cell_type": "code",
   "execution_count": null,
   "metadata": {
    "colab": {
     "base_uri": "https://localhost:8080/"
    },
    "executionInfo": {
     "elapsed": 12482,
     "status": "ok",
     "timestamp": 1737644491350,
     "user": {
      "displayName": "İbrahim Furkan",
      "userId": "03214658540359897285"
     },
     "user_tz": -180
    },
    "id": "_VtTTZ_KpIXA",
    "outputId": "fbccb773-b929-4e6c-c3ed-80bdc2011496"
   },
   "outputs": [],
   "source": [
    "non_F1_all_metric_dataframe_as_batch_with_balanced_diagnose = {}\n",
    "\n",
    "for all_metric_dataframe_as_batch_with_balanced_diagnose_key in all_metric_dataframe_as_batch_with_balanced_diagnose.keys():\n",
    "  if not all_metric_dataframe_as_batch_with_balanced_diagnose_key.endswith('-FP_1'):\n",
    "    non_F1_all_metric_dataframe_as_batch_with_balanced_diagnose[all_metric_dataframe_as_batch_with_balanced_diagnose_key] = all_metric_dataframe_as_batch_with_balanced_diagnose[all_metric_dataframe_as_batch_with_balanced_diagnose_key]\n",
    "\n",
    "\n",
    "significant_columns_as_batch_infos = get_significant_columns_in_dataset_by_t_test(non_F1_all_metric_dataframe_as_batch_with_balanced_diagnose, only_orignial_data=True)\n",
    "\n",
    "for significant_columns_as_batch_infos_key in significant_columns_as_batch_infos.keys():\n",
    "  print(significant_columns_as_batch_infos_key, len(significant_columns_as_batch_infos[significant_columns_as_batch_infos_key]))\n"
   ]
  },
  {
   "cell_type": "code",
   "execution_count": null,
   "metadata": {
    "colab": {
     "base_uri": "https://localhost:8080/"
    },
    "executionInfo": {
     "elapsed": 260,
     "status": "ok",
     "timestamp": 1737644723058,
     "user": {
      "displayName": "İbrahim Furkan",
      "userId": "03214658540359897285"
     },
     "user_tz": -180
    },
    "id": "s8_roFDb7Jul",
    "outputId": "46e3435c-c781-4f97-d75d-1cf50816f6cb"
   },
   "outputs": [],
   "source": [
    "\n",
    "all_metric_dataframe_with_na_droped_and_significant_features_infos = get_dataset_with_significant_columns_by_t_test(significant_columns_infos, non_F1_all_metric_dataframe_with_balanced_diagnose)\n",
    "\n",
    "for all_metric_dataframe_with_na_droped_and_significant_features_infos_key in all_metric_dataframe_with_na_droped_and_significant_features_infos.keys():\n",
    "  print(all_metric_dataframe_with_na_droped_and_significant_features_infos_key, all_metric_dataframe_with_na_droped_and_significant_features_infos[all_metric_dataframe_with_na_droped_and_significant_features_infos_key].shape)\n"
   ]
  },
  {
   "cell_type": "code",
   "execution_count": null,
   "metadata": {
    "colab": {
     "base_uri": "https://localhost:8080/"
    },
    "executionInfo": {
     "elapsed": 363,
     "status": "ok",
     "timestamp": 1737644725421,
     "user": {
      "displayName": "İbrahim Furkan",
      "userId": "03214658540359897285"
     },
     "user_tz": -180
    },
    "id": "AEfR9Z5MpRui",
    "outputId": "f29e6440-f00e-48e0-91dc-1e25e2a059d1"
   },
   "outputs": [],
   "source": [
    "\n",
    "all_metric_dataframe_only_original_with_na_droped_and_significant_features_infos = get_dataset_with_significant_columns_by_t_test(significant_columns_only_original_infos, non_F1_only_original_all_metric_dataframe_with_balanced_diagnose)\n",
    "\n",
    "for all_metric_dataframe_only_original_with_na_droped_and_significant_features_infos_key in all_metric_dataframe_only_original_with_na_droped_and_significant_features_infos.keys():\n",
    "  print(all_metric_dataframe_only_original_with_na_droped_and_significant_features_infos_key, all_metric_dataframe_only_original_with_na_droped_and_significant_features_infos[all_metric_dataframe_only_original_with_na_droped_and_significant_features_infos_key].shape)\n"
   ]
  },
  {
   "cell_type": "code",
   "execution_count": null,
   "metadata": {
    "colab": {
     "base_uri": "https://localhost:8080/"
    },
    "executionInfo": {
     "elapsed": 288,
     "status": "ok",
     "timestamp": 1737644727250,
     "user": {
      "displayName": "İbrahim Furkan",
      "userId": "03214658540359897285"
     },
     "user_tz": -180
    },
    "id": "uX4KIpeSr24F",
    "outputId": "18f6fb55-8fc5-4996-a983-9781d61120a0"
   },
   "outputs": [],
   "source": [
    "\n",
    "all_metric_dataframe_as_batch_with_na_droped_and_significant_features_infos = get_dataset_with_significant_columns_by_t_test(significant_columns_as_batch_infos, non_F1_all_metric_dataframe_as_batch_with_balanced_diagnose)\n",
    "\n",
    "for all_metric_dataframe_as_batch_with_na_droped_and_significant_features_infos_key in all_metric_dataframe_as_batch_with_na_droped_and_significant_features_infos.keys():\n",
    "  print(all_metric_dataframe_as_batch_with_na_droped_and_significant_features_infos_key, all_metric_dataframe_as_batch_with_na_droped_and_significant_features_infos[all_metric_dataframe_as_batch_with_na_droped_and_significant_features_infos_key].shape)\n"
   ]
  },
  {
   "cell_type": "code",
   "execution_count": null,
   "metadata": {
    "colab": {
     "base_uri": "https://localhost:8080/"
    },
    "executionInfo": {
     "elapsed": 254,
     "status": "ok",
     "timestamp": 1737644798386,
     "user": {
      "displayName": "İbrahim Furkan",
      "userId": "03214658540359897285"
     },
     "user_tz": -180
    },
    "id": "hyhIejmGsw6C",
    "outputId": "8ca23a44-2ed8-4d15-96e8-fdf67ee00d43"
   },
   "outputs": [],
   "source": [
    "\n",
    "for all_metric_dataframe_with_na_droped_and_significant_features_infos_key in all_metric_dataframe_with_na_droped_and_significant_features_infos.keys():\n",
    "  df_columns = all_metric_dataframe_with_na_droped_and_significant_features_infos[all_metric_dataframe_with_na_droped_and_significant_features_infos_key].columns\n",
    "  print(all_metric_dataframe_with_na_droped_and_significant_features_infos_key, { df_columns[column_idx]: na_info for column_idx , na_info in enumerate(all_metric_dataframe_with_na_droped_and_significant_features_infos[all_metric_dataframe_with_na_droped_and_significant_features_infos_key].isna().sum())})\n"
   ]
  },
  {
   "cell_type": "code",
   "execution_count": null,
   "metadata": {
    "colab": {
     "base_uri": "https://localhost:8080/"
    },
    "executionInfo": {
     "elapsed": 237,
     "status": "ok",
     "timestamp": 1737644832398,
     "user": {
      "displayName": "İbrahim Furkan",
      "userId": "03214658540359897285"
     },
     "user_tz": -180
    },
    "id": "z6S3YzR4s5Hz",
    "outputId": "d0a0a649-45d7-41e8-fdcd-4ab0b199225a"
   },
   "outputs": [],
   "source": [
    "\n",
    "for all_metric_dataframe_only_original_with_na_droped_and_significant_features_infos_key in all_metric_dataframe_only_original_with_na_droped_and_significant_features_infos.keys():\n",
    "  df_columns = all_metric_dataframe_only_original_with_na_droped_and_significant_features_infos[all_metric_dataframe_only_original_with_na_droped_and_significant_features_infos_key].columns\n",
    "  print(all_metric_dataframe_only_original_with_na_droped_and_significant_features_infos_key, { df_columns[column_idx]: na_info for column_idx , na_info in enumerate(all_metric_dataframe_only_original_with_na_droped_and_significant_features_infos[all_metric_dataframe_only_original_with_na_droped_and_significant_features_infos_key].isna().sum())})\n"
   ]
  },
  {
   "cell_type": "code",
   "execution_count": null,
   "metadata": {
    "colab": {
     "base_uri": "https://localhost:8080/",
     "height": 671
    },
    "executionInfo": {
     "elapsed": 54268,
     "status": "ok",
     "timestamp": 1737645026757,
     "user": {
      "displayName": "İbrahim Furkan",
      "userId": "03214658540359897285"
     },
     "user_tz": -180
    },
    "id": "lQX5Szjs7Jul",
    "outputId": "0c773fe8-8f62-4e8b-a0eb-dba86a1d83c5"
   },
   "outputs": [],
   "source": [
    "\n",
    "display_correlation_coefficient_matrix(all_metric_dataframe_with_na_droped_and_significant_features_infos)\n"
   ]
  },
  {
   "cell_type": "code",
   "execution_count": null,
   "metadata": {
    "colab": {
     "base_uri": "https://localhost:8080/",
     "height": 675
    },
    "executionInfo": {
     "elapsed": 1147,
     "status": "ok",
     "timestamp": 1737645027902,
     "user": {
      "displayName": "İbrahim Furkan",
      "userId": "03214658540359897285"
     },
     "user_tz": -180
    },
    "id": "PkwSV5LktemP",
    "outputId": "ad51ece8-b8dc-40ad-d010-2a264be2b772"
   },
   "outputs": [],
   "source": [
    "\n",
    "display_correlation_coefficient_matrix(all_metric_dataframe_only_original_with_na_droped_and_significant_features_infos)\n"
   ]
  },
  {
   "cell_type": "code",
   "execution_count": null,
   "metadata": {
    "colab": {
     "base_uri": "https://localhost:8080/",
     "height": 606,
     "output_embedded_package_id": "11o2IwCfbGq2G2KR7hxLJ8l21IuT_8PBe"
    },
    "executionInfo": {
     "elapsed": 35908,
     "status": "ok",
     "timestamp": 1737645131220,
     "user": {
      "displayName": "İbrahim Furkan",
      "userId": "03214658540359897285"
     },
     "user_tz": -180
    },
    "id": "Dfk2smRotet_",
    "outputId": "5632dffc-bdd7-48ed-92c1-da5353e3a4d0"
   },
   "outputs": [],
   "source": [
    "\n",
    "display_correlation_coefficient_matrix(all_metric_dataframe_as_batch_with_na_droped_and_significant_features_infos)\n"
   ]
  },
  {
   "cell_type": "code",
   "execution_count": null,
   "metadata": {
    "colab": {
     "base_uri": "https://localhost:8080/"
    },
    "executionInfo": {
     "elapsed": 10467,
     "status": "ok",
     "timestamp": 1737645302954,
     "user": {
      "displayName": "İbrahim Furkan",
      "userId": "03214658540359897285"
     },
     "user_tz": -180
    },
    "id": "uMv6r2iU7Jum",
    "outputId": "9e79c849-4fea-49db-ec04-9e7584369e9e"
   },
   "outputs": [],
   "source": [
    "\n",
    "export_dataset_as_csv(all_metric_dataframe_with_na_droped_and_significant_features_infos, '-balanced')\n",
    "\n",
    "export_dataset_as_csv(all_metric_dataframe_only_original_with_na_droped_and_significant_features_infos, '-balanced')\n",
    "\n",
    "export_dataset_as_csv(all_metric_dataframe_as_batch_with_na_droped_and_significant_features_infos, '-balanced')\n"
   ]
  },
  {
   "cell_type": "markdown",
   "metadata": {
    "id": "lm8X65GVLlXA"
   },
   "source": [
    "### Use all experts or seperate Expert and all augmented values with weigtened propabilites (AP_ALL, AP_ALL_2, AP_ALL_3)\n"
   ]
  },
  {
   "cell_type": "code",
   "execution_count": null,
   "metadata": {
    "id": "PjgKbw7hLlXB"
   },
   "outputs": [],
   "source": [
    "all_metric_dataframe_infos = {}"
   ]
  },
  {
   "cell_type": "markdown",
   "metadata": {
    "id": "CV4cIwbenFOe"
   },
   "source": [
    "By All Experts"
   ]
  },
  {
   "cell_type": "code",
   "execution_count": null,
   "metadata": {
    "colab": {
     "base_uri": "https://localhost:8080/"
    },
    "executionInfo": {
     "elapsed": 36878,
     "status": "ok",
     "timestamp": 1737411374591,
     "user": {
      "displayName": "İbrahim Furkan",
      "userId": "03214658540359897285"
     },
     "user_tz": -180
    },
    "id": "33gkeCKQdIzm",
    "outputId": "069b0e51-1287-4663-e8bb-fe328b30a3f3"
   },
   "outputs": [],
   "source": [
    "_ = get_stress_sample_rate(all_data_infos, MAIN_PATH, DATASET_PROCEDURES, None, True)"
   ]
  },
  {
   "cell_type": "markdown",
   "metadata": {
    "id": "okm70SsGQ0Gw"
   },
   "source": [
    "By Expert1"
   ]
  },
  {
   "cell_type": "code",
   "execution_count": null,
   "metadata": {
    "colab": {
     "base_uri": "https://localhost:8080/"
    },
    "executionInfo": {
     "elapsed": 453,
     "status": "ok",
     "timestamp": 1737411375028,
     "user": {
      "displayName": "İbrahim Furkan",
      "userId": "03214658540359897285"
     },
     "user_tz": -180
    },
    "id": "u-dGd5-AQvi3",
    "outputId": "91ab6ccb-2984-4417-cd28-4e0aecfd8476"
   },
   "outputs": [],
   "source": [
    "_ = get_stress_sample_rate(all_data_infos, MAIN_PATH, DATASET_PROCEDURES, 'Expert1', True)"
   ]
  },
  {
   "cell_type": "markdown",
   "metadata": {
    "id": "PFb60mTNQ0nM"
   },
   "source": [
    "By Expert2"
   ]
  },
  {
   "cell_type": "code",
   "execution_count": null,
   "metadata": {
    "colab": {
     "base_uri": "https://localhost:8080/"
    },
    "executionInfo": {
     "elapsed": 655,
     "status": "ok",
     "timestamp": 1737411375677,
     "user": {
      "displayName": "İbrahim Furkan",
      "userId": "03214658540359897285"
     },
     "user_tz": -180
    },
    "id": "TiJLWWVNQvi3",
    "outputId": "7f96ac51-d0b0-4d9b-e8de-d7a37ee0b4ef"
   },
   "outputs": [],
   "source": [
    "_ = get_stress_sample_rate(all_data_infos, MAIN_PATH, DATASET_PROCEDURES, 'Expert2', True)"
   ]
  },
  {
   "cell_type": "markdown",
   "metadata": {
    "id": "AlLJj-aeQ2sl"
   },
   "source": [
    "By Expert3"
   ]
  },
  {
   "cell_type": "code",
   "execution_count": null,
   "metadata": {
    "colab": {
     "base_uri": "https://localhost:8080/"
    },
    "executionInfo": {
     "elapsed": 665,
     "status": "ok",
     "timestamp": 1737411376339,
     "user": {
      "displayName": "İbrahim Furkan",
      "userId": "03214658540359897285"
     },
     "user_tz": -180
    },
    "id": "6DMbeKSzQvi4",
    "outputId": "42487362-0c41-42a6-b9a8-13da11e7288d"
   },
   "outputs": [],
   "source": [
    "_ = get_stress_sample_rate(all_data_infos, MAIN_PATH, DATASET_PROCEDURES, 'Expert3', True)"
   ]
  },
  {
   "cell_type": "code",
   "execution_count": null,
   "metadata": {
    "colab": {
     "base_uri": "https://localhost:8080/"
    },
    "executionInfo": {
     "elapsed": 1533,
     "status": "ok",
     "timestamp": 1737416069569,
     "user": {
      "displayName": "İbrahim Furkan",
      "userId": "03214658540359897285"
     },
     "user_tz": -180
    },
    "id": "Lpp2dyb_g9Ip",
    "outputId": "01d2543e-8354-4026-966b-af36cde01de4"
   },
   "outputs": [],
   "source": [
    "\n",
    "random_generated_index_for_augmented_samples_info = get_random_generated_index_for_augmented_samples_infos(all_data_infos, MAIN_PATH, DATASET_PROCEDURES, AUGMENTATION_SAMPLE_AMOUNT_BY_PROCEDURE)\n",
    "\n",
    "for random_generated_index_for_augmented_samples_info_key in random_generated_index_for_augmented_samples_info.keys():\n",
    "  print(random_generated_index_for_augmented_samples_info_key, random_generated_index_for_augmented_samples_info[random_generated_index_for_augmented_samples_info_key].shape)\n"
   ]
  },
  {
   "cell_type": "code",
   "execution_count": null,
   "metadata": {
    "colab": {
     "base_uri": "https://localhost:8080/"
    },
    "executionInfo": {
     "elapsed": 1560220,
     "status": "ok",
     "timestamp": 1737417750987,
     "user": {
      "displayName": "İbrahim Furkan",
      "userId": "03214658540359897285"
     },
     "user_tz": -180
    },
    "id": "uGIO-J_AEJB6",
    "outputId": "f2db9c09-0556-4cb6-8b48-77bf9dce40bf"
   },
   "outputs": [],
   "source": [
    "\n",
    "for DATASET_PROCEDURE in DATASET_PROCEDURES:\n",
    "\n",
    "  for AUGMENTATION_PROCEDURE in list(AUGMENTATION_PROCEDURES):\n",
    "\n",
    "    tmp_all_metric_dataframe_infos = get_datasets_by_experment_procedures(all_data_infos, \\\n",
    "                                                                      random_generated_index_for_augmented_samples_info, \\\n",
    "                                                                      AUGMENTATION_SAMPLE_AMOUNT_BY_PROCEDURE, \\\n",
    "                                                                      [AUGMENTATION_PROCEDURE], \\\n",
    "                                                                      [DATASET_PROCEDURE], \\\n",
    "                                                                      MAIN_PATH, \\\n",
    "                                                                      MAIN_PROCESSED_PATH, \\\n",
    "                                                                      EXPERT_SELECTION_PROCEDURE, \\\n",
    "                                                                      allowed_files)\n",
    "\n",
    "    for tmp_all_metric_dataframe_infos_key in tmp_all_metric_dataframe_infos.keys():\n",
    "      all_metric_dataframe_infos[tmp_all_metric_dataframe_infos_key] = tmp_all_metric_dataframe_infos[tmp_all_metric_dataframe_infos_key]\n"
   ]
  },
  {
   "cell_type": "code",
   "execution_count": null,
   "metadata": {
    "colab": {
     "base_uri": "https://localhost:8080/"
    },
    "executionInfo": {
     "elapsed": 372,
     "status": "ok",
     "timestamp": 1737418449301,
     "user": {
      "displayName": "İbrahim Furkan",
      "userId": "03214658540359897285"
     },
     "user_tz": -180
    },
    "id": "NHA2z58LLlXC",
    "outputId": "909048bf-d265-45f1-fc8d-41568b3eccfd"
   },
   "outputs": [],
   "source": [
    "\n",
    "all_metric_dataframe_as_batch_info = {}\n",
    "\n",
    "for DATASET_PROCEDURE in DATASET_PROCEDURES:\n",
    "\n",
    "  for AUGMENTATION_BATCH_CODE in AUGMENTATION_BATCH_AMOUNT_BY_PROCEDURE.keys():\n",
    "\n",
    "    for FEATURE_PROCEDURE in FEATURE_PROCEDURES:\n",
    "\n",
    "      all_metric_dataframe_procedure = f'{DATASET_PROCEDURE}--{AUGMENTATION_BATCH_CODE}--{FEATURE_PROCEDURE}'\n",
    "      all_metric_dataframe_as_batch_info[all_metric_dataframe_procedure] = get_all_metric_dataframe_as_batch(DATASET_PROCEDURE, FEATURE_PROCEDURE, AUGMENTATION_BATCH_AMOUNT_BY_PROCEDURE[AUGMENTATION_BATCH_CODE], all_metric_dataframe_infos)\n",
    "      print(all_metric_dataframe_procedure, all_metric_dataframe_as_batch_info[all_metric_dataframe_procedure].shape)\n",
    "\n",
    "\n"
   ]
  },
  {
   "cell_type": "code",
   "execution_count": null,
   "metadata": {
    "colab": {
     "base_uri": "https://localhost:8080/"
    },
    "executionInfo": {
     "elapsed": 1761,
     "status": "ok",
     "timestamp": 1737425318645,
     "user": {
      "displayName": "İbrahim Furkan",
      "userId": "03214658540359897285"
     },
     "user_tz": -180
    },
    "id": "Il-y0eZxLlXD",
    "outputId": "0cd065f5-4284-4b46-aeb2-f175cbada0a9"
   },
   "outputs": [],
   "source": [
    "\n",
    "all_metric_dataframe_with_na_droped_infos = get_all_metric_with_na_droped_infos(all_metric_dataframe_as_batch_info)\n",
    "\n",
    "for all_metric_dataframe_with_na_droped_infos_key in all_metric_dataframe_with_na_droped_infos.keys():\n",
    "  print(all_metric_dataframe_with_na_droped_infos_key, all_metric_dataframe_with_na_droped_infos[all_metric_dataframe_with_na_droped_infos_key].shape)"
   ]
  },
  {
   "cell_type": "code",
   "execution_count": null,
   "metadata": {
    "colab": {
     "base_uri": "https://localhost:8080/"
    },
    "executionInfo": {
     "elapsed": 635,
     "status": "ok",
     "timestamp": 1737425442848,
     "user": {
      "displayName": "İbrahim Furkan",
      "userId": "03214658540359897285"
     },
     "user_tz": -180
    },
    "id": "Lt5oY9hyLlXD",
    "outputId": "fbc6edf2-d876-4b1b-ddc1-dac1f4f9c07f"
   },
   "outputs": [],
   "source": [
    "\n",
    "all_metric_dataframe_with_balanced_diagnose = balance_diagnose_classification_lables(all_metric_dataframe_with_na_droped_infos)\n",
    "\n",
    "for all_metric_dataframe_with_balanced_diagnose_key in all_metric_dataframe_with_balanced_diagnose.keys():\n",
    "  print(all_metric_dataframe_with_balanced_diagnose_key, all_metric_dataframe_with_balanced_diagnose[all_metric_dataframe_with_balanced_diagnose_key].shape)\n",
    "\n"
   ]
  },
  {
   "cell_type": "code",
   "execution_count": null,
   "metadata": {
    "colab": {
     "base_uri": "https://localhost:8080/"
    },
    "executionInfo": {
     "elapsed": 305,
     "status": "ok",
     "timestamp": 1737425477351,
     "user": {
      "displayName": "İbrahim Furkan",
      "userId": "03214658540359897285"
     },
     "user_tz": -180
    },
    "id": "O1NYqtvOnePk",
    "outputId": "a8d5c712-c86f-4d4b-828f-584b8c8a4b21"
   },
   "outputs": [],
   "source": [
    "\n",
    "for all_metric_dataframe_with_balanced_diagnose_key in all_metric_dataframe_with_balanced_diagnose.keys():\n",
    "  print(all_metric_dataframe_with_balanced_diagnose_key, all_metric_dataframe_with_balanced_diagnose[all_metric_dataframe_with_balanced_diagnose_key].isna().sum())\n"
   ]
  },
  {
   "cell_type": "code",
   "execution_count": null,
   "metadata": {
    "id": "78ym9jxTEZCm"
   },
   "outputs": [],
   "source": [
    "all_metric_dataframe_with_balanced_diagnose_copy_keys = copy.deepcopy(list(all_metric_dataframe_with_balanced_diagnose.keys()))\n",
    "\n",
    "for all_metric_dataframe_with_balanced_diagnose_copy_key in all_metric_dataframe_with_balanced_diagnose_copy_keys:\n",
    "\n",
    "  df_columns = copy.deepcopy(list(all_metric_dataframe_with_balanced_diagnose[all_metric_dataframe_with_balanced_diagnose_copy_key].columns))\n",
    "\n",
    "  for df_column in df_columns:\n",
    "    if df_column not in ['source_file' , 'Seconds' , 'Diagnose' , 'is_augmented']:\n",
    "      all_metric_dataframe_with_balanced_diagnose[all_metric_dataframe_with_balanced_diagnose_copy_key][df_column] = all_metric_dataframe_with_balanced_diagnose[all_metric_dataframe_with_balanced_diagnose_copy_key][df_column].apply(lambda x: get_formatted_values(x)).astype(np.float64)\n"
   ]
  },
  {
   "cell_type": "code",
   "execution_count": null,
   "metadata": {
    "colab": {
     "base_uri": "https://localhost:8080/"
    },
    "executionInfo": {
     "elapsed": 9606,
     "status": "ok",
     "timestamp": 1737425473768,
     "user": {
      "displayName": "İbrahim Furkan",
      "userId": "03214658540359897285"
     },
     "user_tz": -180
    },
    "id": "VoNJTaUOLlXE",
    "outputId": "c3e16fb8-95a5-48de-9345-6cc2aa5b1d52"
   },
   "outputs": [],
   "source": [
    "significant_columns_infos = get_significant_columns_in_dataset_by_t_test(all_metric_dataframe_with_balanced_diagnose, only_orignial_data=True)\n",
    "\n",
    "for significant_columns_infos_key in significant_columns_infos.keys():\n",
    "  print(significant_columns_infos_key, len(significant_columns_infos[significant_columns_infos_key]))\n"
   ]
  },
  {
   "cell_type": "code",
   "execution_count": null,
   "metadata": {
    "colab": {
     "base_uri": "https://localhost:8080/"
    },
    "executionInfo": {
     "elapsed": 263,
     "status": "ok",
     "timestamp": 1737426123358,
     "user": {
      "displayName": "İbrahim Furkan",
      "userId": "03214658540359897285"
     },
     "user_tz": -180
    },
    "id": "qVD0JW66LlXE",
    "outputId": "b1be8243-295d-43e1-8d47-83ccba2b9088"
   },
   "outputs": [],
   "source": [
    "\n",
    "all_metric_dataframe_with_na_droped_and_significant_features_infos = get_dataset_with_significant_columns_by_t_test(significant_columns_infos, all_metric_dataframe_with_balanced_diagnose)\n",
    "\n",
    "for all_metric_dataframe_with_na_droped_and_significant_features_infos_key in all_metric_dataframe_with_na_droped_and_significant_features_infos.keys():\n",
    "  print(all_metric_dataframe_with_na_droped_and_significant_features_infos_key, all_metric_dataframe_with_na_droped_and_significant_features_infos[all_metric_dataframe_with_na_droped_and_significant_features_infos_key].shape)\n"
   ]
  },
  {
   "cell_type": "code",
   "execution_count": null,
   "metadata": {
    "colab": {
     "base_uri": "https://localhost:8080/"
    },
    "executionInfo": {
     "elapsed": 346,
     "status": "ok",
     "timestamp": 1737426126875,
     "user": {
      "displayName": "İbrahim Furkan",
      "userId": "03214658540359897285"
     },
     "user_tz": -180
    },
    "id": "2iQp9M8GAeO4",
    "outputId": "ee2f3591-26ba-4a19-f733-97acaa99b0c2"
   },
   "outputs": [],
   "source": [
    "\n",
    "for all_metric_dataframe_with_na_droped_and_significant_features_infos_key in all_metric_dataframe_with_na_droped_and_significant_features_infos.keys():\n",
    "  print(all_metric_dataframe_with_na_droped_and_significant_features_infos_key, all_metric_dataframe_with_na_droped_and_significant_features_infos[all_metric_dataframe_with_na_droped_and_significant_features_infos_key].isna().sum())\n"
   ]
  },
  {
   "cell_type": "code",
   "execution_count": null,
   "metadata": {
    "colab": {
     "base_uri": "https://localhost:8080/",
     "height": 611
    },
    "executionInfo": {
     "elapsed": 26785,
     "status": "ok",
     "timestamp": 1737426158002,
     "user": {
      "displayName": "İbrahim Furkan",
      "userId": "03214658540359897285"
     },
     "user_tz": -180
    },
    "id": "pwU41ZEPLlXE",
    "outputId": "1f7dd189-e941-468f-a65b-3e9ccae50ce1"
   },
   "outputs": [],
   "source": [
    "\n",
    "display_correlation_coefficient_matrix(all_metric_dataframe_with_na_droped_and_significant_features_infos)\n"
   ]
  },
  {
   "cell_type": "code",
   "execution_count": null,
   "metadata": {
    "colab": {
     "base_uri": "https://localhost:8080/"
    },
    "executionInfo": {
     "elapsed": 5396,
     "status": "ok",
     "timestamp": 1737426163393,
     "user": {
      "displayName": "İbrahim Furkan",
      "userId": "03214658540359897285"
     },
     "user_tz": -180
    },
    "id": "OAZvLhgcLlXE",
    "outputId": "6b7421ed-789f-46d4-b16e-2efc61747003"
   },
   "outputs": [],
   "source": [
    "\n",
    "export_dataset_as_csv(all_metric_dataframe_with_na_droped_and_significant_features_infos)\n"
   ]
  },
  {
   "cell_type": "code",
   "execution_count": null,
   "metadata": {
    "id": "3KTxGhzvO-kP"
   },
   "outputs": [],
   "source": []
  }
 ],
 "metadata": {
  "colab": {
   "collapsed_sections": [
    "d3UnomIjK-6f",
    "x7YsW-aj9yrB",
    "lm8X65GVLlXA"
   ],
   "provenance": []
  },
  "kernelspec": {
   "display_name": "Python 3 (ipykernel)",
   "language": "python",
   "name": "python3"
  },
  "language_info": {
   "codemirror_mode": {
    "name": "ipython",
    "version": 3
   },
   "file_extension": ".py",
   "mimetype": "text/x-python",
   "name": "python",
   "nbconvert_exporter": "python",
   "pygments_lexer": "ipython3",
   "version": "3.9.13"
  },
  "varInspector": {
   "cols": {
    "lenName": 16,
    "lenType": 16,
    "lenVar": 40
   },
   "kernels_config": {
    "python": {
     "delete_cmd_postfix": "",
     "delete_cmd_prefix": "del ",
     "library": "var_list.py",
     "varRefreshCmd": "print(var_dic_list())"
    },
    "r": {
     "delete_cmd_postfix": ") ",
     "delete_cmd_prefix": "rm(",
     "library": "var_list.r",
     "varRefreshCmd": "cat(var_dic_list()) "
    }
   },
   "types_to_exclude": [
    "module",
    "function",
    "builtin_function_or_method",
    "instance",
    "_Feature"
   ],
   "window_display": false
  }
 },
 "nbformat": 4,
 "nbformat_minor": 1
}
