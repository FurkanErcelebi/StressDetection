{
 "cells": [
  {
   "cell_type": "code",
   "execution_count": null,
   "metadata": {
    "colab": {
     "base_uri": "https://localhost:8080/"
    },
    "executionInfo": {
     "elapsed": 16594,
     "status": "ok",
     "timestamp": 1737533023867,
     "user": {
      "displayName": "İbrahim Furkan",
      "userId": "03214658540359897285"
     },
     "user_tz": -180
    },
    "id": "7TEfHHr_eq_h",
    "outputId": "c3d0988f-b93a-4619-a60c-6c332ad80344"
   },
   "outputs": [],
   "source": [
    "!pip install neurokit2 heartpy python-dotenv"
   ]
  },
  {
   "cell_type": "code",
   "execution_count": null,
   "metadata": {
    "colab": {
     "base_uri": "https://localhost:8080/"
    },
    "executionInfo": {
     "elapsed": 112457,
     "status": "ok",
     "timestamp": 1737533136315,
     "user": {
      "displayName": "İbrahim Furkan",
      "userId": "03214658540359897285"
     },
     "user_tz": -180
    },
    "id": "MF0d570Ln3in",
    "outputId": "710cbaa9-8b85-40be-9e8b-3ff0173306ac"
   },
   "outputs": [],
   "source": [
    "!pip install --upgrade tensorflow"
   ]
  },
  {
   "cell_type": "code",
   "execution_count": null,
   "metadata": {
    "colab": {
     "base_uri": "https://localhost:8080/"
    },
    "executionInfo": {
     "elapsed": 7989,
     "status": "ok",
     "timestamp": 1737535353906,
     "user": {
      "displayName": "İbrahim Furkan",
      "userId": "03214658540359897285"
     },
     "user_tz": -180
    },
    "id": "vt-SVxYC1U1b",
    "outputId": "5ff07a93-b0ad-477c-fac0-51c62fb1755b"
   },
   "outputs": [],
   "source": [
    "import numpy as np # linear algebra\n",
    "import pandas as pd # data processing, CSV file I/O (e.g. pd.read_csv)\n",
    "import os\n",
    "import random\n",
    "import seaborn as sns\n",
    "import heartpy as hp\n",
    "import neurokit2 as nk\n",
    "import matplotlib.pyplot as plt\n",
    "import time\n",
    "import dotenv\n",
    "import gspread\n",
    "import copy\n",
    "\n",
    "import sys\n",
    "from google.auth import default\n",
    "from google.colab import auth, drive\n",
    "from scipy import stats\n",
    "from collections import Counter\n",
    "\n",
    "\n",
    "import warnings\n",
    "warnings.simplefilter('ignore')\n",
    "\n",
    "from tqdm import tqdm\n",
    "from tqdm.notebook import tqdm\n",
    "\n",
    "tqdm.pandas()\n",
    "\n",
    "drive.mount('/content/drive', force_remount=True)\n",
    "\n",
    "dotenv.load_dotenv('/content/drive/MyDrive/.env')\n",
    "\n",
    "DELETE_FEATURE_SAMPLE = True\n",
    "DATASET_PROCEDURES = [\"DP_1\", \"DP_2\"]\n",
    "AUGMENTATION_SAMPLE_AMOUNT_BY_PROCEDURE = {\"AP_2\": 1, \"AP_3\": 1, \"AP_5\" : 9, \"AP_6\": 11, \"AP_7\": 11, \"AP_8\": 22, \"AP_9\": 22}\n",
    "AUGMENTATION_PROCEDURES = AUGMENTATION_SAMPLE_AMOUNT_BY_PROCEDURE.keys()\n",
    "MAIN_PATH = os.environ.get('MAIN_EXP_PATH')\n",
    "MAIN_PROCESSED_PATH = f\"{MAIN_PATH}(Processed)\"\n",
    "\n",
    "\n"
   ]
  },
  {
   "cell_type": "code",
   "execution_count": null,
   "metadata": {
    "executionInfo": {
     "elapsed": 4,
     "status": "ok",
     "timestamp": 1737533177295,
     "user": {
      "displayName": "İbrahim Furkan",
      "userId": "03214658540359897285"
     },
     "user_tz": -180
    },
    "id": "NhefU-8wnkUi"
   },
   "outputs": [],
   "source": [
    "util_script_path = os.environ.get('UTIL_SCRIPT_PATH')\n",
    "if util_script_path is not None:\n",
    "  sys.path.insert(0, util_script_path)\n",
    "else:\n",
    "  print(\"Warning: UTIL_SCRIPT_PATH environment variable is not set.\")"
   ]
  },
  {
   "cell_type": "code",
   "execution_count": null,
   "metadata": {
    "executionInfo": {
     "elapsed": 2341,
     "status": "ok",
     "timestamp": 1737533179633,
     "user": {
      "displayName": "İbrahim Furkan",
      "userId": "03214658540359897285"
     },
     "user_tz": -180
    },
    "id": "My42JYh304Tb"
   },
   "outputs": [],
   "source": [
    "from analyze_and_transform_datasets import list_files_scandir, \\\n",
    "                                          get_formatted_values, \\\n",
    "                                          format_time_str, \\\n",
    "                                          get_sample_path, \\\n",
    "                                          read_datas_from_csv, \\\n",
    "                                          get_labels_df, \\\n",
    "                                          write_features_in_csv, \\\n",
    "                                          get_signal_metrics"
   ]
  },
  {
   "cell_type": "code",
   "execution_count": null,
   "metadata": {
    "colab": {
     "base_uri": "https://localhost:8080/"
    },
    "executionInfo": {
     "elapsed": 1234,
     "status": "ok",
     "timestamp": 1737535384222,
     "user": {
      "displayName": "İbrahim Furkan",
      "userId": "03214658540359897285"
     },
     "user_tz": -180
    },
    "id": "zCmQp7jr2X4R",
    "outputId": "de78e413-0ef8-41b9-a737-55387ad7df93"
   },
   "outputs": [],
   "source": [
    "\n",
    "all_data_infos = {}\n",
    "all_data_list = []\n",
    "allowed_files = []\n",
    "if 'AP_1' in AUGMENTATION_PROCEDURES:\n",
    "  allowed_files.append('BVP.csv')\n",
    "for PROCEDURE_NAME in AUGMENTATION_PROCEDURES:\n",
    "  for idx in range(AUGMENTATION_SAMPLE_AMOUNT_BY_PROCEDURE[PROCEDURE_NAME]):\n",
    "    allowed_files.append(f'Aug-{PROCEDURE_NAME}-{(idx + 1)}_BVP.csv')\n",
    "\n",
    "for DATASET_PROCEDURE in DATASET_PROCEDURES:\n",
    "  all_data_list = []\n",
    "  list_files_scandir(allowed_files, all_data_list, f'{MAIN_PROCESSED_PATH} {DATASET_PROCEDURE}', MAIN_PATH, True)\n",
    "  print(f'Number of files will be used in procedure {DATASET_PROCEDURE}: {len(all_data_list)}')\n",
    "  all_data_infos[DATASET_PROCEDURE] = all_data_list\n"
   ]
  },
  {
   "cell_type": "markdown",
   "metadata": {
    "id": "d3UnomIjK-6f"
   },
   "source": [
    "### Extracting Physiological Metrics"
   ]
  },
  {
   "cell_type": "markdown",
   "metadata": {
    "id": "TdVJLLweUBNS"
   },
   "source": [
    "#### - Blood Volume Pulse(BVP)"
   ]
  },
  {
   "cell_type": "code",
   "execution_count": null,
   "metadata": {
    "id": "evRS6S1ZxwLs"
   },
   "outputs": [],
   "source": [
    "random_procedure = random.sample(DATASET_PROCEDURES, 1)[0]\n",
    "random_samples = random.sample(all_data_infos[random_procedure], 3)\n"
   ]
  },
  {
   "cell_type": "code",
   "execution_count": null,
   "metadata": {
    "colab": {
     "base_uri": "https://localhost:8080/",
     "height": 255
    },
    "executionInfo": {
     "elapsed": 552,
     "status": "ok",
     "timestamp": 1737051180876,
     "user": {
      "displayName": "İbrahim Furkan",
      "userId": "03214658540359897285"
     },
     "user_tz": -180
    },
    "id": "88vJQMnYib9I",
    "outputId": "b2b48925-ba9c-4a41-bbb2-754563a08d60"
   },
   "outputs": [],
   "source": [
    "\n",
    "sample_path = MAIN_PROCESSED_PATH + ' ' + random_procedure + '/' + random_samples[0]['diagnose_result']\n",
    "sample_path += '/' + random_samples[0]['sample_name']\n",
    "sample_path += '/' + random_samples[0]['game_name']\n",
    "sample_path += '/' + random_samples[0]['file_name']\n",
    "\n",
    "print(f'Read from : {sample_path}')\n",
    "df = pd.read_csv(sample_path)\n",
    "df['time'] = pd.to_datetime(df['time'].apply(format_time_str), unit='s')\n",
    "df = df.sort_values(by=['time'])\n",
    "df.index_col = 'time'\n",
    "df.index = df['time']\n",
    "df.head()"
   ]
  },
  {
   "cell_type": "code",
   "execution_count": null,
   "metadata": {
    "colab": {
     "base_uri": "https://localhost:8080/"
    },
    "executionInfo": {
     "elapsed": 409,
     "status": "ok",
     "timestamp": 1736322821501,
     "user": {
      "displayName": "İbrahim Furkan",
      "userId": "03214658540359897285"
     },
     "user_tz": -180
    },
    "id": "zoM8JgbHT14w",
    "outputId": "b7c45529-b579-4ed6-af23-f4956ee1ac23"
   },
   "outputs": [],
   "source": [
    "\n",
    "df_values = df.loc[df.index.values[0]: (df.index.values[0]+ np.timedelta64(10, 's')), 'values']\n",
    "if len(df_values) > 0:\n",
    "  df_scaled_values = (df_values - np.min(df_values)) / (np.max(df_values) - np.min(df_values))\n",
    "  working_data, measures = hp.process(df_scaled_values.values, 64, report_time=True)\n",
    "  working_data, measures = hp.analysis.calc_fd_measures(measures = measures, working_data = working_data)\n",
    "  for working_dt in working_data.keys():\n",
    "    #UnivariateSpline\n",
    "    if working_dt not in [\"hr\", \"rolling_mean\", \"breathing_signal\", \"breathing_psd\", \"breathing_freq\"]:\n",
    "      print(f'{working_dt} : {working_data[working_dt]}')\n",
    "  print(\"=====================================\")\n",
    "  for measure in measures.keys():\n",
    "    print(f'{measure} : {measures[measure]}')\n"
   ]
  },
  {
   "cell_type": "code",
   "execution_count": null,
   "metadata": {
    "id": "YOyPKYqQkC4z"
   },
   "outputs": [],
   "source": [
    "\n",
    "df_copy = df.copy()"
   ]
  },
  {
   "cell_type": "code",
   "execution_count": null,
   "metadata": {
    "executionInfo": {
     "elapsed": 237,
     "status": "ok",
     "timestamp": 1737533538916,
     "user": {
      "displayName": "İbrahim Furkan",
      "userId": "03214658540359897285"
     },
     "user_tz": -180
    },
    "id": "7GdmvtWVGjId"
   },
   "outputs": [],
   "source": [
    "hrv_measures = [\n",
    "'bpm',\n",
    "'ibi',\n",
    "'sdnn',\n",
    "'sdsd',\n",
    "'rmssd',\n",
    "'pnn20',\n",
    "'pnn50',\n",
    "'hr_mad',\n",
    "'sd1',\n",
    "'sd2',\n",
    "'s',\n",
    "'sd1/sd2',\n",
    "'breathingrate',\n",
    "'vlf',\n",
    "'lf',\n",
    "'hf',\n",
    "'lf/hf',\n",
    "'p_total',\n",
    "'vlf_perc',\n",
    "'lf_perc',\n",
    "'hf_perc',\n",
    "'lf_nu',\n",
    "'hf_nu']\n",
    "\n",
    "statistic_measures = [\n",
    "    'BVP_zero_cross', 'BVP_positive_peak', 'BVP_negative_peak'\n",
    "]"
   ]
  },
  {
   "cell_type": "code",
   "execution_count": null,
   "metadata": {
    "executionInfo": {
     "elapsed": 210,
     "status": "ok",
     "timestamp": 1737533539967,
     "user": {
      "displayName": "İbrahim Furkan",
      "userId": "03214658540359897285"
     },
     "user_tz": -180
    },
    "id": "AxKhLXIycHPB"
   },
   "outputs": [],
   "source": [
    "def get_hrv_metrics(sample_bvp_df, sampling_rate):\n",
    "\n",
    "  hrv_infos = {}\n",
    "\n",
    "  for hrv_measure in hrv_measures:\n",
    "    hrv_infos[hrv_measure] = np.nan\n",
    "\n",
    "  is_hrv_not_calculated = False\n",
    "  try:\n",
    "    working_data, measures = hp.process(sample_bvp_df.values, sampling_rate)\n",
    "    working_data, measures = hp.analysis.calc_fd_measures(measures = measures, working_data = working_data)\n",
    "    for measure in measures.keys():\n",
    "      hrv_infos[measure] = measures[measure]\n",
    "  except Exception as e:\n",
    "    print(e)\n",
    "    print(\"hp cannot calculted...\")\n",
    "    is_hrv_not_calculated = True\n",
    "\n",
    "  # print('is_hrv_not_calculated', is_hrv_not_calculated)\n",
    "  if is_hrv_not_calculated:\n",
    "    try:\n",
    "      df_scaled_values = (sample_bvp_df - np.min(sample_bvp_df)) / (np.max(sample_bvp_df) - np.min(sample_bvp_df))\n",
    "      working_data, measures = hp.process(df_scaled_values.values, sampling_rate)\n",
    "      working_data, measures = hp.analysis.calc_fd_measures(measures = measures, working_data = working_data)\n",
    "      for measure in measures.keys():\n",
    "        hrv_infos[measure] = measures[measure]\n",
    "    except Exception as e:\n",
    "      print(e)\n",
    "      print(\"hp cannot calculted in scaled...\")\n",
    "\n",
    "\n",
    "  return hrv_infos\n",
    "\n"
   ]
  },
  {
   "cell_type": "code",
   "execution_count": null,
   "metadata": {
    "colab": {
     "base_uri": "https://localhost:8080/"
    },
    "executionInfo": {
     "elapsed": 279,
     "status": "ok",
     "timestamp": 1737051196051,
     "user": {
      "displayName": "İbrahim Furkan",
      "userId": "03214658540359897285"
     },
     "user_tz": -180
    },
    "id": "kAV6eZa_c9Jv",
    "outputId": "4bffb438-1f67-4902-9cfa-56e12fd52ad6"
   },
   "outputs": [],
   "source": [
    "get_hrv_metrics(df_copy['values'], 64)"
   ]
  },
  {
   "cell_type": "code",
   "execution_count": null,
   "metadata": {
    "executionInfo": {
     "elapsed": 228,
     "status": "ok",
     "timestamp": 1737533542410,
     "user": {
      "displayName": "İbrahim Furkan",
      "userId": "03214658540359897285"
     },
     "user_tz": -180
    },
    "id": "7yyxKmY0oHkc"
   },
   "outputs": [],
   "source": [
    "def get_bvp_metrics(df_values, sampling_rate):\n",
    "\n",
    "  statistic_values = {statistic_measure: np.nan for statistic_measure in statistic_measures}\n",
    "\n",
    "  hrv_metrics = get_hrv_metrics(df_values, sampling_rate)\n",
    "\n",
    "  time.sleep(0.25)\n",
    "  for hrv_measure in hrv_measures:\n",
    "    statistic_values[hrv_measure] = hrv_metrics[hrv_measure]\n",
    "\n",
    "  df_values_array = df_values.values\n",
    "  try:\n",
    "    zero_crossings = nk.signal_zerocrossings(df_values)\n",
    "    statistic_values['BVP_zero_cross'] = len(zero_crossings)\n",
    "  except Exception as e:\n",
    "    print(e)\n",
    "    print(\"BVP zero crossings cannot calculated\")\n",
    "\n",
    "  try:\n",
    "    positive_peaks = nk.signal_findpeaks(df_values)\n",
    "    statistic_values['BVP_positive_peak'] = len(positive_peaks[\"Peaks\"])\n",
    "  except Exception as e:\n",
    "    print(e)\n",
    "    print(\"BVP positive peaks cannot calculated\")\n",
    "\n",
    "  try:\n",
    "    negative_peaks = nk.signal_findpeaks(-df_values)\n",
    "    statistic_values['BVP_negative_peak'] = len(negative_peaks[\"Peaks\"])\n",
    "  except Exception as e:\n",
    "    print(e)\n",
    "    print(\"BVP negative peaks cannot calculated\")\n",
    "\n",
    "  return statistic_values\n"
   ]
  },
  {
   "cell_type": "code",
   "execution_count": null,
   "metadata": {
    "colab": {
     "base_uri": "https://localhost:8080/"
    },
    "executionInfo": {
     "elapsed": 1103,
     "status": "ok",
     "timestamp": 1737051685007,
     "user": {
      "displayName": "İbrahim Furkan",
      "userId": "03214658540359897285"
     },
     "user_tz": -180
    },
    "id": "b9vPOO2__IEy",
    "outputId": "6e33868e-9ea6-4f2a-bc20-6d59b844cecc"
   },
   "outputs": [],
   "source": [
    "get_bvp_metrics(df_copy['values'], 64)"
   ]
  },
  {
   "cell_type": "code",
   "execution_count": null,
   "metadata": {
    "executionInfo": {
     "elapsed": 335,
     "status": "ok",
     "timestamp": 1737533548145,
     "user": {
      "displayName": "İbrahim Furkan",
      "userId": "03214658540359897285"
     },
     "user_tz": -180
    },
    "id": "hPHAigMwBFlp"
   },
   "outputs": [],
   "source": [
    "all_bvp_measures = copy.deepcopy(statistic_measures)\n",
    "hrv_measures_copy = copy.deepcopy(hrv_measures)\n",
    "hrv_measures_copy = [ hrv_measure_copy.upper().replace(\"/\", \"\").replace(\"İ\", \"I\") for hrv_measure_copy in hrv_measures_copy]\n",
    "all_bvp_measures.extend(hrv_measures_copy)"
   ]
  },
  {
   "cell_type": "code",
   "execution_count": null,
   "metadata": {
    "colab": {
     "base_uri": "https://localhost:8080/",
     "height": 1000
    },
    "executionInfo": {
     "elapsed": 7895,
     "status": "ok",
     "timestamp": 1737051629395,
     "user": {
      "displayName": "İbrahim Furkan",
      "userId": "03214658540359897285"
     },
     "user_tz": -180
    },
    "id": "AP9yex03MDT-",
    "outputId": "42e5047e-401d-4300-a736-625343df09de"
   },
   "outputs": [],
   "source": [
    "# get_bvp_metrics(df_copy, 10, 'BVP')\n",
    "get_signal_metrics(df_copy, 10, 'BVP', [], special_features=all_bvp_measures, get_special_metrics_callback=get_bvp_metrics, sampling_rate=64)"
   ]
  },
  {
   "cell_type": "code",
   "execution_count": null,
   "metadata": {
    "colab": {
     "base_uri": "https://localhost:8080/",
     "height": 599,
     "referenced_widgets": [
      "c215d37f347442679b8d0cc207414b07",
      "0f8fdff523824742827218e3a15978ba",
      "f0dc5dcd12644450819c03b148a2f0ac",
      "b55f3b5b91de43929d17a9665f108758",
      "f4b0eb05d5ec41c1956a026225456a1a",
      "d1ec5b12ceea4afe8374a16ec75c803b",
      "82505730fc064116aadf927a9779ebae",
      "9c6dfb43958741cd8d74117422c84e3f",
      "908efadbbba4417b8be8727644d4d41f",
      "e724e034706145889677a1849c8d6ef4",
      "d475241ccb264fb89072de02a87dd7fb"
     ]
    },
    "executionInfo": {
     "elapsed": 103214,
     "status": "error",
     "timestamp": 1737535499217,
     "user": {
      "displayName": "İbrahim Furkan",
      "userId": "03214658540359897285"
     },
     "user_tz": -180
    },
    "id": "DTyT8QZVX9Rh",
    "outputId": "d0f41489-2408-4b2e-f614-17a105ff1b34"
   },
   "outputs": [],
   "source": [
    "\n",
    "for DATASET_PROCEDURE in DATASET_PROCEDURES:\n",
    "  for BVP_idx in tqdm(range(len(all_data_infos[DATASET_PROCEDURE])), desc=f'Feature extraction for {DATASET_PROCEDURE} dataset procedure'):\n",
    "    BVP_file = all_data_infos[DATASET_PROCEDURE][BVP_idx]\n",
    "    raw_dataframe = read_datas_from_csv(BVP_file, DATASET_PROCEDURE, MAIN_PROCESSED_PATH)\n",
    "    for interval_value in [10, 30, 50, 70]:\n",
    "      if interval_value == 10:\n",
    "        write_features_in_csv(BVP_file, raw_dataframe, interval_value, DATASET_PROCEDURE, 'BVP', MAIN_PROCESSED_PATH, DELETE_FEATURE_SAMPLE, special_features=all_bvp_measures, get_special_metrics_callback=get_bvp_metrics, sampling_rate=64)\n"
   ]
  },
  {
   "cell_type": "code",
   "execution_count": null,
   "metadata": {
    "id": "5eOWvIkAeRau"
   },
   "outputs": [],
   "source": []
  }
 ],
 "metadata": {
  "colab": {
   "provenance": []
  },
  "kernelspec": {
   "display_name": "Python 3 (ipykernel)",
   "language": "python",
   "name": "python3"
  },
  "language_info": {
   "codemirror_mode": {
    "name": "ipython",
    "version": 3
   },
   "file_extension": ".py",
   "mimetype": "text/x-python",
   "name": "python",
   "nbconvert_exporter": "python",
   "pygments_lexer": "ipython3",
   "version": "3.9.13"
  },
  "varInspector": {
   "cols": {
    "lenName": 16,
    "lenType": 16,
    "lenVar": 40
   },
   "kernels_config": {
    "python": {
     "delete_cmd_postfix": "",
     "delete_cmd_prefix": "del ",
     "library": "var_list.py",
     "varRefreshCmd": "print(var_dic_list())"
    },
    "r": {
     "delete_cmd_postfix": ") ",
     "delete_cmd_prefix": "rm(",
     "library": "var_list.r",
     "varRefreshCmd": "cat(var_dic_list()) "
    }
   },
   "types_to_exclude": [
    "module",
    "function",
    "builtin_function_or_method",
    "instance",
    "_Feature"
   ],
   "window_display": false
  },
  "widgets": {
   "application/vnd.jupyter.widget-state+json": {
    "0f8fdff523824742827218e3a15978ba": {
     "model_module": "@jupyter-widgets/controls",
     "model_module_version": "1.5.0",
     "model_name": "HTMLModel",
     "state": {
      "_dom_classes": [],
      "_model_module": "@jupyter-widgets/controls",
      "_model_module_version": "1.5.0",
      "_model_name": "HTMLModel",
      "_view_count": null,
      "_view_module": "@jupyter-widgets/controls",
      "_view_module_version": "1.5.0",
      "_view_name": "HTMLView",
      "description": "",
      "description_tooltip": null,
      "layout": "IPY_MODEL_d1ec5b12ceea4afe8374a16ec75c803b",
      "placeholder": "​",
      "style": "IPY_MODEL_82505730fc064116aadf927a9779ebae",
      "value": "Feature extraction for DP_2 dataset procedure:   1%"
     }
    },
    "82505730fc064116aadf927a9779ebae": {
     "model_module": "@jupyter-widgets/controls",
     "model_module_version": "1.5.0",
     "model_name": "DescriptionStyleModel",
     "state": {
      "_model_module": "@jupyter-widgets/controls",
      "_model_module_version": "1.5.0",
      "_model_name": "DescriptionStyleModel",
      "_view_count": null,
      "_view_module": "@jupyter-widgets/base",
      "_view_module_version": "1.2.0",
      "_view_name": "StyleView",
      "description_width": ""
     }
    },
    "908efadbbba4417b8be8727644d4d41f": {
     "model_module": "@jupyter-widgets/controls",
     "model_module_version": "1.5.0",
     "model_name": "ProgressStyleModel",
     "state": {
      "_model_module": "@jupyter-widgets/controls",
      "_model_module_version": "1.5.0",
      "_model_name": "ProgressStyleModel",
      "_view_count": null,
      "_view_module": "@jupyter-widgets/base",
      "_view_module_version": "1.2.0",
      "_view_name": "StyleView",
      "bar_color": null,
      "description_width": ""
     }
    },
    "9c6dfb43958741cd8d74117422c84e3f": {
     "model_module": "@jupyter-widgets/base",
     "model_module_version": "1.2.0",
     "model_name": "LayoutModel",
     "state": {
      "_model_module": "@jupyter-widgets/base",
      "_model_module_version": "1.2.0",
      "_model_name": "LayoutModel",
      "_view_count": null,
      "_view_module": "@jupyter-widgets/base",
      "_view_module_version": "1.2.0",
      "_view_name": "LayoutView",
      "align_content": null,
      "align_items": null,
      "align_self": null,
      "border": null,
      "bottom": null,
      "display": null,
      "flex": null,
      "flex_flow": null,
      "grid_area": null,
      "grid_auto_columns": null,
      "grid_auto_flow": null,
      "grid_auto_rows": null,
      "grid_column": null,
      "grid_gap": null,
      "grid_row": null,
      "grid_template_areas": null,
      "grid_template_columns": null,
      "grid_template_rows": null,
      "height": null,
      "justify_content": null,
      "justify_items": null,
      "left": null,
      "margin": null,
      "max_height": null,
      "max_width": null,
      "min_height": null,
      "min_width": null,
      "object_fit": null,
      "object_position": null,
      "order": null,
      "overflow": null,
      "overflow_x": null,
      "overflow_y": null,
      "padding": null,
      "right": null,
      "top": null,
      "visibility": null,
      "width": null
     }
    },
    "b55f3b5b91de43929d17a9665f108758": {
     "model_module": "@jupyter-widgets/controls",
     "model_module_version": "1.5.0",
     "model_name": "HTMLModel",
     "state": {
      "_dom_classes": [],
      "_model_module": "@jupyter-widgets/controls",
      "_model_module_version": "1.5.0",
      "_model_name": "HTMLModel",
      "_view_count": null,
      "_view_module": "@jupyter-widgets/controls",
      "_view_module_version": "1.5.0",
      "_view_name": "HTMLView",
      "description": "",
      "description_tooltip": null,
      "layout": "IPY_MODEL_e724e034706145889677a1849c8d6ef4",
      "placeholder": "​",
      "style": "IPY_MODEL_d475241ccb264fb89072de02a87dd7fb",
      "value": " 7/504 [01:42&lt;1:47:12, 12.94s/it]"
     }
    },
    "c215d37f347442679b8d0cc207414b07": {
     "model_module": "@jupyter-widgets/controls",
     "model_module_version": "1.5.0",
     "model_name": "HBoxModel",
     "state": {
      "_dom_classes": [],
      "_model_module": "@jupyter-widgets/controls",
      "_model_module_version": "1.5.0",
      "_model_name": "HBoxModel",
      "_view_count": null,
      "_view_module": "@jupyter-widgets/controls",
      "_view_module_version": "1.5.0",
      "_view_name": "HBoxView",
      "box_style": "",
      "children": [
       "IPY_MODEL_0f8fdff523824742827218e3a15978ba",
       "IPY_MODEL_f0dc5dcd12644450819c03b148a2f0ac",
       "IPY_MODEL_b55f3b5b91de43929d17a9665f108758"
      ],
      "layout": "IPY_MODEL_f4b0eb05d5ec41c1956a026225456a1a"
     }
    },
    "d1ec5b12ceea4afe8374a16ec75c803b": {
     "model_module": "@jupyter-widgets/base",
     "model_module_version": "1.2.0",
     "model_name": "LayoutModel",
     "state": {
      "_model_module": "@jupyter-widgets/base",
      "_model_module_version": "1.2.0",
      "_model_name": "LayoutModel",
      "_view_count": null,
      "_view_module": "@jupyter-widgets/base",
      "_view_module_version": "1.2.0",
      "_view_name": "LayoutView",
      "align_content": null,
      "align_items": null,
      "align_self": null,
      "border": null,
      "bottom": null,
      "display": null,
      "flex": null,
      "flex_flow": null,
      "grid_area": null,
      "grid_auto_columns": null,
      "grid_auto_flow": null,
      "grid_auto_rows": null,
      "grid_column": null,
      "grid_gap": null,
      "grid_row": null,
      "grid_template_areas": null,
      "grid_template_columns": null,
      "grid_template_rows": null,
      "height": null,
      "justify_content": null,
      "justify_items": null,
      "left": null,
      "margin": null,
      "max_height": null,
      "max_width": null,
      "min_height": null,
      "min_width": null,
      "object_fit": null,
      "object_position": null,
      "order": null,
      "overflow": null,
      "overflow_x": null,
      "overflow_y": null,
      "padding": null,
      "right": null,
      "top": null,
      "visibility": null,
      "width": null
     }
    },
    "d475241ccb264fb89072de02a87dd7fb": {
     "model_module": "@jupyter-widgets/controls",
     "model_module_version": "1.5.0",
     "model_name": "DescriptionStyleModel",
     "state": {
      "_model_module": "@jupyter-widgets/controls",
      "_model_module_version": "1.5.0",
      "_model_name": "DescriptionStyleModel",
      "_view_count": null,
      "_view_module": "@jupyter-widgets/base",
      "_view_module_version": "1.2.0",
      "_view_name": "StyleView",
      "description_width": ""
     }
    },
    "e724e034706145889677a1849c8d6ef4": {
     "model_module": "@jupyter-widgets/base",
     "model_module_version": "1.2.0",
     "model_name": "LayoutModel",
     "state": {
      "_model_module": "@jupyter-widgets/base",
      "_model_module_version": "1.2.0",
      "_model_name": "LayoutModel",
      "_view_count": null,
      "_view_module": "@jupyter-widgets/base",
      "_view_module_version": "1.2.0",
      "_view_name": "LayoutView",
      "align_content": null,
      "align_items": null,
      "align_self": null,
      "border": null,
      "bottom": null,
      "display": null,
      "flex": null,
      "flex_flow": null,
      "grid_area": null,
      "grid_auto_columns": null,
      "grid_auto_flow": null,
      "grid_auto_rows": null,
      "grid_column": null,
      "grid_gap": null,
      "grid_row": null,
      "grid_template_areas": null,
      "grid_template_columns": null,
      "grid_template_rows": null,
      "height": null,
      "justify_content": null,
      "justify_items": null,
      "left": null,
      "margin": null,
      "max_height": null,
      "max_width": null,
      "min_height": null,
      "min_width": null,
      "object_fit": null,
      "object_position": null,
      "order": null,
      "overflow": null,
      "overflow_x": null,
      "overflow_y": null,
      "padding": null,
      "right": null,
      "top": null,
      "visibility": null,
      "width": null
     }
    },
    "f0dc5dcd12644450819c03b148a2f0ac": {
     "model_module": "@jupyter-widgets/controls",
     "model_module_version": "1.5.0",
     "model_name": "FloatProgressModel",
     "state": {
      "_dom_classes": [],
      "_model_module": "@jupyter-widgets/controls",
      "_model_module_version": "1.5.0",
      "_model_name": "FloatProgressModel",
      "_view_count": null,
      "_view_module": "@jupyter-widgets/controls",
      "_view_module_version": "1.5.0",
      "_view_name": "ProgressView",
      "bar_style": "danger",
      "description": "",
      "description_tooltip": null,
      "layout": "IPY_MODEL_9c6dfb43958741cd8d74117422c84e3f",
      "max": 504,
      "min": 0,
      "orientation": "horizontal",
      "style": "IPY_MODEL_908efadbbba4417b8be8727644d4d41f",
      "value": 7
     }
    },
    "f4b0eb05d5ec41c1956a026225456a1a": {
     "model_module": "@jupyter-widgets/base",
     "model_module_version": "1.2.0",
     "model_name": "LayoutModel",
     "state": {
      "_model_module": "@jupyter-widgets/base",
      "_model_module_version": "1.2.0",
      "_model_name": "LayoutModel",
      "_view_count": null,
      "_view_module": "@jupyter-widgets/base",
      "_view_module_version": "1.2.0",
      "_view_name": "LayoutView",
      "align_content": null,
      "align_items": null,
      "align_self": null,
      "border": null,
      "bottom": null,
      "display": null,
      "flex": null,
      "flex_flow": null,
      "grid_area": null,
      "grid_auto_columns": null,
      "grid_auto_flow": null,
      "grid_auto_rows": null,
      "grid_column": null,
      "grid_gap": null,
      "grid_row": null,
      "grid_template_areas": null,
      "grid_template_columns": null,
      "grid_template_rows": null,
      "height": null,
      "justify_content": null,
      "justify_items": null,
      "left": null,
      "margin": null,
      "max_height": null,
      "max_width": null,
      "min_height": null,
      "min_width": null,
      "object_fit": null,
      "object_position": null,
      "order": null,
      "overflow": null,
      "overflow_x": null,
      "overflow_y": null,
      "padding": null,
      "right": null,
      "top": null,
      "visibility": null,
      "width": null
     }
    }
   }
  }
 },
 "nbformat": 4,
 "nbformat_minor": 1
}
