{
 "cells": [
  {
   "cell_type": "code",
   "execution_count": null,
   "metadata": {
    "colab": {
     "base_uri": "https://localhost:8080/"
    },
    "executionInfo": {
     "elapsed": 3653,
     "status": "ok",
     "timestamp": 1735486509318,
     "user": {
      "displayName": "İbrahim Furkan",
      "userId": "03214658540359897285"
     },
     "user_tz": -180
    },
    "id": "7TEfHHr_eq_h",
    "outputId": "891788f7-5f48-4ab0-aee7-85d49db6f9ec"
   },
   "outputs": [],
   "source": [
    "!pip install neurokit2 python-dotenv"
   ]
  },
  {
   "cell_type": "code",
   "execution_count": null,
   "metadata": {
    "colab": {
     "base_uri": "https://localhost:8080/"
    },
    "executionInfo": {
     "elapsed": 31001,
     "status": "ok",
     "timestamp": 1735486540311,
     "user": {
      "displayName": "İbrahim Furkan",
      "userId": "03214658540359897285"
     },
     "user_tz": -180
    },
    "id": "3ci30I094Z4O",
    "outputId": "ff40bc1b-b662-4c30-ce73-5c2835498d93"
   },
   "outputs": [],
   "source": [
    "import numpy as np # linear algebra\n",
    "import pandas as pd # data processing, CSV file I/O (e.g. pd.read_csv)\n",
    "import zipfile\n",
    "import os\n",
    "import random\n",
    "import seaborn as sns\n",
    "from scipy import stats, signal\n",
    "import neurokit2 as nk\n",
    "import shutil\n",
    "\n",
    "\n",
    "from google.colab import drive\n",
    "\n",
    "drive.mount('/content/drive', force_remount=True)\n",
    "\n",
    "dotenv.load_dotenv('/content/drive/MyDrive/.env')\n",
    "\n",
    "MAIN_PATH = os.environ.get('MAIN_EXP_PATH')\n",
    "MAIN_PROCESSED_PATH = f\"{MAIN_PATH}(Processed)\"\n",
    "DATASET_PROCEDURES = ['DP_1', 'DP_2']\n"
   ]
  },
  {
   "cell_type": "code",
   "execution_count": null,
   "metadata": {
    "colab": {
     "base_uri": "https://localhost:8080/"
    },
    "executionInfo": {
     "elapsed": 1884,
     "status": "ok",
     "timestamp": 1735486542188,
     "user": {
      "displayName": "İbrahim Furkan",
      "userId": "03214658540359897285"
     },
     "user_tz": -180
    },
    "id": "EViEZwIVHZbe",
    "outputId": "03d281c0-12e7-4263-8764-695a38fd8d83"
   },
   "outputs": [],
   "source": [
    "diagnosis_results = [item for item in os.listdir(MAIN_PATH) if not \".\" in item]\n",
    "diagnosis_results"
   ]
  },
  {
   "cell_type": "code",
   "execution_count": null,
   "metadata": {
    "colab": {
     "base_uri": "https://localhost:8080/"
    },
    "executionInfo": {
     "elapsed": 16402,
     "status": "ok",
     "timestamp": 1735486558588,
     "user": {
      "displayName": "İbrahim Furkan",
      "userId": "03214658540359897285"
     },
     "user_tz": -180
    },
    "id": "TFCQOLUdMUkM",
    "outputId": "c26e1b8f-9de1-4947-881b-6826cf831115"
   },
   "outputs": [],
   "source": [
    "# from there https://www.geeksforgeeks.org/python-list-all-files-in-directory-and-subdirectories/\n",
    "all_data_infos = []\n",
    "\n",
    "def list_files_scandir(path='.'):\n",
    "    with os.scandir(path) as entries:\n",
    "        for entry in entries:\n",
    "            if entry.is_file():\n",
    "                if entry.path.endswith(\"EDA.csv\"):\n",
    "                  sample_components = entry.path.split(MAIN_PATH)[1].split('/')\n",
    "                  all_data_infos.append({\n",
    "                      'diagnose_result': sample_components[1],\n",
    "                      'sample_name': sample_components[2],\n",
    "                      'game_name': sample_components[3],\n",
    "                  })\n",
    "            elif entry.is_dir():\n",
    "                list_files_scandir(entry.path)\n",
    "\n",
    "list_files_scandir(MAIN_PATH)\n",
    "\n",
    "print(f'Number of files will be used : {len(all_data_infos)}')"
   ]
  },
  {
   "cell_type": "markdown",
   "metadata": {
    "id": "d3UnomIjK-6f"
   },
   "source": [
    "###Physiological Metric Colleting"
   ]
  },
  {
   "cell_type": "markdown",
   "metadata": {
    "id": "TdVJLLweUBNS"
   },
   "source": [
    "####- Electrodermal Activity"
   ]
  },
  {
   "cell_type": "code",
   "execution_count": null,
   "metadata": {
    "colab": {
     "base_uri": "https://localhost:8080/"
    },
    "executionInfo": {
     "elapsed": 12,
     "status": "ok",
     "timestamp": 1735486558588,
     "user": {
      "displayName": "İbrahim Furkan",
      "userId": "03214658540359897285"
     },
     "user_tz": -180
    },
    "id": "evRS6S1ZxwLs",
    "outputId": "4a111680-e78a-4085-b3d2-2228ff7af828"
   },
   "outputs": [],
   "source": [
    "random_samples = random.sample(all_data_infos, 1)\n",
    "\n",
    "sample_path = MAIN_PATH + '/' + random_samples[0]['diagnose_result']\n",
    "sample_path += '/' + random_samples[0]['sample_name']\n",
    "sample_path += '/' + random_samples[0]['game_name']\n",
    "sample_path += '/EDA.csv'\n",
    "print(sample_path)\n",
    "df = pd.read_csv(sample_path)"
   ]
  },
  {
   "cell_type": "code",
   "execution_count": null,
   "metadata": {
    "colab": {
     "base_uri": "https://localhost:8080/",
     "height": 404
    },
    "executionInfo": {
     "elapsed": 592,
     "status": "ok",
     "timestamp": 1735486559172,
     "user": {
      "displayName": "İbrahim Furkan",
      "userId": "03214658540359897285"
     },
     "user_tz": -180
    },
    "id": "UeiRtiwJUiHO",
    "outputId": "22b3b683-4175-40a6-955a-ffcede666056"
   },
   "outputs": [],
   "source": [
    "\n",
    "## Apply Savitzky-Golay filter\n",
    "#From this site: https://github.com/hiddenslate-dev/aktives-dataset-2022/blob/main/preprocess.ipynb\n"
   ]
  },
  {
   "cell_type": "markdown",
   "metadata": {
    "id": "zO9wfTObjVB5"
   },
   "source": [
    "Apply all dataset values and show summaries"
   ]
  },
  {
   "cell_type": "code",
   "execution_count": null,
   "metadata": {
    "id": "5WPtCOOm0XX-"
   },
   "outputs": [],
   "source": [
    "min_treashold = -0.05"
   ]
  },
  {
   "cell_type": "code",
   "execution_count": null,
   "metadata": {
    "id": "u6Zqmz6v0RED"
   },
   "outputs": [],
   "source": [
    "\n",
    "def get_number_of_labels(sample_df_path):\n",
    "  experLabel_df = pd.read_csv(f'{sample_df_path}/ExpertLabels.csv')\n",
    "  number_of_labels = 0\n",
    "  for label_values in experLabel_df[['Expert1','Expert2','Expert3']].values[1:]:\n",
    "    if np.any([(label_value.__class__.__name__ == 'str') for label_value in label_values]):\n",
    "      number_of_labels += 1\n",
    "\n",
    "  return number_of_labels\n",
    "\n",
    "def get_formatted_values(bvp_value):\n",
    "  result_value = bvp_value\n",
    "  if type(bvp_value).__name__ == 'str':\n",
    "    result_value =bvp_value.replace(',','')\n",
    "  return result_value\n",
    "\n",
    "def get_eda_dataframe(data_infos):\n",
    "  sample_path = data_infos['diagnose_result'] # MAIN_PATH + '/' +\n",
    "  sample_path += '/' + data_infos['sample_name']\n",
    "  sample_path += '/' + data_infos['game_name']\n",
    "  print(f'Reading values in file {sample_path} ...')\n",
    "  df = pd.read_csv(f'{MAIN_PATH}/{sample_path}/EDA.csv')\n",
    "  df.insert(df.shape[1], 'source_file', [sample_path for _ in range(df.shape[0])])\n",
    "  if 'EDA' in df.columns:\n",
    "    df = df.drop(columns=['EDA'], axis=1)\n",
    "  df['values'] = df['values'].apply(lambda x: get_formatted_values(x)).astype(np.float64)\n",
    "  number_of_labels = get_number_of_labels(f'{MAIN_PATH}/{sample_path}')\n",
    "  chnaged_rate = (df.shape[0] - (number_of_labels * 40)) / df.shape[0]\n",
    "  if chnaged_rate < min_treashold :\n",
    "    print(f\"Rate of losed values is higher than {min_treashold} as {chnaged_rate}\")\n",
    "    return None\n",
    "  df_copy = df.copy()\n",
    "  if chnaged_rate > 0:\n",
    "    df_copy = df.iloc[:, :(number_of_labels * 40)]\n",
    "  else:\n",
    "    df_copy = df.iloc[:, :(df.shape[0] - (df.shape[0] % 40))]\n",
    "  return df\n"
   ]
  },
  {
   "cell_type": "code",
   "execution_count": null,
   "metadata": {
    "colab": {
     "base_uri": "https://localhost:8080/",
     "height": 1000
    },
    "executionInfo": {
     "elapsed": 71456,
     "status": "ok",
     "timestamp": 1735486630609,
     "user": {
      "displayName": "İbrahim Furkan",
      "userId": "03214658540359897285"
     },
     "user_tz": -180
    },
    "id": "yg4FoIpTfROZ",
    "outputId": "25e869ac-8ccf-4680-a638-318a5c6fbb1a"
   },
   "outputs": [],
   "source": [
    "\n",
    "all_eda_dataframe = pd.DataFrame()\n",
    "for EDA_file in all_data_infos:\n",
    "  bvp_dataframe = get_eda_dataframe(EDA_file)\n",
    "  if bvp_dataframe is not None:\n",
    "    all_eda_dataframe = pd.concat([all_eda_dataframe, bvp_dataframe])\n",
    "\n",
    "\n",
    "print(\"Gathering copmleted!\")\n",
    "all_eda_dataframe.index = [idx for idx in range(all_eda_dataframe.shape[0])]\n",
    "all_eda_dataframe['values'].describe()\n",
    "all_eda_dataframe.head()"
   ]
  },
  {
   "cell_type": "code",
   "execution_count": null,
   "metadata": {
    "colab": {
     "base_uri": "https://localhost:8080/",
     "height": 335
    },
    "executionInfo": {
     "elapsed": 13,
     "status": "ok",
     "timestamp": 1735486630609,
     "user": {
      "displayName": "İbrahim Furkan",
      "userId": "03214658540359897285"
     },
     "user_tz": -180
    },
    "id": "GceL2zupldfH",
    "outputId": "d90939b2-2de3-400f-84db-27e571fdacfd"
   },
   "outputs": [],
   "source": [
    "all_eda_dataframe['EDA_Filtered'] = savgol_filter(all_eda_dataframe['values'], 11, 5)\n",
    "all_eda_dataframe['EDA_Filtered'].describe()"
   ]
  },
  {
   "cell_type": "code",
   "execution_count": null,
   "metadata": {
    "colab": {
     "base_uri": "https://localhost:8080/",
     "height": 335
    },
    "executionInfo": {
     "elapsed": 12,
     "status": "ok",
     "timestamp": 1735486630609,
     "user": {
      "displayName": "İbrahim Furkan",
      "userId": "03214658540359897285"
     },
     "user_tz": -180
    },
    "id": "qrxX4qKelcHE",
    "outputId": "e91e7f6b-8b91-4107-9ea1-7d77470cde9b"
   },
   "outputs": [],
   "source": [
    "all_eda_dataframe[\"EDA_Filtered\"] = (all_eda_dataframe[\"EDA_Filtered\"] - all_eda_dataframe[\"EDA_Filtered\"].min()) / (all_eda_dataframe[\"EDA_Filtered\"].max() - all_eda_dataframe[\"EDA_Filtered\"].min()) * 100\n",
    "all_eda_dataframe['EDA_Filtered'].describe()"
   ]
  },
  {
   "cell_type": "code",
   "execution_count": null,
   "metadata": {
    "colab": {
     "base_uri": "https://localhost:8080/",
     "height": 300
    },
    "executionInfo": {
     "elapsed": 10,
     "status": "ok",
     "timestamp": 1735486630609,
     "user": {
      "displayName": "İbrahim Furkan",
      "userId": "03214658540359897285"
     },
     "user_tz": -180
    },
    "id": "3n9Jv22pm3pB",
    "outputId": "4db004e6-3b7a-4571-bac0-3416a89b9ee3"
   },
   "outputs": [],
   "source": [
    "df_scr_scl = nk.eda_phasic(all_eda_dataframe[\"EDA_Filtered\"], sampling_rate = 4)\n",
    "all_eda_dataframe[\"EDA_Tonic\"] = df_scr_scl[\"EDA_Tonic\"]\n",
    "all_eda_dataframe[\"EDA_Phasic\"] = df_scr_scl[\"EDA_Phasic\"]\n",
    "df_scr_scl.describe()"
   ]
  },
  {
   "cell_type": "code",
   "execution_count": null,
   "metadata": {
    "colab": {
     "base_uri": "https://localhost:8080/"
    },
    "executionInfo": {
     "elapsed": 407,
     "status": "ok",
     "timestamp": 1735495360217,
     "user": {
      "displayName": "İbrahim Furkan",
      "userId": "03214658540359897285"
     },
     "user_tz": -180
    },
    "id": "7yfSwFj_osPa",
    "outputId": "88005c3c-f39f-4a38-d3ca-9bac1e218cfc"
   },
   "outputs": [],
   "source": [
    "if 'values' in all_eda_dataframe.columns:\n",
    "  all_eda_dataframe = all_eda_dataframe.drop(columns=['values'], axis=1)\n",
    "\n",
    "main_path = f'{MAIN_PROCESSED_PATH} {DATASET_PROCEDURES[0]}'\n",
    "if not os.path.exists(main_path):\n",
    "  os.makedirs(main_path)\n",
    "\n",
    "for source_file_name in all_eda_dataframe['source_file'].unique():\n",
    "  subset_all_eda_dataframe = all_eda_dataframe[all_eda_dataframe['source_file'] == source_file_name].copy()\n",
    "  subset_all_eda_dataframe.drop(columns=['source_file'], inplace=True)\n",
    "  EDA_dataset = subset_all_eda_dataframe.copy()\n",
    "  EDA_dataset.drop(columns=['EDA_Tonic','EDA_Phasic'], inplace=True)\n",
    "  EDA_dataset = EDA_dataset.rename(columns={\"EDA_Filtered\": \"values\"})\n",
    "  # EDA_dataset.index = [idx for idx in range(EDA_dataset.shape[0])]\n",
    "\n",
    "  EDA_file_path = main_path\n",
    "\n",
    "  for file_path in source_file_name.split('/'):\n",
    "    EDA_file_path += f'/{file_path}'\n",
    "    if not os.path.exists(EDA_file_path):\n",
    "      os.makedirs(EDA_file_path)\n",
    "\n",
    "  EDA_file_name = f'{EDA_file_path}/EDA.csv'\n",
    "\n",
    "  if os.path.exists(EDA_file_name):\n",
    "    os.remove(EDA_file_name)\n",
    "  EDA_dataset.to_csv(EDA_file_name, index=True)\n",
    "  print(f'{EDA_file_name} file created')\n",
    "\n",
    "  EDA_Tonic_dataset = subset_all_eda_dataframe.copy()\n",
    "  EDA_Tonic_dataset.drop(columns=['EDA_Filtered','EDA_Phasic'], inplace=True)\n",
    "  EDA_Tonic_dataset = EDA_Tonic_dataset.rename(columns={\"EDA_Tonic\": \"values\"})\n",
    "  # EDA_Tonic_dataset.index = [idx for idx in range(EDA_Tonic_dataset.shape[0])]\n",
    "  EDA_Tonic_file = f'{EDA_file_path}/EDA_Tonic.csv'\n",
    "\n",
    "  if os.path.exists(EDA_Tonic_file):\n",
    "    os.remove(EDA_Tonic_file)\n",
    "  EDA_Tonic_dataset.to_csv(EDA_Tonic_file, index=True)\n",
    "  print(f'{EDA_Tonic_file} file created')\n",
    "\n",
    "  EDA_Phasic_dataset = subset_all_eda_dataframe.copy()\n",
    "  EDA_Phasic_dataset.drop(columns=['EDA_Tonic','EDA_Filtered'], inplace=True)\n",
    "  EDA_Phasic_dataset = EDA_Phasic_dataset.rename(columns={\"EDA_Phasic\": \"values\"})\n",
    "  # EDA_Phasic_dataset.index = [idx for idx in range(EDA_Phasic_dataset.shape[0])]\n",
    "  EDA_Phasic_file = f'{EDA_file_path}/EDA_Phasic.csv'\n",
    "\n",
    "  if os.path.exists(EDA_Phasic_file):\n",
    "    os.remove(EDA_Phasic_file)\n",
    "  EDA_Phasic_dataset.to_csv(EDA_Phasic_file, index=True)\n",
    "  print(f'{EDA_Phasic_file} file created')\n"
   ]
  },
  {
   "cell_type": "code",
   "execution_count": null,
   "metadata": {
    "colab": {
     "base_uri": "https://localhost:8080/"
    },
    "executionInfo": {
     "elapsed": 26024,
     "status": "ok",
     "timestamp": 1735495475151,
     "user": {
      "displayName": "İbrahim Furkan",
      "userId": "03214658540359897285"
     },
     "user_tz": -180
    },
    "id": "Jlb7Q6K6Coy3",
    "outputId": "561cb5ac-20a1-440d-c9cb-83282c260d1a"
   },
   "outputs": [],
   "source": [
    "src_main_path = f'{MAIN_PROCESSED_PATH} {DATASET_PROCEDURES[0]}'\n",
    "main_path = f'{MAIN_PROCESSED_PATH} {DATASET_PROCEDURES[1]}'\n",
    "if not os.path.exists(main_path):\n",
    "  os.makedirs(main_path)\n",
    "\n",
    "for source_file_name in all_eda_dataframe['source_file'].unique():\n",
    "\n",
    "  src_EDA_file_path = src_main_path\n",
    "  EDA_file_path = main_path\n",
    "\n",
    "  for file_path in source_file_name.split('/'):\n",
    "    src_EDA_file_path += f'/{file_path}'\n",
    "    EDA_file_path += f'/{file_path}'\n",
    "    if not os.path.exists(EDA_file_path):\n",
    "      os.makedirs(EDA_file_path)\n",
    "\n",
    "  src_EDA_file_name = f'{src_EDA_file_path}/EDA.csv'\n",
    "  EDA_file_name = f'{EDA_file_path}/EDA.csv'\n",
    "\n",
    "  if os.path.exists(EDA_file_name):\n",
    "    os.remove(EDA_file_name)\n",
    "\n",
    "  if os.path.exists(src_EDA_file_name):\n",
    "    shutil.copy(src_EDA_file_name, EDA_file_name)\n",
    "    print(f'{EDA_file_name} file created')\n",
    "\n",
    "  src_EDA_Tonic_file = f'{src_EDA_file_path}/EDA_Tonic.csv'\n",
    "  EDA_Tonic_file = f'{EDA_file_path}/EDA_Tonic.csv'\n",
    "\n",
    "  if os.path.exists(EDA_Tonic_file):\n",
    "    os.remove(EDA_Tonic_file)\n",
    "\n",
    "  if os.path.exists(src_EDA_Tonic_file):\n",
    "    shutil.copy(src_EDA_Tonic_file, EDA_Tonic_file)\n",
    "    print(f'{EDA_Tonic_file} file created')\n",
    "\n",
    "  src_EDA_Phasic_file = f'{src_EDA_file_path}/EDA_Phasic.csv'\n",
    "  EDA_Phasic_file = f'{EDA_file_path}/EDA_Phasic.csv'\n",
    "\n",
    "  if os.path.exists(EDA_Phasic_file):\n",
    "    os.remove(EDA_Phasic_file)\n",
    "\n",
    "  if os.path.exists(src_EDA_Phasic_file):\n",
    "    shutil.copy(src_EDA_Phasic_file, EDA_Phasic_file)\n",
    "    print(f'{EDA_Phasic_file} file created')\n",
    "\n"
   ]
  },
  {
   "cell_type": "code",
   "execution_count": null,
   "metadata": {
    "id": "hJOrYzMNmSHM"
   },
   "outputs": [],
   "source": []
  }
 ],
 "metadata": {
  "colab": {
   "authorship_tag": "ABX9TyOaQOmWbNNCaGyjGEHjRo3x",
   "machine_shape": "hm",
   "provenance": []
  },
  "kernelspec": {
   "display_name": "Python 3 (ipykernel)",
   "language": "python",
   "name": "python3"
  },
  "language_info": {
   "codemirror_mode": {
    "name": "ipython",
    "version": 3
   },
   "file_extension": ".py",
   "mimetype": "text/x-python",
   "name": "python",
   "nbconvert_exporter": "python",
   "pygments_lexer": "ipython3",
   "version": "3.9.13"
  },
  "varInspector": {
   "cols": {
    "lenName": 16,
    "lenType": 16,
    "lenVar": 40
   },
   "kernels_config": {
    "python": {
     "delete_cmd_postfix": "",
     "delete_cmd_prefix": "del ",
     "library": "var_list.py",
     "varRefreshCmd": "print(var_dic_list())"
    },
    "r": {
     "delete_cmd_postfix": ") ",
     "delete_cmd_prefix": "rm(",
     "library": "var_list.r",
     "varRefreshCmd": "cat(var_dic_list()) "
    }
   },
   "types_to_exclude": [
    "module",
    "function",
    "builtin_function_or_method",
    "instance",
    "_Feature"
   ],
   "window_display": false
  }
 },
 "nbformat": 4,
 "nbformat_minor": 1
}
